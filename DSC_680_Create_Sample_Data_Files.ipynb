{
  "nbformat": 4,
  "nbformat_minor": 0,
  "metadata": {
    "colab": {
      "name": "DSC_680_Create_Sample_Data_Files.ipynb",
      "provenance": [],
      "collapsed_sections": [],
      "machine_shape": "hm",
      "authorship_tag": "ABX9TyMqFnukzICTV/QMEs3B1bQA",
      "include_colab_link": true
    },
    "kernelspec": {
      "name": "python3",
      "display_name": "Python 3"
    },
    "language_info": {
      "name": "python"
    },
    "accelerator": "GPU"
  },
  "cells": [
    {
      "cell_type": "markdown",
      "metadata": {
        "id": "view-in-github",
        "colab_type": "text"
      },
      "source": [
        "<a href=\"https://colab.research.google.com/github/henryjhu/Anomaly-Detection-in-Wire-Activities/blob/main/DSC_680_Create_Sample_Data_Files.ipynb\" target=\"_parent\"><img src=\"https://colab.research.google.com/assets/colab-badge.svg\" alt=\"Open In Colab\"/></a>"
      ]
    },
    {
      "cell_type": "markdown",
      "metadata": {
        "id": "sb3PbbWC0L51"
      },
      "source": [
        "# **DSC-680-Z1 Research Practicum** <BR> Machine Learning"
      ]
    },
    {
      "cell_type": "markdown",
      "metadata": {
        "id": "gBzyuneg0nNU"
      },
      "source": [
        "## **Project Description**\n",
        "A global bank sought to find new and innovative means for detecting and preventing fraud in their wire transactions. Their goal is through machine learning to arrive at scenario detection rules which could be customized with parameters specific for each cohort of customers. The immediate challenge was that the data provided had no labels. Therefore, unsupervised machine learning techniques were first employed for this research project. After the labels have been identified, supervised machine learning techniques were then employed with selected tuning parameters to increase both the sensitivity and specificity percentages of both classes."
      ]
    },
    {
      "cell_type": "markdown",
      "metadata": {
        "id": "YUE-xhQ40sNr"
      },
      "source": [
        "<b>Purpose:</b><br>\n",
        "Carry out data sampling.<br>\n",
        "<b>Universtiy Name:</b> Utica College <br>\n",
        "<b>Course Name:</b> DSC-680-Z1 Research Practicum <br>\n",
        "<b>Student Name:</b> Henry J. Hu <br>\n",
        "<b>Program Director Name:</b> Dr. McCarthy, Michael <br>\n",
        "<b>Runtime Environment:</b> Google Colab<br>\n",
        "<b>Programming Language:</b> Python <br>\n",
        "<b>Sample Data Frame:</b>\n",
        "Six random samples of labeled international wires belonging to 139 customers from 3 continents for the entire year of 2020.<br>\n",
        "<b> Last Update:</b> July 21st, 2021"
      ]
    },
    {
      "cell_type": "markdown",
      "metadata": {
        "id": "NMMMqxrAEMnC"
      },
      "source": [
        "## **Mounting Google Drive**"
      ]
    },
    {
      "cell_type": "code",
      "metadata": {
        "id": "Ovr70FQWyvvY",
        "colab": {
          "base_uri": "https://localhost:8080/"
        },
        "outputId": "086a300a-359b-4d2f-97d5-977a52118c9a"
      },
      "source": [
        "from google.colab import drive\n",
        "drive.mount('/content/gdrive/', force_remount=True)"
      ],
      "execution_count": 2,
      "outputs": [
        {
          "output_type": "stream",
          "text": [
            "Mounted at /content/gdrive/\n"
          ],
          "name": "stdout"
        }
      ]
    },
    {
      "cell_type": "markdown",
      "metadata": {
        "id": "WGsaUOOmEZXJ"
      },
      "source": [
        "## **Importing Libraries**"
      ]
    },
    {
      "cell_type": "code",
      "metadata": {
        "id": "kEqZ5d75z_rg"
      },
      "source": [
        "# Importing libraries\n",
        "import random\n",
        "import pandas as pd"
      ],
      "execution_count": 14,
      "outputs": []
    },
    {
      "cell_type": "markdown",
      "metadata": {
        "id": "CUn_dKOdEYDh"
      },
      "source": [
        "## **Importing Data into Google Colab**"
      ]
    },
    {
      "cell_type": "code",
      "metadata": {
        "id": "EVumC16bF1U-"
      },
      "source": [
        "# Importing data\n",
        "input_data = pd.read_csv(\"gdrive/MyDrive/DSC-380/Final_cleaned_data.txt\")"
      ],
      "execution_count": 4,
      "outputs": []
    },
    {
      "cell_type": "markdown",
      "metadata": {
        "id": "FDkV0boG3k-J"
      },
      "source": [
        "## **Random Sampling**"
      ]
    },
    {
      "cell_type": "code",
      "metadata": {
        "id": "IYc__y7AFZln"
      },
      "source": [
        "sample_4M = input_data.sample(n=4000000, random_state=42)\n",
        "sample_100K = input_data.sample(n=100000, random_state=42)"
      ],
      "execution_count": 12,
      "outputs": []
    },
    {
      "cell_type": "markdown",
      "metadata": {
        "id": "EuTWuYNpZxRa"
      },
      "source": [
        "## **Backup Data Frames for Supervised Machine Learning**"
      ]
    },
    {
      "cell_type": "code",
      "metadata": {
        "id": "koXciS14Z6GX"
      },
      "source": [
        "sample_4M.to_csv('/content/gdrive/MyDrive/DSC-380/sample_df_4M.txt',index=False)\n",
        "sample_100K.to_csv('/content/gdrive/MyDrive/DSC-380/sample_df_100K.txt',index=False)"
      ],
      "execution_count": 13,
      "outputs": []
    }
  ]
}