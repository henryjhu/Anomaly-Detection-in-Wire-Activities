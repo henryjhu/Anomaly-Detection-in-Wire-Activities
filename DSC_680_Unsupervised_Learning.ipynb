{
  "nbformat": 4,
  "nbformat_minor": 0,
  "metadata": {
    "colab": {
      "name": "DSC_680_Unsupervised_Learning.ipynb",
      "provenance": [],
      "collapsed_sections": [],
      "machine_shape": "hm",
      "authorship_tag": "ABX9TyMHKSR0NyDPqs7E03ZwaRJs",
      "include_colab_link": true
    },
    "kernelspec": {
      "name": "python3",
      "display_name": "Python 3"
    },
    "language_info": {
      "name": "python"
    },
    "accelerator": "GPU"
  },
  "cells": [
    {
      "cell_type": "markdown",
      "metadata": {
        "id": "view-in-github",
        "colab_type": "text"
      },
      "source": [
        "<a href=\"https://colab.research.google.com/github/henryjhu/Anomaly-Detection-in-Wire-Activities/blob/main/DSC_680_Unsupervised_Learning.ipynb\" target=\"_parent\"><img src=\"https://colab.research.google.com/assets/colab-badge.svg\" alt=\"Open In Colab\"/></a>"
      ]
    },
    {
      "cell_type": "markdown",
      "metadata": {
        "id": "sb3PbbWC0L51"
      },
      "source": [
        "# **DSC-680-Z1 Research Practicum** <BR> Machine Learning"
      ]
    },
    {
      "cell_type": "markdown",
      "metadata": {
        "id": "gBzyuneg0nNU"
      },
      "source": [
        "## **Project Description**\n",
        "A global bank sought to find new and innovative means for detecting and preventing fraud in their wire transactions. Their goal is through machine learning to arrive at scenario detection rules which could be customized with parameters specific for each cohort of customers. The immediate challenge was that the data provided had no labels. Therefore, unsupervised machine learning techniques were first employed for this research project. After the labels have been identified, supervised machine learning techniques were then employed with selected tuning parameters to increase both the sensitivity and specificity percentages of both classes."
      ]
    },
    {
      "cell_type": "markdown",
      "metadata": {
        "id": "YUE-xhQ40sNr"
      },
      "source": [
        "<b>Purpose:</b><br>\n",
        "Carry out unsupervised machine learnings with the sample data.<br>\n",
        "<b>Universtiy Name:</b> Utica College <br>\n",
        "<b>Course Name:</b> DSC-680-Z1 Research Practicum <br>\n",
        "<b>Student Name:</b> Henry J. Hu <br>\n",
        "<b>Program Director Name:</b> Dr. McCarthy, Michael <br>\n",
        "<b>Runtime Environment:</b> Google Colab<br>\n",
        "<b>Programming Language:</b> Python <br>\n",
        "<b>Sample Data Frame:</b>\n",
        "A random sample of unlabeled international wires belonging to 139 customers from 3 continents for the entire year of 2020.<br>\n",
        "<b> Last Update:</b> August 5th, 2021"
      ]
    },
    {
      "cell_type": "markdown",
      "metadata": {
        "id": "NMMMqxrAEMnC"
      },
      "source": [
        "## **Mounting Google Drive**"
      ]
    },
    {
      "cell_type": "code",
      "metadata": {
        "id": "Ovr70FQWyvvY"
      },
      "source": [
        "from google.colab import drive\n",
        "drive.mount('/content/gdrive/', force_remount=True)"
      ],
      "execution_count": null,
      "outputs": []
    },
    {
      "cell_type": "markdown",
      "metadata": {
        "id": "WGsaUOOmEZXJ"
      },
      "source": [
        "## **Importing Libraries**"
      ]
    },
    {
      "cell_type": "code",
      "metadata": {
        "id": "kEqZ5d75z_rg"
      },
      "source": [
        "# Importing libraries\n",
        "import io\n",
        "import pandas as pd\n",
        "import numpy as np\n",
        "import seaborn as sns\n",
        "import matplotlib.pyplot as plt\n",
        "import xgboost as xgb\n",
        "import seaborn as sns\n",
        "import sklearn\n",
        "import traceback\n",
        "import time\n",
        "import pytz\n",
        "from datetime import datetime\n",
        "from sklearn import metrics\n",
        "from scipy.stats import rankdata\n",
        "from numpy import quantile, where, random\n",
        "from sklearn.preprocessing import StandardScaler\n",
        "from sklearn.model_selection import train_test_split\n",
        "from sklearn import model_selection, preprocessing\n",
        "from sklearn.datasets import make_blobs\n",
        "from sklearn.metrics import classification_report, accuracy_score\n",
        "from sklearn.neural_network import MLPRegressor\n",
        "from sklearn.neural_network import MLPClassifier\n",
        "from sklearn.neighbors import LocalOutlierFactor\n",
        "from sklearn.linear_model import LogisticRegression\n",
        "from sklearn.model_selection import RepeatedStratifiedKFold\n",
        "from sklearn.model_selection import cross_val_score, KFold\n",
        "from sklearn.model_selection import cross_validate \n",
        "from sklearn.model_selection import cross_val_predict\n",
        "from sklearn.ensemble import (RandomForestClassifier, AdaBoostClassifier, GradientBoostingClassifier, \n",
        "                              ExtraTreesClassifier, IsolationForest, VotingClassifier, StackingClassifier)"
      ],
      "execution_count": null,
      "outputs": []
    },
    {
      "cell_type": "markdown",
      "metadata": {
        "id": "CUn_dKOdEYDh"
      },
      "source": [
        "## **Importing Data Into Google Colab**"
      ]
    },
    {
      "cell_type": "code",
      "metadata": {
        "id": "EVumC16bF1U-"
      },
      "source": [
        "# Importing data and looking at structure\n",
        "input_data = pd.read_csv(\"gdrive/MyDrive/DSC-380/sample_df_4M.txt\")"
      ],
      "execution_count": null,
      "outputs": []
    },
    {
      "cell_type": "code",
      "metadata": {
        "id": "H-_ZzKNUMR6-"
      },
      "source": [
        "input_data.head()"
      ],
      "execution_count": null,
      "outputs": []
    },
    {
      "cell_type": "code",
      "metadata": {
        "id": "slPYPYDLMZpU"
      },
      "source": [
        "input_data.shape"
      ],
      "execution_count": null,
      "outputs": []
    },
    {
      "cell_type": "code",
      "metadata": {
        "id": "cyrpO5aFMbyE"
      },
      "source": [
        "input_data.dtypes"
      ],
      "execution_count": null,
      "outputs": []
    },
    {
      "cell_type": "markdown",
      "metadata": {
        "id": "svo7MpIDGsjU"
      },
      "source": [
        "## **Correlation Test**"
      ]
    },
    {
      "cell_type": "code",
      "metadata": {
        "id": "UaGMsad1G0wN"
      },
      "source": [
        "input_data['TRXN_MONTH'].corr(input_data['TRANSACTION_AMOUNT'])"
      ],
      "execution_count": null,
      "outputs": []
    },
    {
      "cell_type": "markdown",
      "metadata": {
        "id": "nCKWyCr5Ep5x"
      },
      "source": [
        "## **Data Segregation**"
      ]
    },
    {
      "cell_type": "code",
      "metadata": {
        "id": "D-zcgIh5GUS7"
      },
      "source": [
        "NN_103_df = input_data[(input_data['CONTINENT_CODE']=='NN') & (input_data['SWIFT_MSG_TYPE']==103)]\n",
        "NN_103_df.head()\n",
        "NN_103_df.shape"
      ],
      "execution_count": null,
      "outputs": []
    },
    {
      "cell_type": "code",
      "metadata": {
        "id": "0yh25P7wXWy1"
      },
      "source": [
        "NN_202_df = input_data[(input_data['CONTINENT_CODE']=='NN') & (input_data['SWIFT_MSG_TYPE']==202)]\n",
        "NN_202_df.head()\n",
        "NN_202_df.shape"
      ],
      "execution_count": null,
      "outputs": []
    },
    {
      "cell_type": "code",
      "metadata": {
        "id": "0JrlLjz3L7OU"
      },
      "source": [
        "EU_103_df = input_data[(input_data['CONTINENT_CODE']=='EU') & (input_data['SWIFT_MSG_TYPE']==103)]\n",
        "EU_103_df.head()\n",
        "EU_103_df.shape"
      ],
      "execution_count": null,
      "outputs": []
    },
    {
      "cell_type": "code",
      "metadata": {
        "id": "BktPI-sqX9Ez"
      },
      "source": [
        "EU_202_df = input_data[(input_data['CONTINENT_CODE']=='EU') & (input_data['SWIFT_MSG_TYPE']==202)]\n",
        "EU_202_df.head()\n",
        "EU_202_df.shape"
      ],
      "execution_count": null,
      "outputs": []
    },
    {
      "cell_type": "code",
      "metadata": {
        "id": "taSgSgYrXipu"
      },
      "source": [
        "AS_103_df = input_data[(input_data['CONTINENT_CODE']=='EU') & (input_data['SWIFT_MSG_TYPE']==103)]\n",
        "AS_103_df.head()\n",
        "AS_103_df.shape"
      ],
      "execution_count": null,
      "outputs": []
    },
    {
      "cell_type": "code",
      "metadata": {
        "id": "tga3zfc5YJr7"
      },
      "source": [
        "AS_202_df = input_data[(input_data['CONTINENT_CODE']=='EU') & (input_data['SWIFT_MSG_TYPE']==202)]\n",
        "AS_202_df.head()\n",
        "AS_202_df.shape"
      ],
      "execution_count": null,
      "outputs": []
    },
    {
      "cell_type": "markdown",
      "metadata": {
        "id": "G_XuatApFJ1_"
      },
      "source": [
        "## **Unsupervised Ensemble Learner**"
      ]
    },
    {
      "cell_type": "code",
      "metadata": {
        "id": "CBs1jgvj5M8p"
      },
      "source": [
        "################################################################################\n",
        "#\n",
        "# Purpose: Function to rank the outlier scores\n",
        "#\n",
        "################################################################################\n",
        "\n",
        "def rank_fun(arr):\n",
        "    return rankdata(arr, method = 'dense')"
      ],
      "execution_count": null,
      "outputs": []
    },
    {
      "cell_type": "code",
      "metadata": {
        "id": "wRST4IxARkIx"
      },
      "source": [
        "####################################################################################################\n",
        "#\n",
        "# Purpose: Function to calculate outlier scores for a given input data set.\n",
        "# Machine learning method: Ensemble learner of Local Outlier Factor and Isolaion Forest.\n",
        "# Score to fraud label rule: A score smaller than the offset vaLue is fraud and greater \n",
        "# than or equal to the offset value is not fraud.\n",
        "#\n",
        "####################################################################################################\n",
        "\n",
        "def ensemble_fun (df, n_neighbors_n=20, leaf_size=30, pairwise_n=2, n_estimators_n=100, random_state_n=42, contamination_n=0.05):\n",
        "\n",
        "  # Include only the relavent independent varialbes\n",
        "  X=df[['TRXN_MONTH','TRANSACTION_AMOUNT']]\n",
        "  \n",
        "  # Scale and center the data around the mean of 0\n",
        "  scaling=StandardScaler()\n",
        "  X=scaling.fit_transform(X)\n",
        "\n",
        "  # Initialize the log variable\n",
        "  class log:\n",
        "    def_tz = pytz.timezone('America/New_York')\n",
        "    def info(text):        \n",
        "        print(f'{datetime.now(log.def_tz).replace(microsecond=0)} : {text}');\n",
        "\n",
        "  # Initialize an enumerate list of estimators\n",
        "  estimator_list = {\n",
        "    # novelty=False because this is outlier detection.\n",
        "    # pairwise_n = 2 for Euclidian distance and pairwise_n = 1 for Manhattan distance.\n",
        "    'LOF':LocalOutlierFactor(novelty=False, n_neighbors=n_neighbors_n, algorithm='auto', leaf_size=30, \n",
        "                             metric='minkowski', p=pairwise_n, metric_params=None, contamination=contamination_n),\n",
        "    'iForest':IsolationForest(n_estimators=n_estimators_n, random_state=random_state_n, max_samples=len(X), contamination=contamination_n)\n",
        "  }\n",
        "\n",
        "  # Input data frame size\n",
        "  n_rows_in = X.shape[0]\n",
        "  n_features_in = X.shape[1]\n",
        "\n",
        "  # Initializing score arrayS\n",
        "  ensemble_scores = np.zeros([n_rows_in, len(estimator_list)])\n",
        "  final_scores = np.zeros([n_rows_in, 1])\n",
        "\n",
        "  # Fitting individual models in the enumerate list\n",
        "  log.info (f'Input data frame size: Rows = {n_rows_in}, Columns = {n_features_in}')\n",
        "\n",
        "  for i, (clf_name, clf) in enumerate(estimator_list.items()):\n",
        "    try:\n",
        "        clf.fit(X)\n",
        "        if clf_name == \"LOF\":\n",
        "            log.info(f'Fitting {clf_name}')\n",
        "            log.info(f'LOF offset_ = {clf.offset_}')\n",
        "            ensemble_scores[:, i] = clf.negative_outlier_factor_\n",
        "        else:\n",
        "            log.info(f'Fitting {clf_name}')\n",
        "            log.info(f'iForest offset_ = {clf.offset_}')\n",
        "            ensemble_scores[:, i] = clf.score_samples(X)\n",
        "    except:\n",
        "            log.info(traceback.print_exc())\n",
        "    else:    \n",
        "            log.info(f'{clf_name} is fitted successfully with {len(ensemble_scores)} scores')  \n",
        "\n",
        "  # Repalce NaN with 0's\n",
        "  ensemble_scores=np.nan_to_num(ensemble_scores) \n",
        "\n",
        "  # Transforming the outlier scores into ranking values\n",
        "  ensemble_scores = np.apply_along_axis(rank_fun, 0, ensemble_scores)\n",
        "\n",
        "  # Normalize the ranking values of both algorithms between 0 and 1\n",
        "  ensemble_scores = preprocessing.MinMaxScaler().fit_transform(ensemble_scores)\n",
        "\n",
        "  # Select the maximum of two ranking values\n",
        "  final_scores = np.max(ensemble_scores, axis = 1)\n",
        "\n",
        "  # Make a copy of final score array\n",
        "  pred_y = np.copy(final_scores) \n",
        "\n",
        "  score_min = np.min(pred_y)\n",
        "  score_max = np.max(pred_y)\n",
        "\n",
        "  log.info (f'Minimum Score = {score_min}, Maximum Score = {score_max}')\n",
        "\n",
        "  # Labeling all scores < offset value as fraud and >= offset value as non-fraud\n",
        "  offset = 0.1\n",
        "  pred_y[pred_y < offset] = -999\n",
        "  pred_y[pred_y >= offset] = 0.0\n",
        "  pred_y[pred_y == -999] = 1.0\n",
        "  pred_y = pred_y.astype(int)\n",
        "\n",
        "  log.info (f'Real offset: {offset}')\n",
        "\n",
        "  fraud_ct = np.count_nonzero(pred_y == 1.0)\n",
        "  fraud_pct = fraud_ct/n_rows_in\n",
        "\n",
        "  log.info (f'Percentage of suspicious transactions: {fraud_pct}')\n",
        "\n",
        "  df_arr=df.to_numpy() # Converting the input data frame to a data array\n",
        "  df_arr_f=np.column_stack( (df_arr, pred_y)) # Adding the scores to the input data array\n",
        "\n",
        "  # Converting the final combinded data array back to a data frame\n",
        "  df_f = pd.DataFrame(df_arr_f, columns = ['TRANSACTION_ID','TRANSACTION_TIME','TRXN_MONTH','CLIENT_ID','COUNTRY_NAME','COUNTRY_CODE','CONTINENT_NAME',\t'CONTINENT_CODE','SWIFT_MSG_TYPE','AVG_TRXN_AMT','TRANSACTION_AMOUNT','FRAUD_LABEL']) \n",
        "\n",
        "  # Output the final data frame size\n",
        "  n_rows_o = df_f.shape[0]\n",
        "  n_features_o = df_f.shape[1]\n",
        "  log.info (f'Output data frame size: Rows = {n_rows_o}, Columns = {n_features_o}')\n",
        "\n",
        "  return df_f"
      ],
      "execution_count": null,
      "outputs": []
    },
    {
      "cell_type": "code",
      "metadata": {
        "id": "cxQ88y_MCLU1",
        "colab": {
          "base_uri": "https://localhost:8080/",
          "height": 807
        },
        "outputId": "03cbd264-8a0f-4f97-c9ba-a40301b87fa5"
      },
      "source": [
        "NN_103_score_df = ensemble_fun (NN_103_df, n_neighbors_n=20, leaf_size=30, pairwise_n=2, n_estimators_n=100, random_state_n=42, contamination_n='auto')\n",
        "NN_103_score_df"
      ],
      "execution_count": 16,
      "outputs": [
        {
          "output_type": "stream",
          "text": [
            "2021-08-07 20:58:56-04:00 : Input data frame size: Rows = 597651, Columns = 2\n",
            "2021-08-07 20:59:22-04:00 : Fitting LOF\n",
            "2021-08-07 20:59:22-04:00 : LOF offset_ = -1.5\n",
            "2021-08-07 20:59:22-04:00 : LOF is fitted successfully with 597651 scores\n",
            "2021-08-07 20:59:46-04:00 : Fitting iForest\n",
            "2021-08-07 20:59:46-04:00 : iForest offset_ = -0.5\n",
            "2021-08-07 21:00:20-04:00 : iForest is fitted successfully with 597651 scores\n",
            "2021-08-07 21:00:21-04:00 : Minimum Score = 0.002829193851218697, Maximum Score = 1.0\n",
            "2021-08-07 21:00:21-04:00 : Real offset: 0.1\n",
            "2021-08-07 21:00:21-04:00 : Percentage of suspicious transactions: 0.007661662073685144\n",
            "2021-08-07 21:00:21-04:00 : Output data frame size: Rows = 597651, Columns = 12\n"
          ],
          "name": "stdout"
        },
        {
          "output_type": "execute_result",
          "data": {
            "text/html": [
              "<div>\n",
              "<style scoped>\n",
              "    .dataframe tbody tr th:only-of-type {\n",
              "        vertical-align: middle;\n",
              "    }\n",
              "\n",
              "    .dataframe tbody tr th {\n",
              "        vertical-align: top;\n",
              "    }\n",
              "\n",
              "    .dataframe thead th {\n",
              "        text-align: right;\n",
              "    }\n",
              "</style>\n",
              "<table border=\"1\" class=\"dataframe\">\n",
              "  <thead>\n",
              "    <tr style=\"text-align: right;\">\n",
              "      <th></th>\n",
              "      <th>TRANSACTION_ID</th>\n",
              "      <th>TRANSACTION_TIME</th>\n",
              "      <th>TRXN_MONTH</th>\n",
              "      <th>CLIENT_ID</th>\n",
              "      <th>COUNTRY_NAME</th>\n",
              "      <th>COUNTRY_CODE</th>\n",
              "      <th>CONTINENT_NAME</th>\n",
              "      <th>CONTINENT_CODE</th>\n",
              "      <th>SWIFT_MSG_TYPE</th>\n",
              "      <th>AVG_TRXN_AMT</th>\n",
              "      <th>TRANSACTION_AMOUNT</th>\n",
              "      <th>FRAUD_LABEL</th>\n",
              "    </tr>\n",
              "  </thead>\n",
              "  <tbody>\n",
              "    <tr>\n",
              "      <th>0</th>\n",
              "      <td>11840677</td>\n",
              "      <td>2020-12-09 13:52:20</td>\n",
              "      <td>12</td>\n",
              "      <td>7116485839</td>\n",
              "      <td>United States of America</td>\n",
              "      <td>US</td>\n",
              "      <td>North America</td>\n",
              "      <td>NN</td>\n",
              "      <td>103</td>\n",
              "      <td>105235</td>\n",
              "      <td>1.07625e+06</td>\n",
              "      <td>0</td>\n",
              "    </tr>\n",
              "    <tr>\n",
              "      <th>1</th>\n",
              "      <td>8097698</td>\n",
              "      <td>2020-08-26 13:31:42</td>\n",
              "      <td>8</td>\n",
              "      <td>7117321565</td>\n",
              "      <td>United States of America</td>\n",
              "      <td>US</td>\n",
              "      <td>North America</td>\n",
              "      <td>NN</td>\n",
              "      <td>103</td>\n",
              "      <td>112149</td>\n",
              "      <td>7035.95</td>\n",
              "      <td>0</td>\n",
              "    </tr>\n",
              "    <tr>\n",
              "      <th>2</th>\n",
              "      <td>9906741</td>\n",
              "      <td>2020-10-16 10:06:55</td>\n",
              "      <td>10</td>\n",
              "      <td>6249091671</td>\n",
              "      <td>United States of America</td>\n",
              "      <td>US</td>\n",
              "      <td>North America</td>\n",
              "      <td>NN</td>\n",
              "      <td>103</td>\n",
              "      <td>111656</td>\n",
              "      <td>508440</td>\n",
              "      <td>0</td>\n",
              "    </tr>\n",
              "    <tr>\n",
              "      <th>3</th>\n",
              "      <td>7130576</td>\n",
              "      <td>2020-07-29 09:16:55</td>\n",
              "      <td>7</td>\n",
              "      <td>6249205053</td>\n",
              "      <td>United States of America</td>\n",
              "      <td>US</td>\n",
              "      <td>North America</td>\n",
              "      <td>NN</td>\n",
              "      <td>103</td>\n",
              "      <td>116543</td>\n",
              "      <td>161700</td>\n",
              "      <td>0</td>\n",
              "    </tr>\n",
              "    <tr>\n",
              "      <th>4</th>\n",
              "      <td>1780716</td>\n",
              "      <td>2020-02-25 12:40:18</td>\n",
              "      <td>2</td>\n",
              "      <td>7117321565</td>\n",
              "      <td>United States of America</td>\n",
              "      <td>US</td>\n",
              "      <td>North America</td>\n",
              "      <td>NN</td>\n",
              "      <td>103</td>\n",
              "      <td>137211</td>\n",
              "      <td>262892</td>\n",
              "      <td>0</td>\n",
              "    </tr>\n",
              "    <tr>\n",
              "      <th>...</th>\n",
              "      <td>...</td>\n",
              "      <td>...</td>\n",
              "      <td>...</td>\n",
              "      <td>...</td>\n",
              "      <td>...</td>\n",
              "      <td>...</td>\n",
              "      <td>...</td>\n",
              "      <td>...</td>\n",
              "      <td>...</td>\n",
              "      <td>...</td>\n",
              "      <td>...</td>\n",
              "      <td>...</td>\n",
              "    </tr>\n",
              "    <tr>\n",
              "      <th>597646</th>\n",
              "      <td>11912924</td>\n",
              "      <td>2020-12-11 09:00:58</td>\n",
              "      <td>12</td>\n",
              "      <td>7116485839</td>\n",
              "      <td>United States of America</td>\n",
              "      <td>US</td>\n",
              "      <td>North America</td>\n",
              "      <td>NN</td>\n",
              "      <td>103</td>\n",
              "      <td>105235</td>\n",
              "      <td>1829.03</td>\n",
              "      <td>0</td>\n",
              "    </tr>\n",
              "    <tr>\n",
              "      <th>597647</th>\n",
              "      <td>2411411</td>\n",
              "      <td>2020-03-11 15:34:01</td>\n",
              "      <td>3</td>\n",
              "      <td>6249091671</td>\n",
              "      <td>United States of America</td>\n",
              "      <td>US</td>\n",
              "      <td>North America</td>\n",
              "      <td>NN</td>\n",
              "      <td>103</td>\n",
              "      <td>260830</td>\n",
              "      <td>107040</td>\n",
              "      <td>0</td>\n",
              "    </tr>\n",
              "    <tr>\n",
              "      <th>597648</th>\n",
              "      <td>8770765</td>\n",
              "      <td>2020-09-15 10:05:43</td>\n",
              "      <td>9</td>\n",
              "      <td>7117321565</td>\n",
              "      <td>United States of America</td>\n",
              "      <td>US</td>\n",
              "      <td>North America</td>\n",
              "      <td>NN</td>\n",
              "      <td>103</td>\n",
              "      <td>107629</td>\n",
              "      <td>580661</td>\n",
              "      <td>0</td>\n",
              "    </tr>\n",
              "    <tr>\n",
              "      <th>597649</th>\n",
              "      <td>10019468</td>\n",
              "      <td>2020-10-20 14:40:45</td>\n",
              "      <td>10</td>\n",
              "      <td>7116485839</td>\n",
              "      <td>United States of America</td>\n",
              "      <td>US</td>\n",
              "      <td>North America</td>\n",
              "      <td>NN</td>\n",
              "      <td>103</td>\n",
              "      <td>111656</td>\n",
              "      <td>9147.1</td>\n",
              "      <td>0</td>\n",
              "    </tr>\n",
              "    <tr>\n",
              "      <th>597650</th>\n",
              "      <td>1429804</td>\n",
              "      <td>2020-02-13 10:06:57</td>\n",
              "      <td>2</td>\n",
              "      <td>7116283667</td>\n",
              "      <td>Cayman Islands</td>\n",
              "      <td>KY</td>\n",
              "      <td>North America</td>\n",
              "      <td>NN</td>\n",
              "      <td>103</td>\n",
              "      <td>137211</td>\n",
              "      <td>19133.4</td>\n",
              "      <td>0</td>\n",
              "    </tr>\n",
              "  </tbody>\n",
              "</table>\n",
              "<p>597651 rows × 12 columns</p>\n",
              "</div>"
            ],
            "text/plain": [
              "       TRANSACTION_ID     TRANSACTION_TIME  ... TRANSACTION_AMOUNT FRAUD_LABEL\n",
              "0            11840677  2020-12-09 13:52:20  ...        1.07625e+06           0\n",
              "1             8097698  2020-08-26 13:31:42  ...            7035.95           0\n",
              "2             9906741  2020-10-16 10:06:55  ...             508440           0\n",
              "3             7130576  2020-07-29 09:16:55  ...             161700           0\n",
              "4             1780716  2020-02-25 12:40:18  ...             262892           0\n",
              "...               ...                  ...  ...                ...         ...\n",
              "597646       11912924  2020-12-11 09:00:58  ...            1829.03           0\n",
              "597647        2411411  2020-03-11 15:34:01  ...             107040           0\n",
              "597648        8770765  2020-09-15 10:05:43  ...             580661           0\n",
              "597649       10019468  2020-10-20 14:40:45  ...             9147.1           0\n",
              "597650        1429804  2020-02-13 10:06:57  ...            19133.4           0\n",
              "\n",
              "[597651 rows x 12 columns]"
            ]
          },
          "metadata": {
            "tags": []
          },
          "execution_count": 16
        }
      ]
    },
    {
      "cell_type": "code",
      "metadata": {
        "id": "zWxsTUDyRdZo",
        "colab": {
          "base_uri": "https://localhost:8080/",
          "height": 807
        },
        "outputId": "2e7bb116-8ae8-4a9d-e6ba-e401c7ad45e9"
      },
      "source": [
        "NN_202_score_df = ensemble_fun (NN_202_df, n_neighbors_n=20, leaf_size=30, pairwise_n=2, n_estimators_n=100, random_state_n=42, contamination_n='auto')\n",
        "NN_202_score_df"
      ],
      "execution_count": 17,
      "outputs": [
        {
          "output_type": "stream",
          "text": [
            "2021-08-07 21:00:21-04:00 : Input data frame size: Rows = 1311380, Columns = 2\n",
            "2021-08-07 21:02:49-04:00 : Fitting LOF\n",
            "2021-08-07 21:02:49-04:00 : LOF offset_ = -1.5\n",
            "2021-08-07 21:02:49-04:00 : LOF is fitted successfully with 1311380 scores\n",
            "2021-08-07 21:03:48-04:00 : Fitting iForest\n",
            "2021-08-07 21:03:48-04:00 : iForest offset_ = -0.5\n",
            "2021-08-07 21:05:06-04:00 : iForest is fitted successfully with 1311380 scores\n",
            "2021-08-07 21:05:06-04:00 : Minimum Score = 0.0002519219204576852, Maximum Score = 1.0\n",
            "2021-08-07 21:05:06-04:00 : Real offset: 0.1\n",
            "2021-08-07 21:05:06-04:00 : Percentage of suspicious transactions: 0.007322820235172109\n",
            "2021-08-07 21:05:07-04:00 : Output data frame size: Rows = 1311380, Columns = 12\n"
          ],
          "name": "stdout"
        },
        {
          "output_type": "execute_result",
          "data": {
            "text/html": [
              "<div>\n",
              "<style scoped>\n",
              "    .dataframe tbody tr th:only-of-type {\n",
              "        vertical-align: middle;\n",
              "    }\n",
              "\n",
              "    .dataframe tbody tr th {\n",
              "        vertical-align: top;\n",
              "    }\n",
              "\n",
              "    .dataframe thead th {\n",
              "        text-align: right;\n",
              "    }\n",
              "</style>\n",
              "<table border=\"1\" class=\"dataframe\">\n",
              "  <thead>\n",
              "    <tr style=\"text-align: right;\">\n",
              "      <th></th>\n",
              "      <th>TRANSACTION_ID</th>\n",
              "      <th>TRANSACTION_TIME</th>\n",
              "      <th>TRXN_MONTH</th>\n",
              "      <th>CLIENT_ID</th>\n",
              "      <th>COUNTRY_NAME</th>\n",
              "      <th>COUNTRY_CODE</th>\n",
              "      <th>CONTINENT_NAME</th>\n",
              "      <th>CONTINENT_CODE</th>\n",
              "      <th>SWIFT_MSG_TYPE</th>\n",
              "      <th>AVG_TRXN_AMT</th>\n",
              "      <th>TRANSACTION_AMOUNT</th>\n",
              "      <th>FRAUD_LABEL</th>\n",
              "    </tr>\n",
              "  </thead>\n",
              "  <tbody>\n",
              "    <tr>\n",
              "      <th>0</th>\n",
              "      <td>3174204</td>\n",
              "      <td>2020-03-31 18:21:17</td>\n",
              "      <td>3</td>\n",
              "      <td>7116490843</td>\n",
              "      <td>United States of America</td>\n",
              "      <td>US</td>\n",
              "      <td>North America</td>\n",
              "      <td>NN</td>\n",
              "      <td>202</td>\n",
              "      <td>39246.1</td>\n",
              "      <td>6475.35</td>\n",
              "      <td>0</td>\n",
              "    </tr>\n",
              "    <tr>\n",
              "      <th>1</th>\n",
              "      <td>2332371</td>\n",
              "      <td>2020-03-10 05:15:07</td>\n",
              "      <td>3</td>\n",
              "      <td>6249399616</td>\n",
              "      <td>United States of America</td>\n",
              "      <td>US</td>\n",
              "      <td>North America</td>\n",
              "      <td>NN</td>\n",
              "      <td>202</td>\n",
              "      <td>39246.1</td>\n",
              "      <td>1784</td>\n",
              "      <td>0</td>\n",
              "    </tr>\n",
              "    <tr>\n",
              "      <th>2</th>\n",
              "      <td>7295929</td>\n",
              "      <td>2020-07-31 17:23:36</td>\n",
              "      <td>7</td>\n",
              "      <td>7116490843</td>\n",
              "      <td>United States of America</td>\n",
              "      <td>US</td>\n",
              "      <td>North America</td>\n",
              "      <td>NN</td>\n",
              "      <td>202</td>\n",
              "      <td>29569.3</td>\n",
              "      <td>2446.45</td>\n",
              "      <td>0</td>\n",
              "    </tr>\n",
              "    <tr>\n",
              "      <th>3</th>\n",
              "      <td>7561204</td>\n",
              "      <td>2020-08-10 11:15:14</td>\n",
              "      <td>8</td>\n",
              "      <td>6249399616</td>\n",
              "      <td>United States of America</td>\n",
              "      <td>US</td>\n",
              "      <td>North America</td>\n",
              "      <td>NN</td>\n",
              "      <td>202</td>\n",
              "      <td>26404.8</td>\n",
              "      <td>535.2</td>\n",
              "      <td>0</td>\n",
              "    </tr>\n",
              "    <tr>\n",
              "      <th>4</th>\n",
              "      <td>9336515</td>\n",
              "      <td>2020-09-30 15:41:35</td>\n",
              "      <td>9</td>\n",
              "      <td>7116490843</td>\n",
              "      <td>United States of America</td>\n",
              "      <td>US</td>\n",
              "      <td>North America</td>\n",
              "      <td>NN</td>\n",
              "      <td>202</td>\n",
              "      <td>29261.3</td>\n",
              "      <td>214944</td>\n",
              "      <td>0</td>\n",
              "    </tr>\n",
              "    <tr>\n",
              "      <th>...</th>\n",
              "      <td>...</td>\n",
              "      <td>...</td>\n",
              "      <td>...</td>\n",
              "      <td>...</td>\n",
              "      <td>...</td>\n",
              "      <td>...</td>\n",
              "      <td>...</td>\n",
              "      <td>...</td>\n",
              "      <td>...</td>\n",
              "      <td>...</td>\n",
              "      <td>...</td>\n",
              "      <td>...</td>\n",
              "    </tr>\n",
              "    <tr>\n",
              "      <th>1311375</th>\n",
              "      <td>1659882</td>\n",
              "      <td>2020-02-20 19:44:22</td>\n",
              "      <td>2</td>\n",
              "      <td>7117147073</td>\n",
              "      <td>United States of America</td>\n",
              "      <td>US</td>\n",
              "      <td>North America</td>\n",
              "      <td>NN</td>\n",
              "      <td>202</td>\n",
              "      <td>24951.2</td>\n",
              "      <td>8978.25</td>\n",
              "      <td>0</td>\n",
              "    </tr>\n",
              "    <tr>\n",
              "      <th>1311376</th>\n",
              "      <td>8958816</td>\n",
              "      <td>2020-09-21 11:30:30</td>\n",
              "      <td>9</td>\n",
              "      <td>7116485839</td>\n",
              "      <td>United States of America</td>\n",
              "      <td>US</td>\n",
              "      <td>North America</td>\n",
              "      <td>NN</td>\n",
              "      <td>202</td>\n",
              "      <td>29261.3</td>\n",
              "      <td>18187.4</td>\n",
              "      <td>0</td>\n",
              "    </tr>\n",
              "    <tr>\n",
              "      <th>1311377</th>\n",
              "      <td>5101009</td>\n",
              "      <td>2020-05-29 13:02:50</td>\n",
              "      <td>5</td>\n",
              "      <td>7116490843</td>\n",
              "      <td>United States of America</td>\n",
              "      <td>US</td>\n",
              "      <td>North America</td>\n",
              "      <td>NN</td>\n",
              "      <td>202</td>\n",
              "      <td>28071.2</td>\n",
              "      <td>10754.7</td>\n",
              "      <td>0</td>\n",
              "    </tr>\n",
              "    <tr>\n",
              "      <th>1311378</th>\n",
              "      <td>6491516</td>\n",
              "      <td>2020-07-08 14:32:18</td>\n",
              "      <td>7</td>\n",
              "      <td>7116485839</td>\n",
              "      <td>United States of America</td>\n",
              "      <td>US</td>\n",
              "      <td>North America</td>\n",
              "      <td>NN</td>\n",
              "      <td>202</td>\n",
              "      <td>29569.3</td>\n",
              "      <td>3468.51</td>\n",
              "      <td>0</td>\n",
              "    </tr>\n",
              "    <tr>\n",
              "      <th>1311379</th>\n",
              "      <td>4252038</td>\n",
              "      <td>2020-05-01 19:40:36</td>\n",
              "      <td>5</td>\n",
              "      <td>7116490843</td>\n",
              "      <td>United States of America</td>\n",
              "      <td>US</td>\n",
              "      <td>North America</td>\n",
              "      <td>NN</td>\n",
              "      <td>202</td>\n",
              "      <td>28071.2</td>\n",
              "      <td>653.23</td>\n",
              "      <td>0</td>\n",
              "    </tr>\n",
              "  </tbody>\n",
              "</table>\n",
              "<p>1311380 rows × 12 columns</p>\n",
              "</div>"
            ],
            "text/plain": [
              "        TRANSACTION_ID     TRANSACTION_TIME  ... TRANSACTION_AMOUNT FRAUD_LABEL\n",
              "0              3174204  2020-03-31 18:21:17  ...            6475.35           0\n",
              "1              2332371  2020-03-10 05:15:07  ...               1784           0\n",
              "2              7295929  2020-07-31 17:23:36  ...            2446.45           0\n",
              "3              7561204  2020-08-10 11:15:14  ...              535.2           0\n",
              "4              9336515  2020-09-30 15:41:35  ...             214944           0\n",
              "...                ...                  ...  ...                ...         ...\n",
              "1311375        1659882  2020-02-20 19:44:22  ...            8978.25           0\n",
              "1311376        8958816  2020-09-21 11:30:30  ...            18187.4           0\n",
              "1311377        5101009  2020-05-29 13:02:50  ...            10754.7           0\n",
              "1311378        6491516  2020-07-08 14:32:18  ...            3468.51           0\n",
              "1311379        4252038  2020-05-01 19:40:36  ...             653.23           0\n",
              "\n",
              "[1311380 rows x 12 columns]"
            ]
          },
          "metadata": {
            "tags": []
          },
          "execution_count": 17
        }
      ]
    },
    {
      "cell_type": "code",
      "metadata": {
        "id": "p3b-pASFGEPf",
        "colab": {
          "base_uri": "https://localhost:8080/"
        },
        "outputId": "c1ec7186-5ab0-419c-b4b1-fde347c00c35"
      },
      "source": [
        "EU_103_score_df = ensemble_fun (EU_103_df, n_neighbors_n=20, leaf_size=30, pairwise_n=2, n_estimators_n=100, random_state_n=42, contamination_n='auto')\n",
        "EU_103_score_df"
      ],
      "execution_count": null,
      "outputs": [
        {
          "output_type": "stream",
          "text": [
            "2021-08-07 21:05:07-04:00 : Input data frame size: Rows = 627223, Columns = 2\n"
          ],
          "name": "stdout"
        }
      ]
    },
    {
      "cell_type": "code",
      "metadata": {
        "id": "J0vtXdmFSRG-"
      },
      "source": [
        "EU_202_score_df = ensemble_fun (EU_202_df, n_neighbors_n=20, leaf_size=30, pairwise_n=2, n_estimators_n=100, random_state_n=42, contamination_n='auto')\n",
        "EU_202_score_df"
      ],
      "execution_count": null,
      "outputs": []
    },
    {
      "cell_type": "code",
      "metadata": {
        "id": "hxHsYUK2S_Ba"
      },
      "source": [
        "AS_103_score_df = ensemble_fun (AS_103_df, n_neighbors_n=20, leaf_size=30, pairwise_n=2, n_estimators_n=100, random_state_n=42, contamination_n='auto')\n",
        "AS_103_score_df"
      ],
      "execution_count": null,
      "outputs": []
    },
    {
      "cell_type": "code",
      "metadata": {
        "id": "IfA1GNsOTL3i"
      },
      "source": [
        "AS_202_score_df = ensemble_fun (AS_202_df, n_neighbors_n=20, leaf_size=30, pairwise_n=2, n_estimators_n=100, random_state_n=42, contamination_n='auto')\n",
        "AS_202_score_df"
      ],
      "execution_count": null,
      "outputs": []
    },
    {
      "cell_type": "markdown",
      "metadata": {
        "id": "EuTWuYNpZxRa"
      },
      "source": [
        "## **Backup Data Frames for Supervised Machine Learning**"
      ]
    },
    {
      "cell_type": "code",
      "metadata": {
        "id": "koXciS14Z6GX"
      },
      "source": [
        "NN_103_score_df.to_csv('/content/gdrive/MyDrive/DSC-380/NN_103_score_df.cvs',index=False)\n",
        "NN_202_score_df.to_csv('/content/gdrive/MyDrive/DSC-380/NN_202_score_df.cvs',index=False)\n",
        "EU_103_score_df.to_csv('/content/gdrive/MyDrive/DSC-380/EU_103_score_df.cvs',index=False)\n",
        "EU_202_score_df.to_csv('/content/gdrive/MyDrive/DSC-380/EU_202_score_df.cvs',index=False)\n",
        "AS_103_score_df.to_csv('/content/gdrive/MyDrive/DSC-380/AS_103_score_df.cvs',index=False)\n",
        "AS_202_score_df.to_csv('/content/gdrive/MyDrive/DSC-380/AS_202_score_df.cvs',index=False)"
      ],
      "execution_count": null,
      "outputs": []
    }
  ]
}