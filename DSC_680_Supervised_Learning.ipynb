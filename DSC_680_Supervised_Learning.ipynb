{
  "nbformat": 4,
  "nbformat_minor": 0,
  "metadata": {
    "colab": {
      "name": "DSC_680_Supervised_Learning.ipynb",
      "provenance": [],
      "collapsed_sections": [
        "WGsaUOOmEZXJ",
        "CUn_dKOdEYDh",
        "ioaF79p7E-Np",
        "VEQIvsIOFnEq",
        "J5ezTm6dGBRL",
        "drrmU-nkGBRV",
        "OLwIYHP8GBRa",
        "CPLJCMRMGBRc",
        "_TZWp5zhKJHE",
        "2vCBqxtuKT9s"
      ],
      "machine_shape": "hm",
      "authorship_tag": "ABX9TyPYOra4TRkxF0GROMBBZUp9",
      "include_colab_link": true
    },
    "kernelspec": {
      "name": "python3",
      "display_name": "Python 3"
    },
    "language_info": {
      "name": "python"
    },
    "accelerator": "GPU"
  },
  "cells": [
    {
      "cell_type": "markdown",
      "metadata": {
        "id": "view-in-github",
        "colab_type": "text"
      },
      "source": [
        "<a href=\"https://colab.research.google.com/github/henryjhu/Anomaly-Detection-in-Wire-Activities/blob/main/DSC_680_Supervised_Learning.ipynb\" target=\"_parent\"><img src=\"https://colab.research.google.com/assets/colab-badge.svg\" alt=\"Open In Colab\"/></a>"
      ]
    },
    {
      "cell_type": "markdown",
      "metadata": {
        "id": "sb3PbbWC0L51"
      },
      "source": [
        "# **DSC-680-Z1 Research Practicum** <BR> Machine Learning"
      ]
    },
    {
      "cell_type": "markdown",
      "metadata": {
        "id": "gBzyuneg0nNU"
      },
      "source": [
        "## **Project Description**\n",
        "A global bank sought to find new and innovative means for detecting and preventing fraud in their wire transactions. Their goal is through machine learning to arrive at scenario detection rules which could be customized with parameters specific for each cohort of customers. The immediate challenge was that the data provided had no labels. Therefore, unsupervised machine learning techniques were first employed for this research project. After the labels have been identified, supervised machine learning techniques were then employed with selected tuning parameters to increase both the sensitivity and specificity percentages of both classes."
      ]
    },
    {
      "cell_type": "markdown",
      "metadata": {
        "id": "YUE-xhQ40sNr"
      },
      "source": [
        "<b>Purpose:</b><br>\n",
        "Carry out supervised machine learnings with the sample data.<br>\n",
        "<b>Universtiy Name:</b> Utica College <br>\n",
        "<b>Course Name:</b> DSC-680-Z1 Research Practicum <br>\n",
        "<b>Student Name:</b> Henry J. Hu <br>\n",
        "<b>Program Director Name:</b> Dr. McCarthy, Michael <br>\n",
        "<b>Runtime Environment:</b> Google Colab<br>\n",
        "<b>Programming Language:</b> Python <br>\n",
        "<b>Sample Data Frame:</b>\n",
        "Six random samples of labeled international wires belonging to 139 customers from 3 continents for the entire year of 2020.<br>\n",
        "<b> Last Update:</b> August 7th, 2021"
      ]
    },
    {
      "cell_type": "markdown",
      "metadata": {
        "id": "NMMMqxrAEMnC"
      },
      "source": [
        "## **Installing Packages Into Google Colab**"
      ]
    },
    {
      "cell_type": "code",
      "metadata": {
        "id": "w_pApv2uq32I",
        "colab": {
          "base_uri": "https://localhost:8080/"
        },
        "outputId": "862d3d9b-1037-4658-e05e-b1109353cd94"
      },
      "source": [
        "!pip install -U imbalanced-learn"
      ],
      "execution_count": 1,
      "outputs": [
        {
          "output_type": "stream",
          "text": [
            "Requirement already satisfied: imbalanced-learn in /usr/local/lib/python3.7/dist-packages (0.8.0)\n",
            "Requirement already satisfied: joblib>=0.11 in /usr/local/lib/python3.7/dist-packages (from imbalanced-learn) (1.0.1)\n",
            "Requirement already satisfied: numpy>=1.13.3 in /usr/local/lib/python3.7/dist-packages (from imbalanced-learn) (1.19.5)\n",
            "Requirement already satisfied: scikit-learn>=0.24 in /usr/local/lib/python3.7/dist-packages (from imbalanced-learn) (0.24.2)\n",
            "Requirement already satisfied: scipy>=0.19.1 in /usr/local/lib/python3.7/dist-packages (from imbalanced-learn) (1.4.1)\n",
            "Requirement already satisfied: threadpoolctl>=2.0.0 in /usr/local/lib/python3.7/dist-packages (from scikit-learn>=0.24->imbalanced-learn) (2.2.0)\n"
          ],
          "name": "stdout"
        }
      ]
    },
    {
      "cell_type": "markdown",
      "metadata": {
        "id": "0FVDlmHJq6th"
      },
      "source": [
        "## **Mounting Google Drive**"
      ]
    },
    {
      "cell_type": "code",
      "metadata": {
        "id": "Ovr70FQWyvvY",
        "colab": {
          "base_uri": "https://localhost:8080/"
        },
        "outputId": "bcb1e9c3-34b5-4628-8015-7cfe5fb47a95"
      },
      "source": [
        "from google.colab import drive\n",
        "drive.mount('/content/gdrive/', force_remount=True)"
      ],
      "execution_count": 2,
      "outputs": [
        {
          "output_type": "stream",
          "text": [
            "Mounted at /content/gdrive/\n"
          ],
          "name": "stdout"
        }
      ]
    },
    {
      "cell_type": "markdown",
      "metadata": {
        "id": "WGsaUOOmEZXJ"
      },
      "source": [
        "## **Importing Libraries**"
      ]
    },
    {
      "cell_type": "code",
      "metadata": {
        "id": "kEqZ5d75z_rg"
      },
      "source": [
        "# Importing libraries\n",
        "from imblearn.over_sampling import SMOTE # https://github.com/vsmolyakov/experiments_with_python/blob/master/chp01/imbalanced_data.ipynb\n",
        "import io\n",
        "import pandas as pd\n",
        "import numpy as np\n",
        "import seaborn as sns\n",
        "import matplotlib.pyplot as plt\n",
        "import xgboost as xgb\n",
        "import seaborn as sns\n",
        "import sklearn\n",
        "import traceback\n",
        "import time\n",
        "import pytz\n",
        "import xgboost as xgb\n",
        "from datetime import datetime\n",
        "from sklearn import metrics\n",
        "from scipy.stats import rankdata\n",
        "from numpy import quantile, where, random\n",
        "from random import sample\n",
        "from sklearn.preprocessing import StandardScaler\n",
        "from sklearn.model_selection import train_test_split\n",
        "from sklearn import model_selection, preprocessing\n",
        "from sklearn.datasets import make_blobs\n",
        "from sklearn.metrics import classification_report, accuracy_score\n",
        "from sklearn.neural_network import MLPRegressor\n",
        "from sklearn.neural_network import MLPClassifier\n",
        "from sklearn.neighbors import LocalOutlierFactor\n",
        "from sklearn.linear_model import LogisticRegression\n",
        "from sklearn.tree import DecisionTreeClassifier\n",
        "from sklearn.model_selection import RepeatedStratifiedKFold\n",
        "from sklearn.model_selection import cross_val_score, KFold\n",
        "from sklearn.model_selection import cross_validate \n",
        "from sklearn.model_selection import cross_val_predict\n",
        "from sklearn.model_selection import TimeSeriesSplit\n",
        "from sklearn.model_selection import GridSearchCV\n",
        "from sklearn.model_selection import RandomizedSearchCV\n",
        "from sklearn.ensemble import (RandomForestClassifier, AdaBoostClassifier, GradientBoostingClassifier, \n",
        "                              ExtraTreesClassifier, IsolationForest, VotingClassifier, StackingClassifier)"
      ],
      "execution_count": 3,
      "outputs": []
    },
    {
      "cell_type": "markdown",
      "metadata": {
        "id": "CUn_dKOdEYDh"
      },
      "source": [
        "## **Importing Data into Google Colab**"
      ]
    },
    {
      "cell_type": "code",
      "metadata": {
        "id": "EVumC16bF1U-"
      },
      "source": [
        "# Importing data\n",
        "NN_103_output_df = pd.read_csv(\"gdrive/MyDrive/DSC-380/NN_103_score_df.cvs\")\n",
        "NN_202_output_df = pd.read_csv(\"gdrive/MyDrive/DSC-380/NN_202_score_df.cvs\")\n",
        "EU_103_output_df = pd.read_csv(\"gdrive/MyDrive/DSC-380/EU_103_score_df.cvs\")\n",
        "EU_202_output_df = pd.read_csv(\"gdrive/MyDrive/DSC-380/EU_202_score_df.cvs\")\n",
        "AS_103_output_df = pd.read_csv(\"gdrive/MyDrive/DSC-380/AS_103_score_df.cvs\")\n",
        "AS_202_output_df = pd.read_csv(\"gdrive/MyDrive/DSC-380/AS_202_score_df.cvs\")"
      ],
      "execution_count": 4,
      "outputs": []
    },
    {
      "cell_type": "markdown",
      "metadata": {
        "id": "AuwgZJjEBgNc"
      },
      "source": [
        "## **Re-Sampling**"
      ]
    },
    {
      "cell_type": "code",
      "metadata": {
        "id": "up_AvSAXBnFT"
      },
      "source": [
        "NN_103_output_df = NN_103_output_df.sample(n=100000, random_state=42)\n",
        "NN_202_output_df = NN_202_output_df.sample(n=100000, random_state=42)\n",
        "EU_103_output_df = EU_103_output_df.sample(n=100000, random_state=42)\n",
        "EU_202_output_df = EU_202_output_df.sample(n=100000, random_state=42)\n",
        "AS_103_output_df = AS_103_output_df.sample(n=100000, random_state=42)\n",
        "AS_202_output_df = AS_202_output_df.sample(n=100000, random_state=42)"
      ],
      "execution_count": 5,
      "outputs": []
    },
    {
      "cell_type": "markdown",
      "metadata": {
        "id": "G_XuatApFJ1_"
      },
      "source": [
        "## **Preparation of Training and Test Data Sets**"
      ]
    },
    {
      "cell_type": "code",
      "metadata": {
        "id": "CKL9215-aCDD"
      },
      "source": [
        "NN_103_output_df_x_train, NN_103_output_df_x_test, NN_103_output_df_y_train, NN_103_output_df_y_test = train_test_split(NN_103_output_df[['TRXN_MONTH','TRANSACTION_AMOUNT']],NN_103_output_df[['FRAUD_LABEL']],train_size=0.7, test_size=0.3, shuffle=True, random_state=42)"
      ],
      "execution_count": 6,
      "outputs": []
    },
    {
      "cell_type": "code",
      "metadata": {
        "id": "IC4IMk9Mef5i"
      },
      "source": [
        "NN_202_output_df_x_train, NN_202_output_df_x_test, NN_202_output_df_y_train, NN_202_output_df_y_test = train_test_split(NN_202_output_df[['TRXN_MONTH','TRANSACTION_AMOUNT']],NN_202_output_df[['FRAUD_LABEL']],train_size=0.7, test_size=0.3, shuffle=True, random_state=42)"
      ],
      "execution_count": 7,
      "outputs": []
    },
    {
      "cell_type": "code",
      "metadata": {
        "id": "5DpM22tUegtZ"
      },
      "source": [
        "EU_103_output_df_x_train, EU_103_output_df_x_test, EU_103_output_df_y_train, EU_103_output_df_y_test = train_test_split(EU_103_output_df[['TRXN_MONTH','TRANSACTION_AMOUNT']],EU_103_output_df[['FRAUD_LABEL']],train_size=0.7, test_size=0.3, shuffle=True, random_state=42)"
      ],
      "execution_count": 8,
      "outputs": []
    },
    {
      "cell_type": "code",
      "metadata": {
        "id": "zLNSCAhsehI5"
      },
      "source": [
        "EU_202_output_df_x_train, EU_202_output_df_x_test, EU_202_output_df_y_train, EU_202_output_df_y_test = train_test_split(EU_202_output_df[['TRXN_MONTH','TRANSACTION_AMOUNT']],EU_202_output_df[['FRAUD_LABEL']],train_size=0.7, test_size=0.3, shuffle=True, random_state=42)"
      ],
      "execution_count": 9,
      "outputs": []
    },
    {
      "cell_type": "code",
      "metadata": {
        "id": "DW4qGBsyehlR"
      },
      "source": [
        "AS_103_output_df_x_train, AS_103_output_df_x_test, AS_103_output_df_y_train, AS_103_output_df_y_test = train_test_split(AS_103_output_df[['TRXN_MONTH','TRANSACTION_AMOUNT']],AS_103_output_df[['FRAUD_LABEL']],train_size=0.7, test_size=0.3, shuffle=True, random_state=42)"
      ],
      "execution_count": 10,
      "outputs": []
    },
    {
      "cell_type": "code",
      "metadata": {
        "id": "jDib_G6aeiSJ"
      },
      "source": [
        "AS_202_output_df_x_train, AS_202_output_df_x_test, AS_202_output_df_y_train, AS_202_output_df_y_test = train_test_split(AS_202_output_df[['TRXN_MONTH','TRANSACTION_AMOUNT']],AS_202_output_df[['FRAUD_LABEL']],train_size=0.7, test_size=0.3, shuffle=True, random_state=42)"
      ],
      "execution_count": 11,
      "outputs": []
    },
    {
      "cell_type": "markdown",
      "metadata": {
        "id": "hBMuKhfCueo9"
      },
      "source": [
        "## **Over Sampling the Minority Class Using SMOTE**"
      ]
    },
    {
      "cell_type": "code",
      "metadata": {
        "id": "4DWedXZluR2G"
      },
      "source": [
        "# Initilize SMOTE\n",
        "sm = SMOTE(random_state=42, n_jobs=-1)\n",
        "\n",
        "# Apply SMOTE to North America\n",
        "NN_103_sm_output_df_x_train, NN_103_sm_output_df_y_train = sm.fit_resample(NN_103_output_df_x_train, NN_103_output_df_y_train)\n",
        "NN_103_sm_output_df_x_test, NN_103_sm_output_df_y_test = sm.fit_resample(NN_103_output_df_x_test, NN_103_output_df_y_test)\n",
        "NN_202_sm_output_df_x_train, NN_202_sm_output_df_y_train = sm.fit_resample(NN_202_output_df_x_train, NN_202_output_df_y_train)\n",
        "NN_202_sm_output_df_x_test, NN_202_sm_output_df_y_test = sm.fit_resample(NN_202_output_df_x_test, NN_202_output_df_y_test)\n",
        "\n",
        "#Apply SMOTE to Europe\n",
        "EU_103_sm_output_df_x_train, EU_103_sm_output_df_y_train = sm.fit_resample(EU_103_output_df_x_train, EU_103_output_df_y_train)\n",
        "EU_103_sm_output_df_x_test, EU_103_sm_output_df_y_test = sm.fit_resample(EU_103_output_df_x_test, EU_103_output_df_y_test)\n",
        "EU_202_sm_output_df_x_train, EU_202_sm_output_df_y_train = sm.fit_resample(EU_202_output_df_x_train, EU_202_output_df_y_train)\n",
        "EU_202_sm_output_df_x_test, EU_202_sm_output_df_y_test = sm.fit_resample(EU_202_output_df_x_test, EU_202_output_df_y_test)\n",
        "\n",
        "#Apply SMOTE to Asia\n",
        "AS_103_sm_output_df_x_train, AS_103_sm_output_df_y_train = sm.fit_resample(AS_103_output_df_x_train, AS_103_output_df_y_train)\n",
        "AS_103_sm_output_df_x_test, AS_103_sm_output_df_y_test = sm.fit_resample(AS_103_output_df_x_test, AS_103_output_df_y_test)\n",
        "AS_202_sm_output_df_x_train, AS_202_sm_output_df_y_train = sm.fit_resample(AS_202_output_df_x_train, AS_202_output_df_y_train)\n",
        "AS_202_sm_output_df_x_test, AS_202_sm_output_df_y_test = sm.fit_resample(AS_202_output_df_x_test, AS_202_output_df_y_test)\n",
        "\n",
        "# unique, count = np.unique(NN_103_sm_output_df_y_train, return_counts=True)\n",
        "# y_train_ct = {k:v for (k,v) in zip(unique, count)}\n",
        "# y_train_ct\n",
        "# NN_103_sm_output_df_x_train"
      ],
      "execution_count": 12,
      "outputs": []
    },
    {
      "cell_type": "markdown",
      "metadata": {
        "id": "St9bXjehZ5-M"
      },
      "source": [
        "## **Cross Validation Function**"
      ]
    },
    {
      "cell_type": "code",
      "metadata": {
        "id": "D-YL7ig5s4Tf"
      },
      "source": [
        "##############################################################################################\n",
        "#\n",
        "# Purpose: \n",
        "# Through cross validation, performs model fitting, training and prediction for \n",
        "# Random Forest and Artificial Neuro Networks \n",
        "#\n",
        "##############################################################################################"
      ],
      "execution_count": 13,
      "outputs": []
    },
    {
      "cell_type": "code",
      "metadata": {
        "id": "YCbZh3I21LdQ"
      },
      "source": [
        "def cross_val_train (clf_n, X_train, Y_train):\n",
        "\n",
        "  # Initialize the log variable\n",
        "  class log:\n",
        "    def_tz = pytz.timezone('America/New_York')\n",
        "    def info(text):        \n",
        "        print(f'{datetime.now(log.def_tz).replace(microsecond=0)} : {text}');\n",
        "\n",
        "  # Scale and center the data around the mean of 0\n",
        "  scaling=StandardScaler()\n",
        "  X_train=scaling.fit_transform(X_train)\n",
        "\n",
        "  # Random Seed\n",
        "  random.seed(42)\n",
        "\n",
        "  clf1=MLPClassifier()\n",
        "  clf2=RandomForestClassifier()\n",
        "\n",
        "  # Best tunning hyper parameters have been determined with two random iterations\n",
        "  # Data frames used: NN_202_output_df_x_train, NN_202_output_df_y_train\n",
        "  # {'warm_start': True, 'solver': 'adam', 'random_state': 42, 'max_iter': 300, 'learning_rate': 'adaptive', 'hidden_layer_sizes': (4, 8), 'alpha': 0.05, 'activation': 'logistic'}\n",
        "  clf1_parameter_space = {\n",
        "      'warm_start': [True],\n",
        "      'max_iter': [500],\n",
        "      'hidden_layer_sizes': [(8,16)],\n",
        "      'activation': ['logistic'],\n",
        "      'solver': ['lbfgs'], # Have to set learning_rate_init if solver is either ’sgd’ or ‘adam’ \n",
        "      'alpha': [0.05,0.1,1.5,2.0,2.5], # Have to set alpha correctly or else all same label values in output \n",
        "      'learning_rate': ['adaptive'],\n",
        "      'random_state': [42]\n",
        "  }\n",
        "  # Best tunning hyper parameters have been determined with two random iterations\n",
        "  # Data frames used: NN_202_output_df_x_train, NN_202_output_df_y_train\n",
        "  clf2_parameter_space = {\n",
        "      'max_depth': [40],\n",
        "      'n_estimators': [100],\n",
        "      'min_samples_split': [5],\n",
        "      'random_state': [42],\n",
        "      'n_jobs': [-1]\n",
        "  }\n",
        "\n",
        "  if clf_n == 1:\n",
        "    model = clf1\n",
        "    model_name = 'Artificial Neuro Networks'\n",
        "    clf_parameter_space = clf1_parameter_space\n",
        "  else: \n",
        "    model = clf2\n",
        "    model_name = 'Random Forest'\n",
        "    clf_parameter_space = clf2_parameter_space\n",
        "\n",
        "  clf_cross = RandomizedSearchCV(model, clf_parameter_space, n_jobs=-1, cv=10, n_iter=1, verbose=True, refit=True) # Stratified cv fold cross validation\n",
        "  clf_cross.fit(X_train, Y_train) # X is training sample and y is the corresponding labels\n",
        "  log.info(f'Best parameters used for cross validation of {model_name}')\n",
        "  log.info(clf_cross.best_params_)\n",
        "\n",
        "  return clf_cross"
      ],
      "execution_count": 14,
      "outputs": []
    },
    {
      "cell_type": "markdown",
      "metadata": {
        "id": "cZHnutZ8DwjV"
      },
      "source": [
        "## **Stacking - Level 1**"
      ]
    },
    {
      "cell_type": "markdown",
      "metadata": {
        "id": "6Qrt9hauU7wS"
      },
      "source": [
        "### **Gathering Predictions for Test Data Set X**"
      ]
    },
    {
      "cell_type": "markdown",
      "metadata": {
        "id": "s6kzGCXeEFEz"
      },
      "source": [
        "### ***Artificial Neuro Networks Predictions***"
      ]
    },
    {
      "cell_type": "markdown",
      "metadata": {
        "id": "5bLJZtPNExmM"
      },
      "source": [
        "#### ***North America***"
      ]
    },
    {
      "cell_type": "code",
      "metadata": {
        "colab": {
          "base_uri": "https://localhost:8080/"
        },
        "id": "BmY1IyuO5jgr",
        "outputId": "aa48f68e-8d1d-47dc-f88e-201cc9669b21"
      },
      "source": [
        "NN_103_sm_output_ann_y_pred_test = cross_val_train(1,NN_103_sm_output_df_x_train, NN_103_sm_output_df_y_train).predict(NN_103_sm_output_df_x_test)\n",
        "NN_103_sm_output_ann_y_pred_train = cross_val_train(1,NN_103_sm_output_df_x_train, NN_103_sm_output_df_y_train).predict(NN_103_sm_output_df_x_train)"
      ],
      "execution_count": 15,
      "outputs": [
        {
          "output_type": "stream",
          "text": [
            "Fitting 10 folds for each of 1 candidates, totalling 10 fits\n"
          ],
          "name": "stdout"
        },
        {
          "output_type": "stream",
          "text": [
            "/usr/local/lib/python3.7/dist-packages/sklearn/utils/validation.py:63: DataConversionWarning: A column-vector y was passed when a 1d array was expected. Please change the shape of y to (n_samples, ), for example using ravel().\n",
            "  return f(*args, **kwargs)\n",
            "/usr/local/lib/python3.7/dist-packages/sklearn/neural_network/_multilayer_perceptron.py:500: ConvergenceWarning: lbfgs failed to converge (status=1):\n",
            "STOP: TOTAL NO. of ITERATIONS REACHED LIMIT.\n",
            "\n",
            "Increase the number of iterations (max_iter) or scale the data as shown in:\n",
            "    https://scikit-learn.org/stable/modules/preprocessing.html\n",
            "  self.n_iter_ = _check_optimize_result(\"lbfgs\", opt_res, self.max_iter)\n"
          ],
          "name": "stderr"
        },
        {
          "output_type": "stream",
          "text": [
            "2021-08-09 03:30:55-04:00 : Best parameters used for cross validation of Artificial Neuro Networks\n",
            "2021-08-09 03:30:55-04:00 : {'warm_start': True, 'solver': 'lbfgs', 'random_state': 42, 'max_iter': 500, 'learning_rate': 'adaptive', 'hidden_layer_sizes': (8, 16), 'alpha': 0.1, 'activation': 'logistic'}\n",
            "Fitting 10 folds for each of 1 candidates, totalling 10 fits\n"
          ],
          "name": "stdout"
        },
        {
          "output_type": "stream",
          "text": [
            "/usr/local/lib/python3.7/dist-packages/sklearn/utils/validation.py:63: DataConversionWarning: A column-vector y was passed when a 1d array was expected. Please change the shape of y to (n_samples, ), for example using ravel().\n",
            "  return f(*args, **kwargs)\n"
          ],
          "name": "stderr"
        },
        {
          "output_type": "stream",
          "text": [
            "2021-08-09 03:36:32-04:00 : Best parameters used for cross validation of Artificial Neuro Networks\n",
            "2021-08-09 03:36:32-04:00 : {'warm_start': True, 'solver': 'lbfgs', 'random_state': 42, 'max_iter': 500, 'learning_rate': 'adaptive', 'hidden_layer_sizes': (8, 16), 'alpha': 0.1, 'activation': 'logistic'}\n"
          ],
          "name": "stdout"
        },
        {
          "output_type": "stream",
          "text": [
            "/usr/local/lib/python3.7/dist-packages/sklearn/neural_network/_multilayer_perceptron.py:500: ConvergenceWarning: lbfgs failed to converge (status=1):\n",
            "STOP: TOTAL NO. of ITERATIONS REACHED LIMIT.\n",
            "\n",
            "Increase the number of iterations (max_iter) or scale the data as shown in:\n",
            "    https://scikit-learn.org/stable/modules/preprocessing.html\n",
            "  self.n_iter_ = _check_optimize_result(\"lbfgs\", opt_res, self.max_iter)\n"
          ],
          "name": "stderr"
        }
      ]
    },
    {
      "cell_type": "code",
      "metadata": {
        "id": "5OLJ_ARq54UI",
        "colab": {
          "base_uri": "https://localhost:8080/"
        },
        "outputId": "e590c689-08a8-408a-f095-4bbc76639562"
      },
      "source": [
        "NN_202_sm_output_ann_y_pred_test = cross_val_train(1,NN_202_sm_output_df_x_train, NN_202_sm_output_df_y_train).predict(NN_202_sm_output_df_x_test)\n",
        "NN_202_sm_output_ann_y_pred_train = cross_val_train(1,NN_202_sm_output_df_x_train, NN_202_sm_output_df_y_train).predict(NN_202_sm_output_df_x_train)"
      ],
      "execution_count": null,
      "outputs": [
        {
          "output_type": "stream",
          "text": [
            "Fitting 10 folds for each of 1 candidates, totalling 10 fits\n"
          ],
          "name": "stdout"
        }
      ]
    },
    {
      "cell_type": "markdown",
      "metadata": {
        "id": "ioaF79p7E-Np"
      },
      "source": [
        "#### ***Europe***"
      ]
    },
    {
      "cell_type": "code",
      "metadata": {
        "id": "6xIQ8FApE-Nr"
      },
      "source": [
        "EU_103_sm_output_ann_y_pred_test = cross_val_train(1, EU_103_sm_output_df_x_train, EU_103_sm_output_df_y_train).predict(EU_103_sm_output_df_x_test)\n",
        "EU_103_sm_output_ann_y_pred_train = cross_val_train(1, EU_103_sm_output_df_x_train, EU_103_sm_output_df_y_train).predict(EU_103_sm_output_df_x_train)"
      ],
      "execution_count": null,
      "outputs": []
    },
    {
      "cell_type": "code",
      "metadata": {
        "id": "aBBvsUTFE-Nt"
      },
      "source": [
        "EU_202_sm_output_ann_y_pred_test = cross_val_train(1, EU_202_sm_output_df_x_train, EU_202_sm_output_df_y_train).predict(EU_202_sm_output_df_x_test)\n",
        "EU_202_sm_output_ann_y_pred_train = cross_val_train(1, EU_202_sm_output_df_x_train, EU_202_sm_output_df_y_train).predict(EU_202_sm_output_df_x_train)"
      ],
      "execution_count": null,
      "outputs": []
    },
    {
      "cell_type": "markdown",
      "metadata": {
        "id": "VEQIvsIOFnEq"
      },
      "source": [
        "#### ***Asia***"
      ]
    },
    {
      "cell_type": "code",
      "metadata": {
        "id": "MOc0mTB8FnFF"
      },
      "source": [
        "AS_103_sm_output_ann_y_pred_test = cross_val_train(1, AS_103_sm_output_df_x_train, AS_103_sm_output_df_y_train).predict(AS_103_sm_output_df_x_test)\n",
        "AS_103_sm_output_ann_y_pred_train = cross_val_train(1, AS_103_sm_output_df_x_train, AS_103_sm_output_df_y_train).predict(AS_103_sm_output_df_x_train)"
      ],
      "execution_count": null,
      "outputs": []
    },
    {
      "cell_type": "code",
      "metadata": {
        "id": "XkHxwgP-FnFH"
      },
      "source": [
        "AS_202_sm_output_ann_y_pred_test = cross_val_train(1, AS_202_sm_output_df_x_train, AS_202_sm_output_df_y_train).predict(AS_202_sm_output_df_x_test)\n",
        "AS_202_sm_output_ann_y_pred_train = cross_val_train(1, AS_202_sm_output_df_x_train, AS_202_sm_output_df_y_train).predict(AS_202_sm_output_df_x_train)"
      ],
      "execution_count": null,
      "outputs": []
    },
    {
      "cell_type": "markdown",
      "metadata": {
        "id": "J5ezTm6dGBRL"
      },
      "source": [
        "### ***Random Forest Predictions***"
      ]
    },
    {
      "cell_type": "markdown",
      "metadata": {
        "id": "drrmU-nkGBRV"
      },
      "source": [
        "#### ***North America***"
      ]
    },
    {
      "cell_type": "code",
      "metadata": {
        "id": "ary6JCJ2GBRW"
      },
      "source": [
        "NN_103_sm_output_rf_y_pred_test = cross_val_train(2,NN_103_sm_output_df_x_train, NN_103_sm_output_df_y_train).predict(NN_103_sm_output_df_x_test)\n",
        "NN_103_sm_output_rf_y_pred_train = cross_val_train(2,NN_103_sm_output_df_x_train, NN_103_sm_output_df_y_train).predict(NN_103_sm_output_df_x_train)"
      ],
      "execution_count": null,
      "outputs": []
    },
    {
      "cell_type": "code",
      "metadata": {
        "id": "HvnyBnUiGBRY"
      },
      "source": [
        "NN_202_sm_output_rf_y_pred_test = cross_val_train(2,NN_202_sm_output_df_x_train, NN_202_sm_output_df_y_train).predict(NN_202_sm_output_df_x_test)\n",
        "NN_202_sm_output_rf_y_pred_train = cross_val_train(2,NN_202_sm_output_df_x_train, NN_202_sm_output_df_y_train).predict(NN_202_sm_output_df_x_train)"
      ],
      "execution_count": null,
      "outputs": []
    },
    {
      "cell_type": "markdown",
      "metadata": {
        "id": "OLwIYHP8GBRa"
      },
      "source": [
        "#### ***Europe***"
      ]
    },
    {
      "cell_type": "code",
      "metadata": {
        "id": "D0dLA2gnGBRa"
      },
      "source": [
        "EU_103_sm_output_rf_y_pred_test = cross_val_train(2, EU_103_sm_output_df_x_train, EU_103_sm_output_df_y_train).predict(EU_103_sm_output_df_x_test)\n",
        "EU_103_sm_output_rf_y_pred_train = cross_val_train(2, EU_103_sm_output_df_x_train, EU_103_sm_output_df_y_train).predict(EU_103_sm_output_df_x_train)"
      ],
      "execution_count": null,
      "outputs": []
    },
    {
      "cell_type": "code",
      "metadata": {
        "id": "nX11FaVHGBRb"
      },
      "source": [
        "EU_202_sm_output_rf_y_pred_test = cross_val_train(2, EU_202_sm_output_df_x_train, EU_202_sm_output_df_y_train).predict(EU_202_sm_output_df_x_test)\n",
        "EU_202_sm_output_rf_y_pred_train = cross_val_train(2, EU_202_sm_output_df_x_train, EU_202_sm_output_df_y_train).predict(EU_202_sm_output_df_x_train)"
      ],
      "execution_count": null,
      "outputs": []
    },
    {
      "cell_type": "markdown",
      "metadata": {
        "id": "CPLJCMRMGBRc"
      },
      "source": [
        "#### ***Asia***"
      ]
    },
    {
      "cell_type": "code",
      "metadata": {
        "id": "St4OcWCwGBRd"
      },
      "source": [
        "AS_103_sm_output_rf_y_pred_test = cross_val_train(2, AS_103_sm_output_df_x_train, AS_103_sm_output_df_y_train).predict(AS_103_sm_output_df_x_test)\n",
        "AS_103_sm_output_rf_y_pred_train = cross_val_train(2, AS_103_sm_output_df_x_train, AS_103_sm_output_df_y_train).predict(AS_103_sm_output_df_x_train)"
      ],
      "execution_count": null,
      "outputs": []
    },
    {
      "cell_type": "code",
      "metadata": {
        "id": "7LzvjquNGBRe"
      },
      "source": [
        "AS_202_sm_output_rf_y_pred_test = cross_val_train(2, AS_202_sm_output_df_x_train, AS_202_sm_output_df_y_train).predict(AS_202_sm_output_df_x_test)\n",
        "AS_202_sm_output_rf_y_pred_train = cross_val_train(2, AS_202_sm_output_df_x_train, AS_202_sm_output_df_y_train).predict(AS_202_sm_output_df_x_train)"
      ],
      "execution_count": null,
      "outputs": []
    },
    {
      "cell_type": "markdown",
      "metadata": {
        "id": "0-rr0urIIpkg"
      },
      "source": [
        "## **Stacking - Level 2**"
      ]
    },
    {
      "cell_type": "markdown",
      "metadata": {
        "id": "HHeqVHWYkOOJ"
      },
      "source": [
        "##### **Stacking Algorithm = Decision Tree**"
      ]
    },
    {
      "cell_type": "markdown",
      "metadata": {
        "id": "D0ZA3D3FMVjW"
      },
      "source": [
        "##### **Weights of 2x applied to Level 1 Random Forest's predictions before feeding them into Level 2 Decesion Tree as inputs**"
      ]
    },
    {
      "cell_type": "markdown",
      "metadata": {
        "id": "kF-9ASguewNf"
      },
      "source": [
        "##### **Level 2 X Training Data = Combine of Level 1 ANN and Random Forest predicitons from the \"train\" data**"
      ]
    },
    {
      "cell_type": "markdown",
      "metadata": {
        "id": "YoCEu8DhJG8w"
      },
      "source": [
        "##### **Level 2 X Test Data = Combine of Level 1 ANN and Random Forest predicitons from the \"test\" data**"
      ]
    },
    {
      "cell_type": "markdown",
      "metadata": {
        "id": "_JknnPrWKF9e"
      },
      "source": [
        "#### ***North America***"
      ]
    },
    {
      "cell_type": "code",
      "metadata": {
        "id": "ugzN3O15VfmG"
      },
      "source": [
        "NN_103_sm_output_ensemble_x_train = np.column_stack((NN_103_sm_output_ann_y_pred_train, NN_103_sm_output_rf_y_pred_train*2))\n",
        "NN_103_sm_output_ensemble_x_train_df = pd.DataFrame(NN_103_sm_output_ensemble_x_train, columns = ['ANN','RF'])\n",
        "NN_103_sm_output_ensemble_x_test = np.column_stack((NN_103_sm_output_ann_y_pred_test, NN_103_sm_output_rf_y_pred_test*2))\n",
        "NN_103_sm_output_ensemble_x_test_df = pd.DataFrame(NN_103_sm_output_ensemble_x_test, columns = ['ANN','RF'])\n",
        "NN_103_sm_output_final_pred = xgb.XGBClassifier(objective= 'binary:logistic').fit(NN_103_sm_output_ensemble_x_train_df, NN_103_sm_output_df_y_train).predict(NN_103_sm_output_ensemble_x_test_df)"
      ],
      "execution_count": null,
      "outputs": []
    },
    {
      "cell_type": "code",
      "metadata": {
        "id": "vPfcE25NJgPB"
      },
      "source": [
        "NN_202_sm_output_ensemble_x_train = np.column_stack((NN_202_sm_output_ann_y_pred_train, NN_202_sm_output_rf_y_pred_train*2))\n",
        "NN_202_sm_output_ensemble_x_train_df = pd.DataFrame(NN_202_sm_output_ensemble_x_train, columns = ['ANN','RF'])\n",
        "NN_202_sm_output_ensemble_x_test = np.column_stack((NN_202_sm_output_ann_y_pred_test, NN_202_sm_output_rf_y_pred_test*2))\n",
        "NN_202_sm_output_ensemble_x_test_df = pd.DataFrame(NN_202_sm_output_ensemble_x_test, columns = ['ANN','RF'])\n",
        "NN_202_sm_output_final_pred = xgb.XGBClassifier(objective= 'binary:logistic').fit(NN_202_sm_output_ensemble_x_train_df, NN_202_sm_output_df_y_train).predict(NN_202_sm_output_ensemble_x_test_df)"
      ],
      "execution_count": null,
      "outputs": []
    },
    {
      "cell_type": "markdown",
      "metadata": {
        "id": "_TZWp5zhKJHE"
      },
      "source": [
        "#### ***Europe***"
      ]
    },
    {
      "cell_type": "code",
      "metadata": {
        "id": "K_-RBiWbJk-X"
      },
      "source": [
        "EU_103_sm_output_ensemble_x_train = np.column_stack((EU_103_sm_output_ann_y_pred_train, EU_103_sm_output_rf_y_pred_train*2))\n",
        "EU_103_sm_output_ensemble_x_train_df = pd.DataFrame(EU_103_sm_output_ensemble_x_train, columns = ['ANN','RF'])\n",
        "EU_103_sm_output_ensemble_x_test = np.column_stack((EU_103_sm_output_ann_y_pred_test, EU_103_sm_output_rf_y_pred_test*2))\n",
        "EU_103_sm_output_ensemble_x_test_df = pd.DataFrame(EU_103_sm_output_ensemble_x_test, columns = ['ANN','RF'])\n",
        "EU_103_sm_output_final_pred = DecisionTreeClassifier(random_state=42).fit(EU_103_sm_output_ensemble_x_train_df, EU_103_sm_output_df_y_train).predict(EU_103_sm_output_ensemble_x_test_df)"
      ],
      "execution_count": null,
      "outputs": []
    },
    {
      "cell_type": "code",
      "metadata": {
        "id": "9Nav14kxJoxf"
      },
      "source": [
        "EU_202_sm_output_ensemble_x_train = np.column_stack((EU_202_sm_output_ann_y_pred_train, EU_202_sm_output_rf_y_pred_train*2))\n",
        "EU_202_sm_output_ensemble_x_train_df = pd.DataFrame(EU_202_sm_output_ensemble_x_train, columns = ['ANN','RF'])\n",
        "EU_202_sm_output_ensemble_x_test = np.column_stack((EU_202_sm_output_ann_y_pred_test, EU_202_sm_output_rf_y_pred_test*2))\n",
        "EU_202_sm_output_ensemble_x_test_df = pd.DataFrame(EU_202_sm_output_ensemble_x_test, columns = ['ANN','RF'])\n",
        "EU_202_sm_output_final_pred = DecisionTreeClassifier(random_state=42).fit(EU_202_sm_output_ensemble_x_train_df, EU_202_sm_output_df_y_train).predict(EU_202_sm_output_ensemble_x_test_df)"
      ],
      "execution_count": null,
      "outputs": []
    },
    {
      "cell_type": "markdown",
      "metadata": {
        "id": "2vCBqxtuKT9s"
      },
      "source": [
        "#### ***Asia***"
      ]
    },
    {
      "cell_type": "code",
      "metadata": {
        "id": "cy1i42o0Juw9"
      },
      "source": [
        "AS_103_sm_output_ensemble_x_train = np.column_stack((AS_103_sm_output_ann_y_pred_train, AS_103_sm_output_rf_y_pred_train*2))\n",
        "AS_103_sm_output_ensemble_x_train_df = pd.DataFrame(AS_103_sm_output_ensemble_x_train, columns = ['ANN','RF'])\n",
        "AS_103_sm_output_ensemble_x_test = np.column_stack((AS_103_sm_output_ann_y_pred_test, AS_103_sm_output_rf_y_pred_test*2))\n",
        "AS_103_sm_output_ensemble_x_test_df = pd.DataFrame(AS_103_sm_output_ensemble_x_test, columns = ['ANN','RF'])\n",
        "AS_103_sm_output_final_pred = DecisionTreeClassifier(random_state=42).fit(AS_103_sm_output_ensemble_x_train_df, AS_103_sm_output_df_y_train).predict(AS_103_sm_output_ensemble_x_test_df)"
      ],
      "execution_count": null,
      "outputs": []
    },
    {
      "cell_type": "code",
      "metadata": {
        "id": "MIMCdy2aJ0Ue"
      },
      "source": [
        "AS_202_sm_output_ensemble_x_train = np.column_stack((AS_202_sm_output_ann_y_pred_train, AS_202_sm_output_rf_y_pred_train*2))\n",
        "AS_202_sm_output_ensemble_x_train_df = pd.DataFrame(AS_202_sm_output_ensemble_x_train, columns = ['ANN','RF'])\n",
        "AS_202_sm_output_ensemble_x_test = np.column_stack((AS_202_sm_output_ann_y_pred_test, AS_202_sm_output_rf_y_pred_test*2))\n",
        "AS_202_sm_output_ensemble_x_test_df = pd.DataFrame(AS_202_sm_output_ensemble_x_test, columns = ['ANN','RF'])\n",
        "AS_202_sm_output_final_pred = DecisionTreeClassifier(random_state=42).fit(AS_202_sm_output_ensemble_x_train_df, AS_202_sm_output_df_y_train).predict(AS_202_sm_output_ensemble_x_test_df)"
      ],
      "execution_count": null,
      "outputs": []
    },
    {
      "cell_type": "markdown",
      "metadata": {
        "id": "shnfGOwJWD-h"
      },
      "source": [
        "## **Confusion Matricies of Accuracy Statistics**"
      ]
    },
    {
      "cell_type": "markdown",
      "metadata": {
        "id": "D3twS7LwWTmx"
      },
      "source": [
        "#### ***North America***"
      ]
    },
    {
      "cell_type": "code",
      "metadata": {
        "id": "WTamYu6NaOpx"
      },
      "source": [
        "NN_103_output_df_y_train.shape"
      ],
      "execution_count": null,
      "outputs": []
    },
    {
      "cell_type": "code",
      "metadata": {
        "id": "7Lz4OaQyWauT"
      },
      "source": [
        "NN_103_output_df_y_train[NN_103_output_df_y_train['FRAUD_LABEL']>=1].shape "
      ],
      "execution_count": null,
      "outputs": []
    },
    {
      "cell_type": "code",
      "metadata": {
        "id": "QsO_HrA7Jm8C"
      },
      "source": [
        "NN_103_sm_output_df_y_train.shape # original y train"
      ],
      "execution_count": null,
      "outputs": []
    },
    {
      "cell_type": "code",
      "metadata": {
        "id": "E_ysFMs4V5Ct"
      },
      "source": [
        "NN_103_sm_output_df_y_train[NN_103_sm_output_df_y_train['FRAUD_LABEL']>=1].shape # original y train prediction filter"
      ],
      "execution_count": null,
      "outputs": []
    },
    {
      "cell_type": "code",
      "metadata": {
        "id": "0eW2oV9gIZ-1"
      },
      "source": [
        "NN_103_sm_output_ann_y_pred_train.shape # ann y train level 1 predictions"
      ],
      "execution_count": null,
      "outputs": []
    },
    {
      "cell_type": "code",
      "metadata": {
        "id": "93YonJbdIexM"
      },
      "source": [
        "NN_103_sm_output_rf_y_pred_train.shape # random forest y train level 1 predictions"
      ],
      "execution_count": null,
      "outputs": []
    },
    {
      "cell_type": "code",
      "metadata": {
        "id": "Np4dRY2cHH9T"
      },
      "source": [
        "NN_103_sm_output_ann_y_pred_train[NN_103_sm_output_ann_y_pred_train>=1].shape # ann y train level 1 prediction filter"
      ],
      "execution_count": null,
      "outputs": []
    },
    {
      "cell_type": "code",
      "metadata": {
        "id": "lhngx1fGIBD6"
      },
      "source": [
        "NN_103_sm_output_rf_y_pred_train[NN_103_sm_output_rf_y_pred_train>=1].shape  # random forest y train level 1 prediction filter"
      ],
      "execution_count": null,
      "outputs": []
    },
    {
      "cell_type": "code",
      "metadata": {
        "id": "bOBSY40_DUWy"
      },
      "source": [
        "NN_103_sm_output_ensemble_x_train_df.shape # level 2 x train"
      ],
      "execution_count": null,
      "outputs": []
    },
    {
      "cell_type": "code",
      "metadata": {
        "id": "7m2tvVddMZFi"
      },
      "source": [
        "NN_103_sm_output_ensemble_x_train_df.shape # level 2 x train "
      ],
      "execution_count": null,
      "outputs": []
    },
    {
      "cell_type": "code",
      "metadata": {
        "id": "oXcNF2fsUL4b"
      },
      "source": [
        "NN_103_sm_output_df_y_train.shape # level 2 y train "
      ],
      "execution_count": null,
      "outputs": []
    },
    {
      "cell_type": "code",
      "metadata": {
        "id": "MeqqxrBvXBCR"
      },
      "source": [
        "NN_103_sm_output_ensemble_x_train_df[NN_103_sm_output_ensemble_x_train_df['ANN']>=1].shape # level 2 x train ANN filter"
      ],
      "execution_count": null,
      "outputs": []
    },
    {
      "cell_type": "code",
      "metadata": {
        "id": "n0RDr0mECwRF"
      },
      "source": [
        "NN_103_sm_output_ensemble_x_train_df[NN_103_sm_output_ensemble_x_train_df['RF']>=1].shape# level 2 x train RF filter"
      ],
      "execution_count": null,
      "outputs": []
    },
    {
      "cell_type": "code",
      "metadata": {
        "id": "N22mLr1CTzjB"
      },
      "source": [
        "NN_103_sm_output_ensemble_x_test_df.shape # level 2 x test "
      ],
      "execution_count": null,
      "outputs": []
    },
    {
      "cell_type": "code",
      "metadata": {
        "id": "zjl3ADPTs1G4"
      },
      "source": [
        "NN_103_sm_output_ensemble_x_test_df[NN_103_sm_output_ensemble_x_test_df['ANN']>=1].shape # level 2 x test ANN filter"
      ],
      "execution_count": null,
      "outputs": []
    },
    {
      "cell_type": "code",
      "metadata": {
        "id": "-c1OTHies1HH"
      },
      "source": [
        "NN_103_sm_output_ensemble_x_test_df[NN_103_sm_output_ensemble_x_test_df['RF']>=1].shape# level 2 x test RF filter"
      ],
      "execution_count": null,
      "outputs": []
    },
    {
      "cell_type": "code",
      "metadata": {
        "id": "Uj-NOzgfMK8T"
      },
      "source": [
        "NN_103_sm_output_final_pred.shape # level 2 predictions"
      ],
      "execution_count": null,
      "outputs": []
    },
    {
      "cell_type": "code",
      "metadata": {
        "id": "2plv7wH4MnmW"
      },
      "source": [
        "NN_103_sm_output_final_pred[NN_103_sm_output_final_pred>=1].shape # level 2 predictions filter"
      ],
      "execution_count": null,
      "outputs": []
    },
    {
      "cell_type": "code",
      "metadata": {
        "id": "8q5TF-K5XAMd"
      },
      "source": [
        "from sklearn.metrics import classification_report,confusion_matrix\n",
        "# print(classification_report(NN_103_sm_output_df_y_test, NN_103_sm_output_final_pred, target_names=['class 1', 'class 0'])) \n",
        "print(confusion_matrix(NN_103_sm_output_df_y_test,NN_103_sm_output_final_pred))\n",
        "print(classification_report(NN_103_sm_output_df_y_test,NN_103_sm_output_final_pred))"
      ],
      "execution_count": null,
      "outputs": []
    },
    {
      "cell_type": "markdown",
      "metadata": {
        "id": "ReeJ35ruWUgg"
      },
      "source": [
        "#### ***Europe***"
      ]
    },
    {
      "cell_type": "markdown",
      "metadata": {
        "id": "BdJA2f7gWUxf"
      },
      "source": [
        "#### ***Asia***"
      ]
    },
    {
      "cell_type": "code",
      "metadata": {
        "id": "J3J8KrINqrBI"
      },
      "source": [
        ""
      ],
      "execution_count": null,
      "outputs": []
    }
  ]
}