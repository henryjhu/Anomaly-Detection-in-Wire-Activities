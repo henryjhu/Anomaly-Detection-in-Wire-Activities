{
  "nbformat": 4,
  "nbformat_minor": 0,
  "metadata": {
    "colab": {
      "name": "DSC_680_Supervised_Learning.ipynb",
      "provenance": [],
      "collapsed_sections": [],
      "machine_shape": "hm",
      "authorship_tag": "ABX9TyNTK6U/q1rT/A83+lulismx",
      "include_colab_link": true
    },
    "kernelspec": {
      "name": "python3",
      "display_name": "Python 3"
    },
    "language_info": {
      "name": "python"
    },
    "accelerator": "GPU"
  },
  "cells": [
    {
      "cell_type": "markdown",
      "metadata": {
        "id": "view-in-github",
        "colab_type": "text"
      },
      "source": [
        "<a href=\"https://colab.research.google.com/github/henryjhu/Anomaly-Detection-in-Wire-Activities/blob/main/DSC_680_Supervised_Learning.ipynb\" target=\"_parent\"><img src=\"https://colab.research.google.com/assets/colab-badge.svg\" alt=\"Open In Colab\"/></a>"
      ]
    },
    {
      "cell_type": "markdown",
      "metadata": {
        "id": "sb3PbbWC0L51"
      },
      "source": [
        "# **DSC-680-Z1 Research Practicum** <BR> Machine Learning"
      ]
    },
    {
      "cell_type": "markdown",
      "metadata": {
        "id": "gBzyuneg0nNU"
      },
      "source": [
        "## **Project Description**\n",
        "A global bank sought to find new and innovative means for detecting and preventing fraud in their wire transactions. Their goal is through machine learning to arrive at scenario detection rules which could be customized with parameters specific for each cohort of customers. The immediate challenge was that the data provided had no labels. Therefore, unsupervised machine learning techniques were first employed for this research project. After the labels have been identified, supervised machine learning techniques were then employed with selected tuning parameters to increase both the sensitivity and specificity percentages of both classes."
      ]
    },
    {
      "cell_type": "markdown",
      "metadata": {
        "id": "YUE-xhQ40sNr"
      },
      "source": [
        "<b>Purpose:</b><br>\n",
        "Carry out supervised machine learnings with the sample data.<br>\n",
        "<b>Universtiy Name:</b> Utica College <br>\n",
        "<b>Course Name:</b> DSC-680-Z1 Research Practicum <br>\n",
        "<b>Student Name:</b> Henry J. Hu <br>\n",
        "<b>Program Director Name:</b> Dr. McCarthy, Michael <br>\n",
        "<b>Runtime Environment:</b> Google Colab<br>\n",
        "<b>Programming Language:</b> Python <br>\n",
        "<b>Sample Data Frame:</b>\n",
        "Six random samples of labeled international wires belonging to 139 customers from 3 continents for the entire year of 2020.<br>\n",
        "<b> Last Update:</b> August 7th, 2021"
      ]
    },
    {
      "cell_type": "markdown",
      "metadata": {
        "id": "NMMMqxrAEMnC"
      },
      "source": [
        "## **Installing Packages Into Google Colab**"
      ]
    },
    {
      "cell_type": "code",
      "metadata": {
        "id": "w_pApv2uq32I",
        "colab": {
          "base_uri": "https://localhost:8080/"
        },
        "outputId": "82dac246-c1f9-46ea-ced1-b52a61c90adc"
      },
      "source": [
        "!pip install -U imbalanced-learn"
      ],
      "execution_count": 1,
      "outputs": [
        {
          "output_type": "stream",
          "text": [
            "Requirement already satisfied: imbalanced-learn in /usr/local/lib/python3.7/dist-packages (0.8.0)\n",
            "Requirement already satisfied: joblib>=0.11 in /usr/local/lib/python3.7/dist-packages (from imbalanced-learn) (1.0.1)\n",
            "Requirement already satisfied: scikit-learn>=0.24 in /usr/local/lib/python3.7/dist-packages (from imbalanced-learn) (0.24.2)\n",
            "Requirement already satisfied: scipy>=0.19.1 in /usr/local/lib/python3.7/dist-packages (from imbalanced-learn) (1.4.1)\n",
            "Requirement already satisfied: numpy>=1.13.3 in /usr/local/lib/python3.7/dist-packages (from imbalanced-learn) (1.19.5)\n",
            "Requirement already satisfied: threadpoolctl>=2.0.0 in /usr/local/lib/python3.7/dist-packages (from scikit-learn>=0.24->imbalanced-learn) (2.2.0)\n"
          ],
          "name": "stdout"
        }
      ]
    },
    {
      "cell_type": "markdown",
      "metadata": {
        "id": "0FVDlmHJq6th"
      },
      "source": [
        "## **Mounting Google Drive**"
      ]
    },
    {
      "cell_type": "code",
      "metadata": {
        "id": "Ovr70FQWyvvY",
        "colab": {
          "base_uri": "https://localhost:8080/"
        },
        "outputId": "57f40b9a-8552-4b78-d3ed-fadee1d6a7ec"
      },
      "source": [
        "from google.colab import drive\n",
        "drive.mount('/content/gdrive/', force_remount=True)"
      ],
      "execution_count": 2,
      "outputs": [
        {
          "output_type": "stream",
          "text": [
            "Mounted at /content/gdrive/\n"
          ],
          "name": "stdout"
        }
      ]
    },
    {
      "cell_type": "markdown",
      "metadata": {
        "id": "WGsaUOOmEZXJ"
      },
      "source": [
        "## **Importing Libraries**"
      ]
    },
    {
      "cell_type": "code",
      "metadata": {
        "id": "kEqZ5d75z_rg"
      },
      "source": [
        "# Importing libraries\n",
        "import io\n",
        "import pandas as pd\n",
        "import numpy as np\n",
        "import seaborn as sns\n",
        "import matplotlib.pyplot as plt\n",
        "import xgboost as xgb\n",
        "import seaborn as sns\n",
        "import sklearn\n",
        "import traceback\n",
        "import time\n",
        "import pytz\n",
        "import xgboost as xgb\n",
        "from datetime import datetime\n",
        "from sklearn import metrics\n",
        "from scipy.stats import rankdata\n",
        "from numpy import quantile, where, random\n",
        "from random import sample\n",
        "from sklearn.preprocessing import StandardScaler\n",
        "from sklearn.model_selection import train_test_split\n",
        "from sklearn import model_selection, preprocessing\n",
        "from sklearn.datasets import make_blobs\n",
        "from sklearn.metrics import classification_report, accuracy_score\n",
        "from sklearn.neural_network import MLPRegressor\n",
        "from sklearn.neural_network import MLPClassifier\n",
        "from sklearn.neighbors import LocalOutlierFactor\n",
        "from sklearn.linear_model import LogisticRegression\n",
        "from sklearn.tree import DecisionTreeClassifier\n",
        "from sklearn.model_selection import RepeatedStratifiedKFold\n",
        "from sklearn.model_selection import cross_val_score, KFold\n",
        "from sklearn.model_selection import cross_validate \n",
        "from sklearn.model_selection import cross_val_predict\n",
        "from sklearn.model_selection import TimeSeriesSplit\n",
        "from sklearn.model_selection import GridSearchCV\n",
        "from sklearn.model_selection import RandomizedSearchCV\n",
        "from sklearn.metrics import classification_report,confusion_matrix\n",
        "from sklearn.ensemble import (RandomForestClassifier, AdaBoostClassifier, GradientBoostingClassifier, \n",
        "                              ExtraTreesClassifier, IsolationForest, VotingClassifier, StackingClassifier)\n",
        "from imblearn.over_sampling import SMOTE # https://github.com/vsmolyakov/experiments_with_python/blob/master/chp01/imbalanced_data.ipynb"
      ],
      "execution_count": 3,
      "outputs": []
    },
    {
      "cell_type": "markdown",
      "metadata": {
        "id": "CUn_dKOdEYDh"
      },
      "source": [
        "## **Importing Data into Google Colab**"
      ]
    },
    {
      "cell_type": "code",
      "metadata": {
        "id": "EVumC16bF1U-"
      },
      "source": [
        "# Importing data\n",
        "NN_103_output_df = pd.read_csv(\"gdrive/MyDrive/DSC-380/NN_103_score_df.cvs\")\n",
        "NN_202_output_df = pd.read_csv(\"gdrive/MyDrive/DSC-380/NN_202_score_df.cvs\")\n",
        "EU_103_output_df = pd.read_csv(\"gdrive/MyDrive/DSC-380/EU_103_score_df.cvs\")\n",
        "EU_202_output_df = pd.read_csv(\"gdrive/MyDrive/DSC-380/EU_202_score_df.cvs\")\n",
        "AS_103_output_df = pd.read_csv(\"gdrive/MyDrive/DSC-380/AS_103_score_df.cvs\")\n",
        "AS_202_output_df = pd.read_csv(\"gdrive/MyDrive/DSC-380/AS_202_score_df.cvs\")"
      ],
      "execution_count": 4,
      "outputs": []
    },
    {
      "cell_type": "markdown",
      "metadata": {
        "id": "AuwgZJjEBgNc"
      },
      "source": [
        "## **Re-Sampling**"
      ]
    },
    {
      "cell_type": "code",
      "metadata": {
        "id": "up_AvSAXBnFT"
      },
      "source": [
        "NN_103_output_df = NN_103_output_df.sample(n=100000, random_state=42)\n",
        "NN_202_output_df = NN_202_output_df.sample(n=100000, random_state=42)\n",
        "EU_103_output_df = EU_103_output_df.sample(n=100000, random_state=42)\n",
        "EU_202_output_df = EU_202_output_df.sample(n=100000, random_state=42)\n",
        "AS_103_output_df = AS_103_output_df.sample(n=100000, random_state=42)\n",
        "AS_202_output_df = AS_202_output_df.sample(n=100000, random_state=42)"
      ],
      "execution_count": 5,
      "outputs": []
    },
    {
      "cell_type": "markdown",
      "metadata": {
        "id": "G_XuatApFJ1_"
      },
      "source": [
        "## **Preparation of Training and Test Data Sets**"
      ]
    },
    {
      "cell_type": "code",
      "metadata": {
        "id": "CKL9215-aCDD"
      },
      "source": [
        "NN_103_output_df_x_train, NN_103_output_df_x_test, NN_103_output_df_y_train, NN_103_output_df_y_test = train_test_split(NN_103_output_df[['TRXN_MONTH','TRANSACTION_AMOUNT']],NN_103_output_df[['FRAUD_LABEL']],train_size=0.7, test_size=0.3, shuffle=True, random_state=42)"
      ],
      "execution_count": 6,
      "outputs": []
    },
    {
      "cell_type": "code",
      "metadata": {
        "id": "IC4IMk9Mef5i"
      },
      "source": [
        "NN_202_output_df_x_train, NN_202_output_df_x_test, NN_202_output_df_y_train, NN_202_output_df_y_test = train_test_split(NN_202_output_df[['TRXN_MONTH','TRANSACTION_AMOUNT']],NN_202_output_df[['FRAUD_LABEL']],train_size=0.7, test_size=0.3, shuffle=True, random_state=42)"
      ],
      "execution_count": 7,
      "outputs": []
    },
    {
      "cell_type": "code",
      "metadata": {
        "id": "5DpM22tUegtZ"
      },
      "source": [
        "EU_103_output_df_x_train, EU_103_output_df_x_test, EU_103_output_df_y_train, EU_103_output_df_y_test = train_test_split(EU_103_output_df[['TRXN_MONTH','TRANSACTION_AMOUNT']],EU_103_output_df[['FRAUD_LABEL']],train_size=0.7, test_size=0.3, shuffle=True, random_state=42)"
      ],
      "execution_count": 8,
      "outputs": []
    },
    {
      "cell_type": "code",
      "metadata": {
        "id": "zLNSCAhsehI5"
      },
      "source": [
        "EU_202_output_df_x_train, EU_202_output_df_x_test, EU_202_output_df_y_train, EU_202_output_df_y_test = train_test_split(EU_202_output_df[['TRXN_MONTH','TRANSACTION_AMOUNT']],EU_202_output_df[['FRAUD_LABEL']],train_size=0.7, test_size=0.3, shuffle=True, random_state=42)"
      ],
      "execution_count": 9,
      "outputs": []
    },
    {
      "cell_type": "code",
      "metadata": {
        "id": "DW4qGBsyehlR"
      },
      "source": [
        "AS_103_output_df_x_train, AS_103_output_df_x_test, AS_103_output_df_y_train, AS_103_output_df_y_test = train_test_split(AS_103_output_df[['TRXN_MONTH','TRANSACTION_AMOUNT']],AS_103_output_df[['FRAUD_LABEL']],train_size=0.7, test_size=0.3, shuffle=True, random_state=42)"
      ],
      "execution_count": 10,
      "outputs": []
    },
    {
      "cell_type": "code",
      "metadata": {
        "id": "jDib_G6aeiSJ"
      },
      "source": [
        "AS_202_output_df_x_train, AS_202_output_df_x_test, AS_202_output_df_y_train, AS_202_output_df_y_test = train_test_split(AS_202_output_df[['TRXN_MONTH','TRANSACTION_AMOUNT']],AS_202_output_df[['FRAUD_LABEL']],train_size=0.7, test_size=0.3, shuffle=True, random_state=42)"
      ],
      "execution_count": 11,
      "outputs": []
    },
    {
      "cell_type": "markdown",
      "metadata": {
        "id": "hBMuKhfCueo9"
      },
      "source": [
        "## **Over Sampling the Minority Class Using SMOTE**"
      ]
    },
    {
      "cell_type": "code",
      "metadata": {
        "id": "4DWedXZluR2G"
      },
      "source": [
        "# Initilize SMOTE\n",
        "sm = SMOTE(random_state=42, n_jobs=-1)\n",
        "\n",
        "# Apply SMOTE to North America\n",
        "NN_103_sm_output_df_x_train, NN_103_sm_output_df_y_train = sm.fit_resample(NN_103_output_df_x_train, NN_103_output_df_y_train)\n",
        "NN_103_sm_output_df_x_test, NN_103_sm_output_df_y_test = sm.fit_resample(NN_103_output_df_x_test, NN_103_output_df_y_test)\n",
        "NN_202_sm_output_df_x_train, NN_202_sm_output_df_y_train = sm.fit_resample(NN_202_output_df_x_train, NN_202_output_df_y_train)\n",
        "NN_202_sm_output_df_x_test, NN_202_sm_output_df_y_test = sm.fit_resample(NN_202_output_df_x_test, NN_202_output_df_y_test)\n",
        "\n",
        "#Apply SMOTE to Europe\n",
        "EU_103_sm_output_df_x_train, EU_103_sm_output_df_y_train = sm.fit_resample(EU_103_output_df_x_train, EU_103_output_df_y_train)\n",
        "EU_103_sm_output_df_x_test, EU_103_sm_output_df_y_test = sm.fit_resample(EU_103_output_df_x_test, EU_103_output_df_y_test)\n",
        "EU_202_sm_output_df_x_train, EU_202_sm_output_df_y_train = sm.fit_resample(EU_202_output_df_x_train, EU_202_output_df_y_train)\n",
        "EU_202_sm_output_df_x_test, EU_202_sm_output_df_y_test = sm.fit_resample(EU_202_output_df_x_test, EU_202_output_df_y_test)\n",
        "\n",
        "#Apply SMOTE to Asia\n",
        "AS_103_sm_output_df_x_train, AS_103_sm_output_df_y_train = sm.fit_resample(AS_103_output_df_x_train, AS_103_output_df_y_train)\n",
        "AS_103_sm_output_df_x_test, AS_103_sm_output_df_y_test = sm.fit_resample(AS_103_output_df_x_test, AS_103_output_df_y_test)\n",
        "AS_202_sm_output_df_x_train, AS_202_sm_output_df_y_train = sm.fit_resample(AS_202_output_df_x_train, AS_202_output_df_y_train)\n",
        "AS_202_sm_output_df_x_test, AS_202_sm_output_df_y_test = sm.fit_resample(AS_202_output_df_x_test, AS_202_output_df_y_test)\n",
        "\n",
        "# unique, count = np.unique(NN_103_sm_output_df_y_train, return_counts=True)\n",
        "# y_train_ct = {k:v for (k,v) in zip(unique, count)}\n",
        "# y_train_ct\n",
        "# NN_103_sm_output_df_x_train"
      ],
      "execution_count": 249,
      "outputs": []
    },
    {
      "cell_type": "markdown",
      "metadata": {
        "id": "St9bXjehZ5-M"
      },
      "source": [
        "## **Cross Validation Function**"
      ]
    },
    {
      "cell_type": "code",
      "metadata": {
        "id": "D-YL7ig5s4Tf"
      },
      "source": [
        "##############################################################################################\n",
        "#\n",
        "# Purpose: \n",
        "# Through cross validation, performs model fitting, training and prediction for \n",
        "# Random Forest and Artificial Neuro Networks \n",
        "#\n",
        "##############################################################################################"
      ],
      "execution_count": 13,
      "outputs": []
    },
    {
      "cell_type": "code",
      "metadata": {
        "id": "YCbZh3I21LdQ"
      },
      "source": [
        "def cross_val_train (clf_n, X_train, Y_train):\n",
        "\n",
        "  # Initialize the log variable\n",
        "  class log:\n",
        "    def_tz = pytz.timezone('America/New_York')\n",
        "    def info(text):        \n",
        "        print(f'{datetime.now(log.def_tz).replace(microsecond=0)} : {text}');\n",
        "\n",
        "  # Y train has to be a 1D array\n",
        "  Y_train = np.ravel(Y_train)\n",
        "\n",
        "  # Scale and center the data around the mean of 0\n",
        "  scaler = preprocessing.StandardScaler().fit(X_train)\n",
        "  X_train = scaler.transform(X_train)\n",
        "\n",
        "  # Random Seed\n",
        "  random.seed(42)\n",
        "\n",
        "  clf1=MLPClassifier()\n",
        "  clf2=RandomForestClassifier()\n",
        "\n",
        "  # Best tunning hyper parameters have been determined with two random iterations\n",
        "  # Data frames used: NN_202_output_df_x_train, NN_202_output_df_y_train\n",
        "  clf1_parameter_space = {\n",
        "      'warm_start': [True],\n",
        "      'max_iter': [10000],\n",
        "      'hidden_layer_sizes': [(8,16)],\n",
        "      'activation': ['logistic'],\n",
        "      'solver': ['lbfgs'], # Have to set learning_rate_init if solver is either ’sgd’ or ‘adam’ \n",
        "      'alpha': [0.05,0.1,1.5,2.0,2.5], # Have to set alpha correctly or else all same label values in output \n",
        "      'learning_rate': ['adaptive'], # No need to set learning_rate if solver is not ’sgd’\n",
        "      'random_state': [42]\n",
        "  }\n",
        "  # Best tunning hyper parameters have been determined with two random iterations\n",
        "  # Data frames used: NN_202_output_df_x_train, NN_202_output_df_y_train\n",
        "  clf2_parameter_space = {\n",
        "      'warm_start': [True],\n",
        "      'max_depth': [20,40,80,160],\n",
        "      'n_estimators': [20,40,80,160],\n",
        "      'min_samples_split': [5],\n",
        "      'random_state': [42],\n",
        "      'n_jobs': [-1]\n",
        "  }\n",
        "\n",
        "  if clf_n == 1:\n",
        "    model = clf1\n",
        "    model_name = 'Artificial Neuro Networks'\n",
        "    clf_parameter_space = clf1_parameter_space\n",
        "  else: \n",
        "    model = clf2\n",
        "    model_name = 'Random Forest'\n",
        "    clf_parameter_space = clf2_parameter_space\n",
        "\n",
        "  clf_cross = RandomizedSearchCV(model, clf_parameter_space, n_jobs=-1, cv=10, n_iter=1, verbose=True, refit=True) # Stratified cv fold cross validation\n",
        "  clf_cross.fit(X_train, Y_train)\n",
        "\n",
        "  log.info(f'Best parameters used for cross validation of {model_name}')\n",
        "  log.info(clf_cross.best_params_)\n",
        "\n",
        "  return clf_cross"
      ],
      "execution_count": 115,
      "outputs": []
    },
    {
      "cell_type": "markdown",
      "metadata": {
        "id": "cZHnutZ8DwjV"
      },
      "source": [
        "## **Stacking - Level 1**"
      ]
    },
    {
      "cell_type": "markdown",
      "metadata": {
        "id": "6Qrt9hauU7wS"
      },
      "source": [
        "### **Gathering Predictions for Test Data Set X**"
      ]
    },
    {
      "cell_type": "markdown",
      "metadata": {
        "id": "s6kzGCXeEFEz"
      },
      "source": [
        "### ***Artificial Neuro Networks Predictions***"
      ]
    },
    {
      "cell_type": "markdown",
      "metadata": {
        "id": "5bLJZtPNExmM"
      },
      "source": [
        "#### ***North America***"
      ]
    },
    {
      "cell_type": "code",
      "metadata": {
        "colab": {
          "base_uri": "https://localhost:8080/"
        },
        "id": "BmY1IyuO5jgr",
        "outputId": "96c5d771-d67b-4ca2-ad45-8222bbddbb8d"
      },
      "source": [
        "NN_103_sm_output_ann_y_pred_test = cross_val_train(1,NN_103_sm_output_df_x_train, NN_103_sm_output_df_y_train).predict(NN_103_sm_output_df_x_test)\n",
        "NN_103_sm_output_ann_y_pred_train = cross_val_train(1,NN_103_sm_output_df_x_train, NN_103_sm_output_df_y_train).predict(NN_103_sm_output_df_x_train)"
      ],
      "execution_count": 124,
      "outputs": [
        {
          "output_type": "stream",
          "text": [
            "Fitting 10 folds for each of 1 candidates, totalling 10 fits\n",
            "2021-08-10 10:07:49-04:00 : Best parameters used for cross validation of Artificial Neuro Networks\n",
            "2021-08-10 10:07:49-04:00 : {'warm_start': True, 'solver': 'lbfgs', 'random_state': 42, 'max_iter': 10000, 'learning_rate': 'adaptive', 'hidden_layer_sizes': (8, 16), 'alpha': 0.1, 'activation': 'logistic'}\n",
            "Fitting 10 folds for each of 1 candidates, totalling 10 fits\n",
            "2021-08-10 10:12:58-04:00 : Best parameters used for cross validation of Artificial Neuro Networks\n",
            "2021-08-10 10:12:58-04:00 : {'warm_start': True, 'solver': 'lbfgs', 'random_state': 42, 'max_iter': 10000, 'learning_rate': 'adaptive', 'hidden_layer_sizes': (8, 16), 'alpha': 0.1, 'activation': 'logistic'}\n"
          ],
          "name": "stdout"
        }
      ]
    },
    {
      "cell_type": "code",
      "metadata": {
        "id": "5OLJ_ARq54UI",
        "colab": {
          "base_uri": "https://localhost:8080/"
        },
        "outputId": "3b7d6f97-e7d2-4c4b-cda4-5654a3dad4dc"
      },
      "source": [
        "NN_202_sm_output_ann_y_pred_test = cross_val_train(1,NN_202_sm_output_df_x_train, NN_202_sm_output_df_y_train).predict(NN_202_sm_output_df_x_test)\n",
        "NN_202_sm_output_ann_y_pred_train = cross_val_train(1,NN_202_sm_output_df_x_train, NN_202_sm_output_df_y_train).predict(NN_202_sm_output_df_x_train)"
      ],
      "execution_count": 125,
      "outputs": [
        {
          "output_type": "stream",
          "text": [
            "Fitting 10 folds for each of 1 candidates, totalling 10 fits\n",
            "2021-08-10 10:21:33-04:00 : Best parameters used for cross validation of Artificial Neuro Networks\n",
            "2021-08-10 10:21:33-04:00 : {'warm_start': True, 'solver': 'lbfgs', 'random_state': 42, 'max_iter': 10000, 'learning_rate': 'adaptive', 'hidden_layer_sizes': (8, 16), 'alpha': 0.1, 'activation': 'logistic'}\n",
            "Fitting 10 folds for each of 1 candidates, totalling 10 fits\n",
            "2021-08-10 10:30:09-04:00 : Best parameters used for cross validation of Artificial Neuro Networks\n",
            "2021-08-10 10:30:09-04:00 : {'warm_start': True, 'solver': 'lbfgs', 'random_state': 42, 'max_iter': 10000, 'learning_rate': 'adaptive', 'hidden_layer_sizes': (8, 16), 'alpha': 0.1, 'activation': 'logistic'}\n"
          ],
          "name": "stdout"
        }
      ]
    },
    {
      "cell_type": "markdown",
      "metadata": {
        "id": "ioaF79p7E-Np"
      },
      "source": [
        "#### ***Europe***"
      ]
    },
    {
      "cell_type": "code",
      "metadata": {
        "id": "6xIQ8FApE-Nr",
        "colab": {
          "base_uri": "https://localhost:8080/"
        },
        "outputId": "61298f2b-9931-46aa-e3c3-aaf92a4209bf"
      },
      "source": [
        "EU_103_sm_output_ann_y_pred_test = cross_val_train(1, EU_103_sm_output_df_x_train, EU_103_sm_output_df_y_train).predict(EU_103_sm_output_df_x_test)\n",
        "EU_103_sm_output_ann_y_pred_train = cross_val_train(1, EU_103_sm_output_df_x_train, EU_103_sm_output_df_y_train).predict(EU_103_sm_output_df_x_train)"
      ],
      "execution_count": 168,
      "outputs": [
        {
          "output_type": "stream",
          "text": [
            "Fitting 10 folds for each of 1 candidates, totalling 10 fits\n",
            "2021-08-10 12:38:35-04:00 : Best parameters used for cross validation of Artificial Neuro Networks\n",
            "2021-08-10 12:38:35-04:00 : {'warm_start': True, 'solver': 'lbfgs', 'random_state': 42, 'max_iter': 10000, 'learning_rate': 'adaptive', 'hidden_layer_sizes': (8, 16), 'alpha': 0.1, 'activation': 'logistic'}\n",
            "Fitting 10 folds for each of 1 candidates, totalling 10 fits\n",
            "2021-08-10 12:50:38-04:00 : Best parameters used for cross validation of Artificial Neuro Networks\n",
            "2021-08-10 12:50:38-04:00 : {'warm_start': True, 'solver': 'lbfgs', 'random_state': 42, 'max_iter': 10000, 'learning_rate': 'adaptive', 'hidden_layer_sizes': (8, 16), 'alpha': 0.1, 'activation': 'logistic'}\n"
          ],
          "name": "stdout"
        }
      ]
    },
    {
      "cell_type": "code",
      "metadata": {
        "id": "aBBvsUTFE-Nt",
        "colab": {
          "base_uri": "https://localhost:8080/"
        },
        "outputId": "c96dd4fb-f074-4d5f-d65a-7ae82afeb652"
      },
      "source": [
        "EU_202_sm_output_ann_y_pred_test = cross_val_train(1, EU_202_sm_output_df_x_train, EU_202_sm_output_df_y_train).predict(EU_202_sm_output_df_x_test)\n",
        "EU_202_sm_output_ann_y_pred_train = cross_val_train(1, EU_202_sm_output_df_x_train, EU_202_sm_output_df_y_train).predict(EU_202_sm_output_df_x_train)"
      ],
      "execution_count": 127,
      "outputs": [
        {
          "output_type": "stream",
          "text": [
            "Fitting 10 folds for each of 1 candidates, totalling 10 fits\n",
            "2021-08-10 11:04:32-04:00 : Best parameters used for cross validation of Artificial Neuro Networks\n",
            "2021-08-10 11:04:32-04:00 : {'warm_start': True, 'solver': 'lbfgs', 'random_state': 42, 'max_iter': 10000, 'learning_rate': 'adaptive', 'hidden_layer_sizes': (8, 16), 'alpha': 0.1, 'activation': 'logistic'}\n",
            "Fitting 10 folds for each of 1 candidates, totalling 10 fits\n",
            "2021-08-10 11:14:09-04:00 : Best parameters used for cross validation of Artificial Neuro Networks\n",
            "2021-08-10 11:14:09-04:00 : {'warm_start': True, 'solver': 'lbfgs', 'random_state': 42, 'max_iter': 10000, 'learning_rate': 'adaptive', 'hidden_layer_sizes': (8, 16), 'alpha': 0.1, 'activation': 'logistic'}\n"
          ],
          "name": "stdout"
        }
      ]
    },
    {
      "cell_type": "markdown",
      "metadata": {
        "id": "VEQIvsIOFnEq"
      },
      "source": [
        "#### ***Asia***"
      ]
    },
    {
      "cell_type": "code",
      "metadata": {
        "id": "MOc0mTB8FnFF",
        "colab": {
          "base_uri": "https://localhost:8080/"
        },
        "outputId": "019ebe5d-444d-4ff7-cb9f-d25e980f9161"
      },
      "source": [
        "AS_103_sm_output_ann_y_pred_test = cross_val_train(1, AS_103_sm_output_df_x_train, AS_103_sm_output_df_y_train).predict(AS_103_sm_output_df_x_test)\n",
        "AS_103_sm_output_ann_y_pred_train = cross_val_train(1, AS_103_sm_output_df_x_train, AS_103_sm_output_df_y_train).predict(AS_103_sm_output_df_x_train)"
      ],
      "execution_count": 169,
      "outputs": [
        {
          "output_type": "stream",
          "text": [
            "Fitting 10 folds for each of 1 candidates, totalling 10 fits\n",
            "2021-08-10 13:02:39-04:00 : Best parameters used for cross validation of Artificial Neuro Networks\n",
            "2021-08-10 13:02:39-04:00 : {'warm_start': True, 'solver': 'lbfgs', 'random_state': 42, 'max_iter': 10000, 'learning_rate': 'adaptive', 'hidden_layer_sizes': (8, 16), 'alpha': 0.1, 'activation': 'logistic'}\n",
            "Fitting 10 folds for each of 1 candidates, totalling 10 fits\n",
            "2021-08-10 13:14:38-04:00 : Best parameters used for cross validation of Artificial Neuro Networks\n",
            "2021-08-10 13:14:38-04:00 : {'warm_start': True, 'solver': 'lbfgs', 'random_state': 42, 'max_iter': 10000, 'learning_rate': 'adaptive', 'hidden_layer_sizes': (8, 16), 'alpha': 0.1, 'activation': 'logistic'}\n"
          ],
          "name": "stdout"
        }
      ]
    },
    {
      "cell_type": "code",
      "metadata": {
        "id": "XkHxwgP-FnFH",
        "colab": {
          "base_uri": "https://localhost:8080/"
        },
        "outputId": "9dde3281-ba70-4f32-c14f-6e3b9fef1fd0"
      },
      "source": [
        "AS_202_sm_output_ann_y_pred_test = cross_val_train(1, AS_202_sm_output_df_x_train, AS_202_sm_output_df_y_train).predict(AS_202_sm_output_df_x_test)\n",
        "AS_202_sm_output_ann_y_pred_train = cross_val_train(1, AS_202_sm_output_df_x_train, AS_202_sm_output_df_y_train).predict(AS_202_sm_output_df_x_train)"
      ],
      "execution_count": 209,
      "outputs": [
        {
          "output_type": "stream",
          "text": [
            "Fitting 10 folds for each of 1 candidates, totalling 10 fits\n",
            "2021-08-10 13:48:44-04:00 : Best parameters used for cross validation of Artificial Neuro Networks\n",
            "2021-08-10 13:48:44-04:00 : {'warm_start': True, 'solver': 'lbfgs', 'random_state': 42, 'max_iter': 10000, 'learning_rate': 'adaptive', 'hidden_layer_sizes': (8, 16), 'alpha': 0.1, 'activation': 'logistic'}\n",
            "Fitting 10 folds for each of 1 candidates, totalling 10 fits\n",
            "2021-08-10 13:58:07-04:00 : Best parameters used for cross validation of Artificial Neuro Networks\n",
            "2021-08-10 13:58:07-04:00 : {'warm_start': True, 'solver': 'lbfgs', 'random_state': 42, 'max_iter': 10000, 'learning_rate': 'adaptive', 'hidden_layer_sizes': (8, 16), 'alpha': 0.1, 'activation': 'logistic'}\n"
          ],
          "name": "stdout"
        }
      ]
    },
    {
      "cell_type": "markdown",
      "metadata": {
        "id": "J5ezTm6dGBRL"
      },
      "source": [
        "### ***Random Forest Predictions***"
      ]
    },
    {
      "cell_type": "markdown",
      "metadata": {
        "id": "drrmU-nkGBRV"
      },
      "source": [
        "#### ***North America***"
      ]
    },
    {
      "cell_type": "code",
      "metadata": {
        "id": "ary6JCJ2GBRW",
        "colab": {
          "base_uri": "https://localhost:8080/"
        },
        "outputId": "556f6787-a2ec-43b8-f7ad-bbaf71ce9bce"
      },
      "source": [
        "NN_103_sm_output_rf_y_pred_test = cross_val_train(2,NN_103_sm_output_df_x_train, NN_103_sm_output_df_y_train).predict(NN_103_sm_output_df_x_test)\n",
        "NN_103_sm_output_rf_y_pred_train = cross_val_train(2,NN_103_sm_output_df_x_train, NN_103_sm_output_df_y_train).predict(NN_103_sm_output_df_x_train)"
      ],
      "execution_count": 171,
      "outputs": [
        {
          "output_type": "stream",
          "text": [
            "Fitting 10 folds for each of 1 candidates, totalling 10 fits\n",
            "2021-08-10 13:33:27-04:00 : Best parameters used for cross validation of Random Forest\n",
            "2021-08-10 13:33:27-04:00 : {'warm_start': True, 'random_state': 42, 'n_jobs': -1, 'n_estimators': 20, 'min_samples_split': 5, 'max_depth': 20}\n",
            "Fitting 10 folds for each of 1 candidates, totalling 10 fits\n",
            "2021-08-10 13:33:36-04:00 : Best parameters used for cross validation of Random Forest\n",
            "2021-08-10 13:33:36-04:00 : {'warm_start': True, 'random_state': 42, 'n_jobs': -1, 'n_estimators': 20, 'min_samples_split': 5, 'max_depth': 20}\n"
          ],
          "name": "stdout"
        }
      ]
    },
    {
      "cell_type": "code",
      "metadata": {
        "id": "HvnyBnUiGBRY",
        "colab": {
          "base_uri": "https://localhost:8080/"
        },
        "outputId": "b48a6a7d-2e79-4f78-d15a-63b94a8d5ecc"
      },
      "source": [
        "NN_202_sm_output_rf_y_pred_test = cross_val_train(2,NN_202_sm_output_df_x_train, NN_202_sm_output_df_y_train).predict(NN_202_sm_output_df_x_test)\n",
        "NN_202_sm_output_rf_y_pred_train = cross_val_train(2,NN_202_sm_output_df_x_train, NN_202_sm_output_df_y_train).predict(NN_202_sm_output_df_x_train)"
      ],
      "execution_count": 210,
      "outputs": [
        {
          "output_type": "stream",
          "text": [
            "Fitting 10 folds for each of 1 candidates, totalling 10 fits\n",
            "2021-08-10 13:58:16-04:00 : Best parameters used for cross validation of Random Forest\n",
            "2021-08-10 13:58:16-04:00 : {'warm_start': True, 'random_state': 42, 'n_jobs': -1, 'n_estimators': 20, 'min_samples_split': 5, 'max_depth': 20}\n",
            "Fitting 10 folds for each of 1 candidates, totalling 10 fits\n",
            "2021-08-10 13:58:25-04:00 : Best parameters used for cross validation of Random Forest\n",
            "2021-08-10 13:58:25-04:00 : {'warm_start': True, 'random_state': 42, 'n_jobs': -1, 'n_estimators': 20, 'min_samples_split': 5, 'max_depth': 20}\n"
          ],
          "name": "stdout"
        }
      ]
    },
    {
      "cell_type": "markdown",
      "metadata": {
        "id": "OLwIYHP8GBRa"
      },
      "source": [
        "#### ***Europe***"
      ]
    },
    {
      "cell_type": "code",
      "metadata": {
        "id": "D0dLA2gnGBRa",
        "colab": {
          "base_uri": "https://localhost:8080/"
        },
        "outputId": "447b03e5-c725-4206-ff65-686c7fe4fa44"
      },
      "source": [
        "EU_103_sm_output_rf_y_pred_test = cross_val_train(2, EU_103_sm_output_df_x_train, EU_103_sm_output_df_y_train).predict(EU_103_sm_output_df_x_test)\n",
        "EU_103_sm_output_rf_y_pred_train = cross_val_train(2, EU_103_sm_output_df_x_train, EU_103_sm_output_df_y_train).predict(EU_103_sm_output_df_x_train)"
      ],
      "execution_count": 211,
      "outputs": [
        {
          "output_type": "stream",
          "text": [
            "Fitting 10 folds for each of 1 candidates, totalling 10 fits\n",
            "2021-08-10 13:58:34-04:00 : Best parameters used for cross validation of Random Forest\n",
            "2021-08-10 13:58:34-04:00 : {'warm_start': True, 'random_state': 42, 'n_jobs': -1, 'n_estimators': 20, 'min_samples_split': 5, 'max_depth': 20}\n",
            "Fitting 10 folds for each of 1 candidates, totalling 10 fits\n",
            "2021-08-10 13:58:42-04:00 : Best parameters used for cross validation of Random Forest\n",
            "2021-08-10 13:58:42-04:00 : {'warm_start': True, 'random_state': 42, 'n_jobs': -1, 'n_estimators': 20, 'min_samples_split': 5, 'max_depth': 20}\n"
          ],
          "name": "stdout"
        }
      ]
    },
    {
      "cell_type": "code",
      "metadata": {
        "id": "nX11FaVHGBRb",
        "colab": {
          "base_uri": "https://localhost:8080/"
        },
        "outputId": "6ded0261-63fa-4c5b-ef6d-fca8c7e2f9c7"
      },
      "source": [
        "EU_202_sm_output_rf_y_pred_test = cross_val_train(2, EU_202_sm_output_df_x_train, EU_202_sm_output_df_y_train).predict(EU_202_sm_output_df_x_test)\n",
        "EU_202_sm_output_rf_y_pred_train = cross_val_train(2, EU_202_sm_output_df_x_train, EU_202_sm_output_df_y_train).predict(EU_202_sm_output_df_x_train)"
      ],
      "execution_count": 174,
      "outputs": [
        {
          "output_type": "stream",
          "text": [
            "Fitting 10 folds for each of 1 candidates, totalling 10 fits\n",
            "2021-08-10 13:34:17-04:00 : Best parameters used for cross validation of Random Forest\n",
            "2021-08-10 13:34:17-04:00 : {'warm_start': True, 'random_state': 42, 'n_jobs': -1, 'n_estimators': 20, 'min_samples_split': 5, 'max_depth': 20}\n",
            "Fitting 10 folds for each of 1 candidates, totalling 10 fits\n",
            "2021-08-10 13:34:25-04:00 : Best parameters used for cross validation of Random Forest\n",
            "2021-08-10 13:34:25-04:00 : {'warm_start': True, 'random_state': 42, 'n_jobs': -1, 'n_estimators': 20, 'min_samples_split': 5, 'max_depth': 20}\n"
          ],
          "name": "stdout"
        }
      ]
    },
    {
      "cell_type": "markdown",
      "metadata": {
        "id": "CPLJCMRMGBRc"
      },
      "source": [
        "#### ***Asia***"
      ]
    },
    {
      "cell_type": "code",
      "metadata": {
        "id": "St4OcWCwGBRd",
        "colab": {
          "base_uri": "https://localhost:8080/"
        },
        "outputId": "080ca308-ab6c-4997-b19e-fe649a703e95"
      },
      "source": [
        "AS_103_sm_output_rf_y_pred_test = cross_val_train(2, AS_103_sm_output_df_x_train, AS_103_sm_output_df_y_train).predict(AS_103_sm_output_df_x_test)\n",
        "AS_103_sm_output_rf_y_pred_train = cross_val_train(2, AS_103_sm_output_df_x_train, AS_103_sm_output_df_y_train).predict(AS_103_sm_output_df_x_train)"
      ],
      "execution_count": 242,
      "outputs": [
        {
          "output_type": "stream",
          "text": [
            "Fitting 10 folds for each of 1 candidates, totalling 10 fits\n",
            "2021-08-10 13:58:55-04:00 : Best parameters used for cross validation of Random Forest\n",
            "2021-08-10 13:58:55-04:00 : {'warm_start': True, 'random_state': 42, 'n_jobs': -1, 'n_estimators': 20, 'min_samples_split': 5, 'max_depth': 20}\n",
            "Fitting 10 folds for each of 1 candidates, totalling 10 fits\n",
            "2021-08-10 13:59:04-04:00 : Best parameters used for cross validation of Random Forest\n",
            "2021-08-10 13:59:04-04:00 : {'warm_start': True, 'random_state': 42, 'n_jobs': -1, 'n_estimators': 20, 'min_samples_split': 5, 'max_depth': 20}\n"
          ],
          "name": "stdout"
        }
      ]
    },
    {
      "cell_type": "code",
      "metadata": {
        "id": "7LzvjquNGBRe",
        "colab": {
          "base_uri": "https://localhost:8080/"
        },
        "outputId": "8bb48089-4a57-4666-8497-22657d9117b6"
      },
      "source": [
        "AS_202_sm_output_rf_y_pred_test = cross_val_train(2, AS_202_sm_output_df_x_train, AS_202_sm_output_df_y_train).predict(AS_202_sm_output_df_x_test)\n",
        "AS_202_sm_output_rf_y_pred_train = cross_val_train(2, AS_202_sm_output_df_x_train, AS_202_sm_output_df_y_train).predict(AS_202_sm_output_df_x_train)"
      ],
      "execution_count": 243,
      "outputs": [
        {
          "output_type": "stream",
          "text": [
            "Fitting 10 folds for each of 1 candidates, totalling 10 fits\n",
            "2021-08-10 13:59:11-04:00 : Best parameters used for cross validation of Random Forest\n",
            "2021-08-10 13:59:11-04:00 : {'warm_start': True, 'random_state': 42, 'n_jobs': -1, 'n_estimators': 20, 'min_samples_split': 5, 'max_depth': 20}\n",
            "Fitting 10 folds for each of 1 candidates, totalling 10 fits\n",
            "2021-08-10 13:59:19-04:00 : Best parameters used for cross validation of Random Forest\n",
            "2021-08-10 13:59:19-04:00 : {'warm_start': True, 'random_state': 42, 'n_jobs': -1, 'n_estimators': 20, 'min_samples_split': 5, 'max_depth': 20}\n"
          ],
          "name": "stdout"
        }
      ]
    },
    {
      "cell_type": "markdown",
      "metadata": {
        "id": "0-rr0urIIpkg"
      },
      "source": [
        "## **Stacking - Level 2**"
      ]
    },
    {
      "cell_type": "markdown",
      "metadata": {
        "id": "HHeqVHWYkOOJ"
      },
      "source": [
        "##### **Stacking Algorithm = Decision Tree**"
      ]
    },
    {
      "cell_type": "markdown",
      "metadata": {
        "id": "D0ZA3D3FMVjW"
      },
      "source": [
        "##### **Weights of 2x applied to Level 1 Random Forest's predictions before feeding them into Level 2 Decesion Tree as inputs**"
      ]
    },
    {
      "cell_type": "markdown",
      "metadata": {
        "id": "kF-9ASguewNf"
      },
      "source": [
        "##### **Level 2 X Training Data = Combine of Level 1 ANN and Random Forest predicitons from the \"train\" data**"
      ]
    },
    {
      "cell_type": "markdown",
      "metadata": {
        "id": "YoCEu8DhJG8w"
      },
      "source": [
        "##### **Level 2 X Test Data = Combine of Level 1 ANN and Random Forest predicitons from the \"test\" data**"
      ]
    },
    {
      "cell_type": "markdown",
      "metadata": {
        "id": "_JknnPrWKF9e"
      },
      "source": [
        "#### ***North America***"
      ]
    },
    {
      "cell_type": "code",
      "metadata": {
        "id": "ugzN3O15VfmG"
      },
      "source": [
        "NN_103_sm_output_ensemble_x_train = np.column_stack((NN_103_sm_output_ann_y_pred_train, NN_103_sm_output_rf_y_pred_train*2))\n",
        "NN_103_sm_output_ensemble_x_train_df = pd.DataFrame(NN_103_sm_output_ensemble_x_train, columns = ['ANN','RF'])\n",
        "NN_103_sm_output_ensemble_x_test = np.column_stack((NN_103_sm_output_ann_y_pred_test, NN_103_sm_output_rf_y_pred_test*2))\n",
        "NN_103_sm_output_ensemble_x_test_df = pd.DataFrame(NN_103_sm_output_ensemble_x_test, columns = ['ANN','RF'])\n",
        "NN_103_sm_output_df_y_train = np.ravel(NN_103_sm_output_df_y_train)\n",
        "NN_103_sm_output_final_pred = xgb.XGBClassifier(objective= 'binary:logistic').fit(NN_103_sm_output_ensemble_x_train_df, NN_103_sm_output_df_y_train).predict(NN_103_sm_output_ensemble_x_test_df)"
      ],
      "execution_count": 246,
      "outputs": []
    },
    {
      "cell_type": "code",
      "metadata": {
        "id": "vPfcE25NJgPB"
      },
      "source": [
        "NN_202_sm_output_ensemble_x_train = np.column_stack((NN_202_sm_output_ann_y_pred_train, NN_202_sm_output_rf_y_pred_train*2))\n",
        "NN_202_sm_output_ensemble_x_train_df = pd.DataFrame(NN_202_sm_output_ensemble_x_train, columns = ['ANN','RF'])\n",
        "NN_202_sm_output_ensemble_x_test = np.column_stack((NN_202_sm_output_ann_y_pred_test, NN_202_sm_output_rf_y_pred_test*2))\n",
        "NN_202_sm_output_ensemble_x_test_df = pd.DataFrame(NN_202_sm_output_ensemble_x_test, columns = ['ANN','RF'])\n",
        "NN_202_sm_output_df_y_train = np.ravel(NN_202_sm_output_df_y_train)\n",
        "NN_202_sm_output_final_pred = xgb.XGBClassifier(objective= 'binary:logistic').fit(NN_202_sm_output_ensemble_x_train_df, NN_202_sm_output_df_y_train).predict(NN_202_sm_output_ensemble_x_test_df)"
      ],
      "execution_count": 250,
      "outputs": []
    },
    {
      "cell_type": "markdown",
      "metadata": {
        "id": "_TZWp5zhKJHE"
      },
      "source": [
        "#### ***Europe***"
      ]
    },
    {
      "cell_type": "code",
      "metadata": {
        "id": "K_-RBiWbJk-X"
      },
      "source": [
        "EU_103_sm_output_ensemble_x_train = np.column_stack((EU_103_sm_output_ann_y_pred_train, EU_103_sm_output_rf_y_pred_train*2))\n",
        "EU_103_sm_output_ensemble_x_train_df = pd.DataFrame(EU_103_sm_output_ensemble_x_train, columns = ['ANN','RF'])\n",
        "EU_103_sm_output_ensemble_x_test = np.column_stack((EU_103_sm_output_ann_y_pred_test, EU_103_sm_output_rf_y_pred_test*2))\n",
        "EU_103_sm_output_ensemble_x_test_df = pd.DataFrame(EU_103_sm_output_ensemble_x_test, columns = ['ANN','RF'])\n",
        "EU_103_sm_output_final_pred = DecisionTreeClassifier(random_state=42).fit(EU_103_sm_output_ensemble_x_train_df, EU_103_sm_output_df_y_train).predict(EU_103_sm_output_ensemble_x_test_df)"
      ],
      "execution_count": 251,
      "outputs": []
    },
    {
      "cell_type": "code",
      "metadata": {
        "id": "9Nav14kxJoxf"
      },
      "source": [
        "EU_202_sm_output_ensemble_x_train = np.column_stack((EU_202_sm_output_ann_y_pred_train, EU_202_sm_output_rf_y_pred_train*2))\n",
        "EU_202_sm_output_ensemble_x_train_df = pd.DataFrame(EU_202_sm_output_ensemble_x_train, columns = ['ANN','RF'])\n",
        "EU_202_sm_output_ensemble_x_test = np.column_stack((EU_202_sm_output_ann_y_pred_test, EU_202_sm_output_rf_y_pred_test*2))\n",
        "EU_202_sm_output_ensemble_x_test_df = pd.DataFrame(EU_202_sm_output_ensemble_x_test, columns = ['ANN','RF'])\n",
        "EU_202_sm_output_final_pred = DecisionTreeClassifier(random_state=42).fit(EU_202_sm_output_ensemble_x_train_df, EU_202_sm_output_df_y_train).predict(EU_202_sm_output_ensemble_x_test_df)"
      ],
      "execution_count": 252,
      "outputs": []
    },
    {
      "cell_type": "markdown",
      "metadata": {
        "id": "2vCBqxtuKT9s"
      },
      "source": [
        "#### ***Asia***"
      ]
    },
    {
      "cell_type": "code",
      "metadata": {
        "id": "cy1i42o0Juw9"
      },
      "source": [
        "AS_103_sm_output_ensemble_x_train = np.column_stack((AS_103_sm_output_ann_y_pred_train, AS_103_sm_output_rf_y_pred_train*2))\n",
        "AS_103_sm_output_ensemble_x_train_df = pd.DataFrame(AS_103_sm_output_ensemble_x_train, columns = ['ANN','RF'])\n",
        "AS_103_sm_output_ensemble_x_test = np.column_stack((AS_103_sm_output_ann_y_pred_test, AS_103_sm_output_rf_y_pred_test*2))\n",
        "AS_103_sm_output_ensemble_x_test_df = pd.DataFrame(AS_103_sm_output_ensemble_x_test, columns = ['ANN','RF'])\n",
        "AS_103_sm_output_final_pred = DecisionTreeClassifier(random_state=42).fit(AS_103_sm_output_ensemble_x_train_df, AS_103_sm_output_df_y_train).predict(AS_103_sm_output_ensemble_x_test_df)"
      ],
      "execution_count": 253,
      "outputs": []
    },
    {
      "cell_type": "code",
      "metadata": {
        "id": "MIMCdy2aJ0Ue"
      },
      "source": [
        "AS_202_sm_output_ensemble_x_train = np.column_stack((AS_202_sm_output_ann_y_pred_train, AS_202_sm_output_rf_y_pred_train*2))\n",
        "AS_202_sm_output_ensemble_x_train_df = pd.DataFrame(AS_202_sm_output_ensemble_x_train, columns = ['ANN','RF'])\n",
        "AS_202_sm_output_ensemble_x_test = np.column_stack((AS_202_sm_output_ann_y_pred_test, AS_202_sm_output_rf_y_pred_test*2))\n",
        "AS_202_sm_output_ensemble_x_test_df = pd.DataFrame(AS_202_sm_output_ensemble_x_test, columns = ['ANN','RF'])\n",
        "AS_202_sm_output_final_pred = DecisionTreeClassifier(random_state=42).fit(AS_202_sm_output_ensemble_x_train_df, AS_202_sm_output_df_y_train).predict(AS_202_sm_output_ensemble_x_test_df)"
      ],
      "execution_count": 254,
      "outputs": []
    },
    {
      "cell_type": "markdown",
      "metadata": {
        "id": "shnfGOwJWD-h"
      },
      "source": [
        "## **Confusion Matricies of Accuracy Statistics**"
      ]
    },
    {
      "cell_type": "markdown",
      "metadata": {
        "id": "9v46QJuBCyTA"
      },
      "source": [
        "**Accuracy** <br>\n",
        "Accuracy is the most intuitive performance measure and it is simply a ratio of correctly predicted observation to the total observations. One may think that, if we have high accuracy then our model is best. Yes, accuracy is a great measure but only when you have symmetric datasets where values of false positive and false negatives are almost same. Therefore, you have to look at other parameters to evaluate the performance of your model. For example, a 0.75 or greater means our model is at least 75% accurate, which is very good.\n",
        "\n",
        "Accuracy = TP+TN/TP+FP+FN+TN\n",
        "\n",
        "**Precision (Specificity)** <br>\n",
        "Precision is the ratio of correctly predicted positive observations over the total of both the correclty and incorrectly predicted positive observations. The question that this metric answer is of all wires that are labeled as fraud, how many are actually fraud? High precision relates to the low false positive rate. For example, a 0.75 precision translates into a very precise prediction.\n",
        "\n",
        "Precision = TP/TP+FP\n",
        "\n",
        "**Recall (Sensitivity)** <br>\n",
        "Recall is the ratio of correctly predicted positive observations over the total of the correclty predicted positive and incorrectly predicted negative observations. The question recall answers is of all the wires that are truly fraud, how many did we labeled? For example, a recall of 0.631 means that our model is good because it is above the threshold of 0.5.\n",
        "\n",
        "Recall = TP/TP+FN\n",
        "\n",
        "**F1 score** <br>\n",
        "F1 Score is the weighted average of Precision and Recall. Therefore, this score takes both false positives and false negatives into account. Intuitively it is not as easy to understand as accuracy, but F1 is usually more useful than accuracy, especially if you have an uneven class distribution. Accuracy works best if false positives and false negatives have similar cost. If the cost of false positives and false negatives are very different, it’s better to look at both Precision and Recall.\n",
        "\n",
        "F1 Score = 2*(Recall * Precision) / (Recall + Precision)"
      ]
    },
    {
      "cell_type": "markdown",
      "metadata": {
        "id": "D3twS7LwWTmx"
      },
      "source": [
        "#### ***North America***"
      ]
    },
    {
      "cell_type": "code",
      "metadata": {
        "id": "WTamYu6NaOpx",
        "colab": {
          "base_uri": "https://localhost:8080/"
        },
        "outputId": "827e6a53-4e51-41c5-a669-8e20e1d274cd"
      },
      "source": [
        "NN_103_output_df_y_train.shape # before SMOTE original y train"
      ],
      "execution_count": 279,
      "outputs": [
        {
          "output_type": "execute_result",
          "data": {
            "text/plain": [
              "(70000, 1)"
            ]
          },
          "metadata": {
            "tags": []
          },
          "execution_count": 279
        }
      ]
    },
    {
      "cell_type": "code",
      "metadata": {
        "id": "7Lz4OaQyWauT",
        "colab": {
          "base_uri": "https://localhost:8080/"
        },
        "outputId": "255b99b2-e1f1-42ee-c54e-f0487dd4da66"
      },
      "source": [
        "NN_103_output_df_y_train[NN_103_output_df_y_train['FRAUD_LABEL']>=1].shape # # before SMOTE original y train filter"
      ],
      "execution_count": 280,
      "outputs": [
        {
          "output_type": "execute_result",
          "data": {
            "text/plain": [
              "(549, 1)"
            ]
          },
          "metadata": {
            "tags": []
          },
          "execution_count": 280
        }
      ]
    },
    {
      "cell_type": "code",
      "metadata": {
        "id": "QsO_HrA7Jm8C",
        "colab": {
          "base_uri": "https://localhost:8080/"
        },
        "outputId": "592f5af2-d01e-4881-f19d-41d3db8b7fa7"
      },
      "source": [
        "NN_103_sm_output_df_y_train.shape # original y train"
      ],
      "execution_count": 281,
      "outputs": [
        {
          "output_type": "execute_result",
          "data": {
            "text/plain": [
              "(138902, 1)"
            ]
          },
          "metadata": {
            "tags": []
          },
          "execution_count": 281
        }
      ]
    },
    {
      "cell_type": "code",
      "metadata": {
        "id": "E_ysFMs4V5Ct",
        "colab": {
          "base_uri": "https://localhost:8080/"
        },
        "outputId": "040c13c6-45dd-4cde-9870-1329e8fd3276"
      },
      "source": [
        "NN_103_sm_output_df_y_train[NN_103_sm_output_df_y_train['FRAUD_LABEL']>=1].shape # original y train prediction filter"
      ],
      "execution_count": 282,
      "outputs": [
        {
          "output_type": "execute_result",
          "data": {
            "text/plain": [
              "(69451, 1)"
            ]
          },
          "metadata": {
            "tags": []
          },
          "execution_count": 282
        }
      ]
    },
    {
      "cell_type": "code",
      "metadata": {
        "id": "0eW2oV9gIZ-1",
        "colab": {
          "base_uri": "https://localhost:8080/"
        },
        "outputId": "9b424a39-331d-4e5a-ab0d-e86f22c4b053"
      },
      "source": [
        "NN_103_sm_output_ann_y_pred_train.shape # ann y train level 1 predictions"
      ],
      "execution_count": 283,
      "outputs": [
        {
          "output_type": "execute_result",
          "data": {
            "text/plain": [
              "(138902,)"
            ]
          },
          "metadata": {
            "tags": []
          },
          "execution_count": 283
        }
      ]
    },
    {
      "cell_type": "code",
      "metadata": {
        "id": "93YonJbdIexM",
        "colab": {
          "base_uri": "https://localhost:8080/"
        },
        "outputId": "d87d74c9-ad0f-48b5-b5b6-15594b88212e"
      },
      "source": [
        "NN_103_sm_output_rf_y_pred_train.shape # random forest y train level 1 predictions"
      ],
      "execution_count": 284,
      "outputs": [
        {
          "output_type": "execute_result",
          "data": {
            "text/plain": [
              "(138902,)"
            ]
          },
          "metadata": {
            "tags": []
          },
          "execution_count": 284
        }
      ]
    },
    {
      "cell_type": "code",
      "metadata": {
        "id": "Np4dRY2cHH9T",
        "colab": {
          "base_uri": "https://localhost:8080/"
        },
        "outputId": "b6c45bad-c12d-49b9-de2f-ae3b6d511b74"
      },
      "source": [
        "NN_103_sm_output_ann_y_pred_train[NN_103_sm_output_ann_y_pred_train>=1].shape # ann y train level 1 prediction filter"
      ],
      "execution_count": 285,
      "outputs": [
        {
          "output_type": "execute_result",
          "data": {
            "text/plain": [
              "(406,)"
            ]
          },
          "metadata": {
            "tags": []
          },
          "execution_count": 285
        }
      ]
    },
    {
      "cell_type": "code",
      "metadata": {
        "id": "lhngx1fGIBD6",
        "colab": {
          "base_uri": "https://localhost:8080/"
        },
        "outputId": "7b7605a3-8c60-4bc6-de66-db2fc8d0e068"
      },
      "source": [
        "NN_103_sm_output_rf_y_pred_train[NN_103_sm_output_rf_y_pred_train>=1].shape  # random forest y train level 1 prediction filter"
      ],
      "execution_count": 286,
      "outputs": [
        {
          "output_type": "execute_result",
          "data": {
            "text/plain": [
              "(97,)"
            ]
          },
          "metadata": {
            "tags": []
          },
          "execution_count": 286
        }
      ]
    },
    {
      "cell_type": "code",
      "metadata": {
        "id": "bOBSY40_DUWy",
        "colab": {
          "base_uri": "https://localhost:8080/"
        },
        "outputId": "adc2088d-8f8e-4cf0-ac6b-473a1e5d9522"
      },
      "source": [
        "NN_103_sm_output_ensemble_x_train_df.shape # level 2 x train"
      ],
      "execution_count": 287,
      "outputs": [
        {
          "output_type": "execute_result",
          "data": {
            "text/plain": [
              "(138902, 2)"
            ]
          },
          "metadata": {
            "tags": []
          },
          "execution_count": 287
        }
      ]
    },
    {
      "cell_type": "code",
      "metadata": {
        "id": "7m2tvVddMZFi",
        "colab": {
          "base_uri": "https://localhost:8080/"
        },
        "outputId": "1df807c9-982a-4054-c305-c07fcd67e20e"
      },
      "source": [
        "NN_103_sm_output_ensemble_x_train_df.shape # level 2 x train "
      ],
      "execution_count": 288,
      "outputs": [
        {
          "output_type": "execute_result",
          "data": {
            "text/plain": [
              "(138902, 2)"
            ]
          },
          "metadata": {
            "tags": []
          },
          "execution_count": 288
        }
      ]
    },
    {
      "cell_type": "code",
      "metadata": {
        "id": "oXcNF2fsUL4b",
        "colab": {
          "base_uri": "https://localhost:8080/"
        },
        "outputId": "c79f9507-6d7e-4a69-ce5d-f1ae0d893e4a"
      },
      "source": [
        "NN_103_sm_output_df_y_train.shape # level 2 y train "
      ],
      "execution_count": 289,
      "outputs": [
        {
          "output_type": "execute_result",
          "data": {
            "text/plain": [
              "(138902, 1)"
            ]
          },
          "metadata": {
            "tags": []
          },
          "execution_count": 289
        }
      ]
    },
    {
      "cell_type": "code",
      "metadata": {
        "id": "MeqqxrBvXBCR",
        "colab": {
          "base_uri": "https://localhost:8080/"
        },
        "outputId": "56bf4f2d-a9c2-438b-db3a-9a08c02863c3"
      },
      "source": [
        "NN_103_sm_output_ensemble_x_train_df[NN_103_sm_output_ensemble_x_train_df['ANN']>=1].shape # level 2 x train ANN filter"
      ],
      "execution_count": 290,
      "outputs": [
        {
          "output_type": "execute_result",
          "data": {
            "text/plain": [
              "(406, 2)"
            ]
          },
          "metadata": {
            "tags": []
          },
          "execution_count": 290
        }
      ]
    },
    {
      "cell_type": "code",
      "metadata": {
        "id": "n0RDr0mECwRF",
        "colab": {
          "base_uri": "https://localhost:8080/"
        },
        "outputId": "f5fe275b-0c77-4f74-8824-85a5fab68ac1"
      },
      "source": [
        "NN_103_sm_output_ensemble_x_train_df[NN_103_sm_output_ensemble_x_train_df['RF']>=1].shape# level 2 x train RF filter"
      ],
      "execution_count": 291,
      "outputs": [
        {
          "output_type": "execute_result",
          "data": {
            "text/plain": [
              "(97, 2)"
            ]
          },
          "metadata": {
            "tags": []
          },
          "execution_count": 291
        }
      ]
    },
    {
      "cell_type": "code",
      "metadata": {
        "id": "N22mLr1CTzjB",
        "colab": {
          "base_uri": "https://localhost:8080/"
        },
        "outputId": "9d8d4672-126a-40d2-91fd-3a3e0db3a421"
      },
      "source": [
        "NN_103_sm_output_ensemble_x_test_df.shape # level 2 x test "
      ],
      "execution_count": 292,
      "outputs": [
        {
          "output_type": "execute_result",
          "data": {
            "text/plain": [
              "(59582, 2)"
            ]
          },
          "metadata": {
            "tags": []
          },
          "execution_count": 292
        }
      ]
    },
    {
      "cell_type": "code",
      "metadata": {
        "id": "zjl3ADPTs1G4",
        "colab": {
          "base_uri": "https://localhost:8080/"
        },
        "outputId": "df12ee73-37fa-47a3-d09d-9ab6026aed06"
      },
      "source": [
        "NN_103_sm_output_ensemble_x_test_df[NN_103_sm_output_ensemble_x_test_df['ANN']>=1].shape # level 2 x test ANN filter"
      ],
      "execution_count": 293,
      "outputs": [
        {
          "output_type": "execute_result",
          "data": {
            "text/plain": [
              "(178, 2)"
            ]
          },
          "metadata": {
            "tags": []
          },
          "execution_count": 293
        }
      ]
    },
    {
      "cell_type": "code",
      "metadata": {
        "id": "-c1OTHies1HH",
        "colab": {
          "base_uri": "https://localhost:8080/"
        },
        "outputId": "2a7fd4e9-6be6-4c03-969f-30354180fbab"
      },
      "source": [
        "NN_103_sm_output_ensemble_x_test_df[NN_103_sm_output_ensemble_x_test_df['RF']>=1].shape# level 2 x test RF filter"
      ],
      "execution_count": 294,
      "outputs": [
        {
          "output_type": "execute_result",
          "data": {
            "text/plain": [
              "(54, 2)"
            ]
          },
          "metadata": {
            "tags": []
          },
          "execution_count": 294
        }
      ]
    },
    {
      "cell_type": "code",
      "metadata": {
        "id": "Uj-NOzgfMK8T",
        "colab": {
          "base_uri": "https://localhost:8080/"
        },
        "outputId": "fcb315f7-aeaa-46b3-b696-2cd9267bff11"
      },
      "source": [
        "NN_103_sm_output_final_pred.shape # level 2 predictions"
      ],
      "execution_count": 295,
      "outputs": [
        {
          "output_type": "execute_result",
          "data": {
            "text/plain": [
              "(59582,)"
            ]
          },
          "metadata": {
            "tags": []
          },
          "execution_count": 295
        }
      ]
    },
    {
      "cell_type": "code",
      "metadata": {
        "id": "2plv7wH4MnmW",
        "colab": {
          "base_uri": "https://localhost:8080/"
        },
        "outputId": "c410fddd-fbf0-4b39-81c3-25d1707a6d4b"
      },
      "source": [
        "NN_103_sm_output_final_pred[NN_103_sm_output_final_pred>=1].shape # level 2 predictions filter"
      ],
      "execution_count": 296,
      "outputs": [
        {
          "output_type": "execute_result",
          "data": {
            "text/plain": [
              "(59397,)"
            ]
          },
          "metadata": {
            "tags": []
          },
          "execution_count": 296
        }
      ]
    },
    {
      "cell_type": "markdown",
      "metadata": {
        "id": "C4H6GeJvEq4j"
      },
      "source": [
        "#### MT103"
      ]
    },
    {
      "cell_type": "code",
      "metadata": {
        "id": "8q5TF-K5XAMd",
        "colab": {
          "base_uri": "https://localhost:8080/"
        },
        "outputId": "f0d23bef-bb4e-4bd0-a3fe-bb290079cc9e"
      },
      "source": [
        "print(confusion_matrix(NN_103_sm_output_df_y_test,NN_103_sm_output_final_pred))\n",
        "print(classification_report(NN_103_sm_output_df_y_test,NN_103_sm_output_final_pred))"
      ],
      "execution_count": 297,
      "outputs": [
        {
          "output_type": "stream",
          "text": [
            "[[  185 29606]\n",
            " [    0 29791]]\n",
            "              precision    recall  f1-score   support\n",
            "\n",
            "           0       1.00      0.01      0.01     29791\n",
            "           1       0.50      1.00      0.67     29791\n",
            "\n",
            "    accuracy                           0.50     59582\n",
            "   macro avg       0.75      0.50      0.34     59582\n",
            "weighted avg       0.75      0.50      0.34     59582\n",
            "\n"
          ],
          "name": "stdout"
        }
      ]
    },
    {
      "cell_type": "markdown",
      "metadata": {
        "id": "6kKbMPWyFJud"
      },
      "source": [
        "#### MT202"
      ]
    },
    {
      "cell_type": "code",
      "metadata": {
        "id": "1aw30Qc3FJud",
        "colab": {
          "base_uri": "https://localhost:8080/"
        },
        "outputId": "e41d6f42-da35-46d3-bfca-aa4ee7ea03d4"
      },
      "source": [
        "print(confusion_matrix(NN_202_sm_output_df_y_test,NN_202_sm_output_final_pred))\n",
        "print(classification_report(NN_202_sm_output_df_y_test,NN_202_sm_output_final_pred))"
      ],
      "execution_count": 298,
      "outputs": [
        {
          "output_type": "stream",
          "text": [
            "[[   21 29778]\n",
            " [    0 29799]]\n",
            "              precision    recall  f1-score   support\n",
            "\n",
            "           0       1.00      0.00      0.00     29799\n",
            "           1       0.50      1.00      0.67     29799\n",
            "\n",
            "    accuracy                           0.50     59598\n",
            "   macro avg       0.75      0.50      0.33     59598\n",
            "weighted avg       0.75      0.50      0.33     59598\n",
            "\n"
          ],
          "name": "stdout"
        }
      ]
    },
    {
      "cell_type": "markdown",
      "metadata": {
        "id": "ReeJ35ruWUgg"
      },
      "source": [
        "#### ***Europe***"
      ]
    },
    {
      "cell_type": "markdown",
      "metadata": {
        "id": "-iVjtupxFoxM"
      },
      "source": [
        "#### MT103"
      ]
    },
    {
      "cell_type": "code",
      "metadata": {
        "id": "ylIcN4bWFoxU",
        "colab": {
          "base_uri": "https://localhost:8080/"
        },
        "outputId": "550c39c5-a5b3-435a-849d-212e3ef9c70b"
      },
      "source": [
        "print(confusion_matrix(EU_103_sm_output_df_y_test,EU_103_sm_output_final_pred))\n",
        "print(classification_report(EU_103_sm_output_df_y_test,EU_103_sm_output_final_pred))"
      ],
      "execution_count": 299,
      "outputs": [
        {
          "output_type": "stream",
          "text": [
            "[[27430  2426]\n",
            " [27521  2335]]\n",
            "              precision    recall  f1-score   support\n",
            "\n",
            "           0       0.50      0.92      0.65     29856\n",
            "           1       0.49      0.08      0.13     29856\n",
            "\n",
            "    accuracy                           0.50     59712\n",
            "   macro avg       0.49      0.50      0.39     59712\n",
            "weighted avg       0.49      0.50      0.39     59712\n",
            "\n"
          ],
          "name": "stdout"
        }
      ]
    },
    {
      "cell_type": "markdown",
      "metadata": {
        "id": "fYu83cKcFoxU"
      },
      "source": [
        "#### MT202"
      ]
    },
    {
      "cell_type": "code",
      "metadata": {
        "id": "vBOZXsiPFoxV",
        "colab": {
          "base_uri": "https://localhost:8080/"
        },
        "outputId": "08184198-e47a-4d57-87fd-31120a02aa26"
      },
      "source": [
        "print(confusion_matrix(EU_202_sm_output_df_y_test,EU_202_sm_output_final_pred))\n",
        "print(classification_report(EU_202_sm_output_df_y_test,EU_202_sm_output_final_pred))"
      ],
      "execution_count": 300,
      "outputs": [
        {
          "output_type": "stream",
          "text": [
            "[[27476  2402]\n",
            " [26962  2916]]\n",
            "              precision    recall  f1-score   support\n",
            "\n",
            "           0       0.50      0.92      0.65     29878\n",
            "           1       0.55      0.10      0.17     29878\n",
            "\n",
            "    accuracy                           0.51     59756\n",
            "   macro avg       0.53      0.51      0.41     59756\n",
            "weighted avg       0.53      0.51      0.41     59756\n",
            "\n"
          ],
          "name": "stdout"
        }
      ]
    },
    {
      "cell_type": "markdown",
      "metadata": {
        "id": "BdJA2f7gWUxf"
      },
      "source": [
        "#### ***Asia***"
      ]
    },
    {
      "cell_type": "markdown",
      "metadata": {
        "id": "-kcddJwRF9K9"
      },
      "source": [
        "#### MT103"
      ]
    },
    {
      "cell_type": "code",
      "metadata": {
        "id": "fUfE_u-oF9LF",
        "colab": {
          "base_uri": "https://localhost:8080/"
        },
        "outputId": "4a90e831-df33-46c2-c6a2-0876b17ebb2b"
      },
      "source": [
        "print(confusion_matrix(AS_103_sm_output_df_y_test,AS_103_sm_output_final_pred))\n",
        "print(classification_report(AS_103_sm_output_df_y_test,AS_103_sm_output_final_pred))"
      ],
      "execution_count": 301,
      "outputs": [
        {
          "output_type": "stream",
          "text": [
            "[[27430  2426]\n",
            " [27521  2335]]\n",
            "              precision    recall  f1-score   support\n",
            "\n",
            "           0       0.50      0.92      0.65     29856\n",
            "           1       0.49      0.08      0.13     29856\n",
            "\n",
            "    accuracy                           0.50     59712\n",
            "   macro avg       0.49      0.50      0.39     59712\n",
            "weighted avg       0.49      0.50      0.39     59712\n",
            "\n"
          ],
          "name": "stdout"
        }
      ]
    },
    {
      "cell_type": "markdown",
      "metadata": {
        "id": "bC78w7-uF9LF"
      },
      "source": [
        "#### MT202"
      ]
    },
    {
      "cell_type": "code",
      "metadata": {
        "id": "EOMEbtZeF9LG",
        "colab": {
          "base_uri": "https://localhost:8080/"
        },
        "outputId": "d86c11f5-8d2b-45bf-95ee-5923666ea2a1"
      },
      "source": [
        "print(confusion_matrix(AS_202_sm_output_df_y_test,AS_202_sm_output_final_pred))\n",
        "print(classification_report(AS_202_sm_output_df_y_test,AS_202_sm_output_final_pred))"
      ],
      "execution_count": 302,
      "outputs": [
        {
          "output_type": "stream",
          "text": [
            "[[27476  2402]\n",
            " [26962  2916]]\n",
            "              precision    recall  f1-score   support\n",
            "\n",
            "           0       0.50      0.92      0.65     29878\n",
            "           1       0.55      0.10      0.17     29878\n",
            "\n",
            "    accuracy                           0.51     59756\n",
            "   macro avg       0.53      0.51      0.41     59756\n",
            "weighted avg       0.53      0.51      0.41     59756\n",
            "\n"
          ],
          "name": "stdout"
        }
      ]
    },
    {
      "cell_type": "markdown",
      "metadata": {
        "id": "OVdnhD_XhGes"
      },
      "source": [
        "## **Merge Final Predictions with X Test Data Sets**"
      ]
    },
    {
      "cell_type": "code",
      "metadata": {
        "id": "bFza8WNGhDWV"
      },
      "source": [
        "# Merge SMOTE to North America\n",
        "NN_103_final_df = pd.DataFrame( np.column_stack((NN_103_sm_output_df_x_test.to_numpy(), NN_103_sm_output_final_pred)),  columns = ['TRANSACTION_MONTH','TRANSACTION_AMOUNT','FRAUD_LABEL'] )\n",
        "NN_202_final_df = pd.DataFrame( np.column_stack((NN_202_sm_output_df_x_test.to_numpy(), NN_202_sm_output_final_pred)),  columns = ['TRANSACTION_MONTH','TRANSACTION_AMOUNT','FRAUD_LABEL'] )\n",
        "\n",
        "# Merge SMOTE to Europe\n",
        "EU_103_final_df = pd.DataFrame( np.column_stack((EU_103_sm_output_df_x_test.to_numpy(), EU_103_sm_output_final_pred)),  columns = ['TRANSACTION_MONTH','TRANSACTION_AMOUNT','FRAUD_LABEL'] )\n",
        "EU_202_final_df = pd.DataFrame( np.column_stack((EU_202_sm_output_df_x_test.to_numpy(), EU_202_sm_output_final_pred)),  columns = ['TRANSACTION_MONTH','TRANSACTION_AMOUNT','FRAUD_LABEL'] )\n",
        "\n",
        "# Merge SMOTE to Asia\n",
        "AS_103_final_df = pd.DataFrame( np.column_stack((AS_103_sm_output_df_x_test.to_numpy(), AS_103_sm_output_final_pred)),  columns = ['TRANSACTION_MONTH','TRANSACTION_AMOUNT','FRAUD_LABEL'] )\n",
        "AS_202_final_df = pd.DataFrame( np.column_stack((AS_202_sm_output_df_x_test.to_numpy(), AS_202_sm_output_final_pred)),  columns = ['TRANSACTION_MONTH','TRANSACTION_AMOUNT','FRAUD_LABEL'] )"
      ],
      "execution_count": 303,
      "outputs": []
    },
    {
      "cell_type": "markdown",
      "metadata": {
        "id": "EuTWuYNpZxRa"
      },
      "source": [
        "## **Backup Final Results for Rule Tuning**"
      ]
    },
    {
      "cell_type": "code",
      "metadata": {
        "id": "koXciS14Z6GX"
      },
      "source": [
        "NN_103_final_df.to_csv('/content/gdrive/MyDrive/DSC-380/NN_103_final_df.csv', index=False)\n",
        "NN_202_final_df.to_csv('/content/gdrive/MyDrive/DSC-380/NN_202_final_df.csv', index=False)\n",
        "EU_103_final_df.to_csv('/content/gdrive/MyDrive/DSC-380/EU_103_final_df.csv', index=False)\n",
        "EU_202_final_df.to_csv('/content/gdrive/MyDrive/DSC-380/EU_202_final_df.csv', index=False)\n",
        "AS_103_final_df.to_csv('/content/gdrive/MyDrive/DSC-380/AS_103_final_df.csv', index=False)\n",
        "AS_202_final_df.to_csv('/content/gdrive/MyDrive/DSC-380/AS_202_final_df.csv', index=False)"
      ],
      "execution_count": 304,
      "outputs": []
    }
  ]
}