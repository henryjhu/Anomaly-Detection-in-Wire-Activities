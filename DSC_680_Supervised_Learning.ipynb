{
  "nbformat": 4,
  "nbformat_minor": 0,
  "metadata": {
    "colab": {
      "name": "DSC_680_Supervised_Learning.ipynb",
      "provenance": [],
      "collapsed_sections": [],
      "history_visible": true,
      "machine_shape": "hm",
      "authorship_tag": "ABX9TyOANZixRlBYqSmTpsck4ucy",
      "include_colab_link": true
    },
    "kernelspec": {
      "name": "python3",
      "display_name": "Python 3"
    },
    "language_info": {
      "name": "python"
    },
    "accelerator": "GPU"
  },
  "cells": [
    {
      "cell_type": "markdown",
      "metadata": {
        "id": "view-in-github",
        "colab_type": "text"
      },
      "source": [
        "<a href=\"https://colab.research.google.com/github/henryjhu/Anomaly-Detection-in-Wire-Activities/blob/main/DSC_680_Supervised_Learning.ipynb\" target=\"_parent\"><img src=\"https://colab.research.google.com/assets/colab-badge.svg\" alt=\"Open In Colab\"/></a>"
      ]
    },
    {
      "cell_type": "markdown",
      "metadata": {
        "id": "sb3PbbWC0L51"
      },
      "source": [
        "# **DSC-680-Z1 Research Practicum** <BR> Machine Learning"
      ]
    },
    {
      "cell_type": "markdown",
      "metadata": {
        "id": "gBzyuneg0nNU"
      },
      "source": [
        "## **Project Description**\n",
        "A global bank sought to find new and innovative means for detecting and preventing fraud in their wire transactions. Their goal is through machine learning to arrive at scenario detection rules which could be customized with parameters specific for each cohort of customers. The immediate challenge was that the data provided had no labels. Therefore, unsupervised machine learning techniques were first employed for this research project. After the labels have been identified, supervised machine learning techniques were then employed with selected tuning parameters to increase both the sensitivity and specificity percentages of both classes."
      ]
    },
    {
      "cell_type": "markdown",
      "metadata": {
        "id": "YUE-xhQ40sNr"
      },
      "source": [
        "<b>Purpose:</b><br>\n",
        "Carry out supervised machine learnings with the sample data.<br>\n",
        "<b>Universtiy Name:</b> Utica College <br>\n",
        "<b>Course Name:</b> DSC-680-Z1 Research Practicum <br>\n",
        "<b>Student Name:</b> Henry J. Hu <br>\n",
        "<b>Program Director Name:</b> Dr. McCarthy, Michael <br>\n",
        "<b>Runtime Environment:</b> Google Colab<br>\n",
        "<b>Programming Language:</b> Python <br>\n",
        "<b>Sample Data Frame:</b>\n",
        "Six random samples of labeled international wires belonging to 139 customers from 3 continents for the entire year of 2020.<br>\n",
        "<b> Last Update:</b> August 7th, 2021"
      ]
    },
    {
      "cell_type": "markdown",
      "metadata": {
        "id": "NMMMqxrAEMnC"
      },
      "source": [
        "## **Installing Packages Into Google Colab**"
      ]
    },
    {
      "cell_type": "code",
      "metadata": {
        "id": "w_pApv2uq32I",
        "colab": {
          "base_uri": "https://localhost:8080/",
          "height": 0
        },
        "outputId": "44c62a88-0be2-4775-8d41-8c31633e8c24"
      },
      "source": [
        "!pip install -U imbalanced-learn"
      ],
      "execution_count": 1,
      "outputs": [
        {
          "output_type": "stream",
          "text": [
            "Requirement already satisfied: imbalanced-learn in /usr/local/lib/python3.7/dist-packages (0.4.3)\n",
            "Collecting imbalanced-learn\n",
            "  Downloading imbalanced_learn-0.8.0-py3-none-any.whl (206 kB)\n",
            "\u001b[K     |████████████████████████████████| 206 kB 4.2 MB/s \n",
            "\u001b[?25hRequirement already satisfied: numpy>=1.13.3 in /usr/local/lib/python3.7/dist-packages (from imbalanced-learn) (1.19.5)\n",
            "Requirement already satisfied: joblib>=0.11 in /usr/local/lib/python3.7/dist-packages (from imbalanced-learn) (1.0.1)\n",
            "Collecting scikit-learn>=0.24\n",
            "  Downloading scikit_learn-0.24.2-cp37-cp37m-manylinux2010_x86_64.whl (22.3 MB)\n",
            "\u001b[K     |████████████████████████████████| 22.3 MB 120.2 MB/s \n",
            "\u001b[?25hRequirement already satisfied: scipy>=0.19.1 in /usr/local/lib/python3.7/dist-packages (from imbalanced-learn) (1.4.1)\n",
            "Collecting threadpoolctl>=2.0.0\n",
            "  Downloading threadpoolctl-2.2.0-py3-none-any.whl (12 kB)\n",
            "Installing collected packages: threadpoolctl, scikit-learn, imbalanced-learn\n",
            "  Attempting uninstall: scikit-learn\n",
            "    Found existing installation: scikit-learn 0.22.2.post1\n",
            "    Uninstalling scikit-learn-0.22.2.post1:\n",
            "      Successfully uninstalled scikit-learn-0.22.2.post1\n",
            "  Attempting uninstall: imbalanced-learn\n",
            "    Found existing installation: imbalanced-learn 0.4.3\n",
            "    Uninstalling imbalanced-learn-0.4.3:\n",
            "      Successfully uninstalled imbalanced-learn-0.4.3\n",
            "Successfully installed imbalanced-learn-0.8.0 scikit-learn-0.24.2 threadpoolctl-2.2.0\n"
          ],
          "name": "stdout"
        }
      ]
    },
    {
      "cell_type": "markdown",
      "metadata": {
        "id": "0FVDlmHJq6th"
      },
      "source": [
        "## **Mounting Google Drive**"
      ]
    },
    {
      "cell_type": "code",
      "metadata": {
        "id": "Ovr70FQWyvvY",
        "colab": {
          "base_uri": "https://localhost:8080/",
          "height": 0
        },
        "outputId": "8b59f767-b3dd-4b89-ae62-72105176ff1a"
      },
      "source": [
        "from google.colab import drive\n",
        "drive.mount('/content/gdrive/', force_remount=True)"
      ],
      "execution_count": 2,
      "outputs": [
        {
          "output_type": "stream",
          "text": [
            "Mounted at /content/gdrive/\n"
          ],
          "name": "stdout"
        }
      ]
    },
    {
      "cell_type": "markdown",
      "metadata": {
        "id": "WGsaUOOmEZXJ"
      },
      "source": [
        "## **Importing Libraries**"
      ]
    },
    {
      "cell_type": "code",
      "metadata": {
        "id": "kEqZ5d75z_rg",
        "colab": {
          "base_uri": "https://localhost:8080/",
          "height": 0
        },
        "outputId": "a8359cc5-6cb6-46da-cc97-fe8ae37daf76"
      },
      "source": [
        "# Importing libraries\n",
        "import io\n",
        "import pandas as pd\n",
        "import numpy as np\n",
        "import seaborn as sns\n",
        "import matplotlib.pyplot as plt\n",
        "import xgboost as xgb\n",
        "import seaborn as sns\n",
        "import sklearn\n",
        "import traceback\n",
        "import time\n",
        "import pytz\n",
        "import xgboost as xgb\n",
        "from datetime import datetime\n",
        "from sklearn import metrics\n",
        "from scipy.stats import rankdata\n",
        "from numpy import quantile, where, random\n",
        "from random import sample\n",
        "from sklearn.preprocessing import StandardScaler\n",
        "from sklearn.model_selection import train_test_split\n",
        "from sklearn import model_selection, preprocessing\n",
        "from sklearn.datasets import make_blobs\n",
        "from sklearn.metrics import classification_report, accuracy_score\n",
        "from sklearn.neural_network import MLPRegressor\n",
        "from sklearn.neural_network import MLPClassifier\n",
        "from sklearn.neighbors import LocalOutlierFactor\n",
        "from sklearn.linear_model import LogisticRegression\n",
        "from sklearn.tree import DecisionTreeClassifier\n",
        "from sklearn.model_selection import RepeatedStratifiedKFold\n",
        "from sklearn.model_selection import cross_val_score, KFold\n",
        "from sklearn.model_selection import cross_validate \n",
        "from sklearn.model_selection import cross_val_predict\n",
        "from sklearn.model_selection import TimeSeriesSplit\n",
        "from sklearn.model_selection import GridSearchCV\n",
        "from sklearn.model_selection import RandomizedSearchCV\n",
        "from sklearn.metrics import classification_report,confusion_matrix\n",
        "from sklearn.ensemble import (RandomForestClassifier, AdaBoostClassifier, GradientBoostingClassifier, \n",
        "                              ExtraTreesClassifier, IsolationForest, VotingClassifier, StackingClassifier)\n",
        "from imblearn.over_sampling import SMOTE # https://github.com/vsmolyakov/experiments_with_python/blob/master/chp01/imbalanced_data.ipynb"
      ],
      "execution_count": 2,
      "outputs": [
        {
          "output_type": "stream",
          "text": [
            "/usr/local/lib/python3.7/dist-packages/sklearn/externals/six.py:31: FutureWarning: The module is deprecated in version 0.21 and will be removed in version 0.23 since we've dropped support for Python 2.7. Please rely on the official version of six (https://pypi.org/project/six/).\n",
            "  \"(https://pypi.org/project/six/).\", FutureWarning)\n",
            "/usr/local/lib/python3.7/dist-packages/sklearn/utils/deprecation.py:144: FutureWarning: The sklearn.neighbors.base module is  deprecated in version 0.22 and will be removed in version 0.24. The corresponding classes / functions should instead be imported from sklearn.neighbors. Anything that cannot be imported from sklearn.neighbors is now part of the private API.\n",
            "  warnings.warn(message, FutureWarning)\n"
          ],
          "name": "stderr"
        }
      ]
    },
    {
      "cell_type": "markdown",
      "metadata": {
        "id": "CUn_dKOdEYDh"
      },
      "source": [
        "## **Importing Data into Google Colab**"
      ]
    },
    {
      "cell_type": "code",
      "metadata": {
        "id": "EVumC16bF1U-"
      },
      "source": [
        "# Importing data\n",
        "NN_103_output_df = pd.read_csv(\"gdrive/MyDrive/DSC-380/NN_103_score_df.cvs\")\n",
        "NN_202_output_df = pd.read_csv(\"gdrive/MyDrive/DSC-380/NN_202_score_df.cvs\")\n",
        "EU_103_output_df = pd.read_csv(\"gdrive/MyDrive/DSC-380/EU_103_score_df.cvs\")\n",
        "EU_202_output_df = pd.read_csv(\"gdrive/MyDrive/DSC-380/EU_202_score_df.cvs\")\n",
        "AS_103_output_df = pd.read_csv(\"gdrive/MyDrive/DSC-380/AS_103_score_df.cvs\")\n",
        "AS_202_output_df = pd.read_csv(\"gdrive/MyDrive/DSC-380/AS_202_score_df.cvs\")"
      ],
      "execution_count": 4,
      "outputs": []
    },
    {
      "cell_type": "markdown",
      "metadata": {
        "id": "AuwgZJjEBgNc"
      },
      "source": [
        "## **Re-Sampling**"
      ]
    },
    {
      "cell_type": "code",
      "metadata": {
        "id": "up_AvSAXBnFT"
      },
      "source": [
        "NN_103_output_df = NN_103_output_df.sample(n=100000, random_state=42)\n",
        "NN_202_output_df = NN_202_output_df.sample(n=100000, random_state=42)\n",
        "EU_103_output_df = EU_103_output_df.sample(n=100000, random_state=42)\n",
        "EU_202_output_df = EU_202_output_df.sample(n=100000, random_state=42)\n",
        "AS_103_output_df = AS_103_output_df.sample(n=100000, random_state=42)\n",
        "AS_202_output_df = AS_202_output_df.sample(n=100000, random_state=42)"
      ],
      "execution_count": 5,
      "outputs": []
    },
    {
      "cell_type": "markdown",
      "metadata": {
        "id": "G_XuatApFJ1_"
      },
      "source": [
        "## **Preparation of Training and Test Data Sets**"
      ]
    },
    {
      "cell_type": "code",
      "metadata": {
        "id": "CKL9215-aCDD"
      },
      "source": [
        "NN_103_output_df_x_train, NN_103_output_df_x_test, NN_103_output_df_y_train, NN_103_output_df_y_test = train_test_split(NN_103_output_df[['TRXN_MONTH','TRANSACTION_AMOUNT']],NN_103_output_df[['FRAUD_LABEL']],train_size=0.7, test_size=0.3, shuffle=True, random_state=42)"
      ],
      "execution_count": 6,
      "outputs": []
    },
    {
      "cell_type": "code",
      "metadata": {
        "id": "IC4IMk9Mef5i"
      },
      "source": [
        "NN_202_output_df_x_train, NN_202_output_df_x_test, NN_202_output_df_y_train, NN_202_output_df_y_test = train_test_split(NN_202_output_df[['TRXN_MONTH','TRANSACTION_AMOUNT']],NN_202_output_df[['FRAUD_LABEL']],train_size=0.7, test_size=0.3, shuffle=True, random_state=42)"
      ],
      "execution_count": 7,
      "outputs": []
    },
    {
      "cell_type": "code",
      "metadata": {
        "id": "5DpM22tUegtZ"
      },
      "source": [
        "EU_103_output_df_x_train, EU_103_output_df_x_test, EU_103_output_df_y_train, EU_103_output_df_y_test = train_test_split(EU_103_output_df[['TRXN_MONTH','TRANSACTION_AMOUNT']],EU_103_output_df[['FRAUD_LABEL']],train_size=0.7, test_size=0.3, shuffle=True, random_state=42)"
      ],
      "execution_count": 8,
      "outputs": []
    },
    {
      "cell_type": "code",
      "metadata": {
        "id": "zLNSCAhsehI5"
      },
      "source": [
        "EU_202_output_df_x_train, EU_202_output_df_x_test, EU_202_output_df_y_train, EU_202_output_df_y_test = train_test_split(EU_202_output_df[['TRXN_MONTH','TRANSACTION_AMOUNT']],EU_202_output_df[['FRAUD_LABEL']],train_size=0.7, test_size=0.3, shuffle=True, random_state=42)"
      ],
      "execution_count": 9,
      "outputs": []
    },
    {
      "cell_type": "code",
      "metadata": {
        "id": "DW4qGBsyehlR"
      },
      "source": [
        "AS_103_output_df_x_train, AS_103_output_df_x_test, AS_103_output_df_y_train, AS_103_output_df_y_test = train_test_split(AS_103_output_df[['TRXN_MONTH','TRANSACTION_AMOUNT']],AS_103_output_df[['FRAUD_LABEL']],train_size=0.7, test_size=0.3, shuffle=True, random_state=42)"
      ],
      "execution_count": 10,
      "outputs": []
    },
    {
      "cell_type": "code",
      "metadata": {
        "id": "jDib_G6aeiSJ"
      },
      "source": [
        "AS_202_output_df_x_train, AS_202_output_df_x_test, AS_202_output_df_y_train, AS_202_output_df_y_test = train_test_split(AS_202_output_df[['TRXN_MONTH','TRANSACTION_AMOUNT']],AS_202_output_df[['FRAUD_LABEL']],train_size=0.7, test_size=0.3, shuffle=True, random_state=42)"
      ],
      "execution_count": 11,
      "outputs": []
    },
    {
      "cell_type": "markdown",
      "metadata": {
        "id": "hBMuKhfCueo9"
      },
      "source": [
        "## **Over Sampling the Minority Class Using SMOTE**"
      ]
    },
    {
      "cell_type": "code",
      "metadata": {
        "id": "4DWedXZluR2G"
      },
      "source": [
        "# Initilize SMOTE\n",
        "sm = SMOTE(random_state=42, n_jobs=-1)\n",
        "\n",
        "# Apply SMOTE to North America\n",
        "NN_103_sm_output_df_x_train, NN_103_sm_output_df_y_train = sm.fit_resample(NN_103_output_df_x_train, NN_103_output_df_y_train)\n",
        "NN_103_sm_output_df_x_test, NN_103_sm_output_df_y_test = sm.fit_resample(NN_103_output_df_x_test, NN_103_output_df_y_test)\n",
        "NN_202_sm_output_df_x_train, NN_202_sm_output_df_y_train = sm.fit_resample(NN_202_output_df_x_train, NN_202_output_df_y_train)\n",
        "NN_202_sm_output_df_x_test, NN_202_sm_output_df_y_test = sm.fit_resample(NN_202_output_df_x_test, NN_202_output_df_y_test)\n",
        "\n",
        "#Apply SMOTE to Europe\n",
        "EU_103_sm_output_df_x_train, EU_103_sm_output_df_y_train = sm.fit_resample(EU_103_output_df_x_train, EU_103_output_df_y_train)\n",
        "EU_103_sm_output_df_x_test, EU_103_sm_output_df_y_test = sm.fit_resample(EU_103_output_df_x_test, EU_103_output_df_y_test)\n",
        "EU_202_sm_output_df_x_train, EU_202_sm_output_df_y_train = sm.fit_resample(EU_202_output_df_x_train, EU_202_output_df_y_train)\n",
        "EU_202_sm_output_df_x_test, EU_202_sm_output_df_y_test = sm.fit_resample(EU_202_output_df_x_test, EU_202_output_df_y_test)\n",
        "\n",
        "#Apply SMOTE to Asia\n",
        "AS_103_sm_output_df_x_train, AS_103_sm_output_df_y_train = sm.fit_resample(AS_103_output_df_x_train, AS_103_output_df_y_train)\n",
        "AS_103_sm_output_df_x_test, AS_103_sm_output_df_y_test = sm.fit_resample(AS_103_output_df_x_test, AS_103_output_df_y_test)\n",
        "AS_202_sm_output_df_x_train, AS_202_sm_output_df_y_train = sm.fit_resample(AS_202_output_df_x_train, AS_202_output_df_y_train)\n",
        "AS_202_sm_output_df_x_test, AS_202_sm_output_df_y_test = sm.fit_resample(AS_202_output_df_x_test, AS_202_output_df_y_test)\n",
        "\n",
        "# unique, count = np.unique(NN_103_sm_output_df_y_train, return_counts=True)\n",
        "# y_train_ct = {k:v for (k,v) in zip(unique, count)}\n",
        "# y_train_ct\n",
        "# NN_103_sm_output_df_x_train"
      ],
      "execution_count": 12,
      "outputs": []
    },
    {
      "cell_type": "markdown",
      "metadata": {
        "id": "St9bXjehZ5-M"
      },
      "source": [
        "## **Cross Validation Function**"
      ]
    },
    {
      "cell_type": "code",
      "metadata": {
        "id": "D-YL7ig5s4Tf"
      },
      "source": [
        "##############################################################################################\n",
        "#\n",
        "# Purpose: \n",
        "# Through cross validation, performs model fitting, training and prediction for \n",
        "# Random Forest and Artificial Neuro Networks \n",
        "#\n",
        "##############################################################################################"
      ],
      "execution_count": 13,
      "outputs": []
    },
    {
      "cell_type": "code",
      "metadata": {
        "id": "YCbZh3I21LdQ"
      },
      "source": [
        "def cross_val_train (clf_n, X_train, Y_train):\n",
        "\n",
        "  # Initialize the log variable\n",
        "  class log:\n",
        "    def_tz = pytz.timezone('America/New_York')\n",
        "    def info(text):        \n",
        "        print(f'{datetime.now(log.def_tz).replace(microsecond=0)} : {text}');\n",
        "\n",
        "  # Y train has to be a 1D array\n",
        "  Y_train = np.ravel(Y_train)\n",
        "\n",
        "  # Scale and center the data around the mean of 0\n",
        "  scaler = preprocessing.StandardScaler().fit(X_train)\n",
        "  X_train = scaler.transform(X_train)\n",
        "\n",
        "  # Random Seed\n",
        "  random.seed(42)\n",
        "\n",
        "  clf1=MLPClassifier()\n",
        "  clf2=RandomForestClassifier()\n",
        "\n",
        "  # Best tunning hyper parameters have been determined with two random iterations\n",
        "  # Data frames used: NN_202_output_df_x_train, NN_202_output_df_y_train\n",
        "  clf1_parameter_space = {\n",
        "      'warm_start': [True],\n",
        "      'max_iter': [10000],\n",
        "      'hidden_layer_sizes': [(4,8),(8,16),(16,32)],\n",
        "      'activation': ['logistic'],\n",
        "      'solver': ['lbfgs'], # Have to set learning_rate_init if solver is either ’sgd’ or ‘adam’ \n",
        "      'alpha': [0.05,0.1,1.5,2.0,2.5], # Have to set alpha correctly or else all same label values in output \n",
        "      'learning_rate': ['adaptive'], # No need to set learning_rate if solver is not ’sgd’\n",
        "      'random_state': [42]\n",
        "  }\n",
        "  # Best tunning hyper parameters have been determined with two random iterations\n",
        "  # Data frames used: NN_202_output_df_x_train, NN_202_output_df_y_train\n",
        "  clf2_parameter_space = {\n",
        "      'bootstrap': [True, False],\n",
        "      'max_depth': [10, 20, 30, 40, 50, 60, 70, 80, 90, 100, None],\n",
        "      'max_features': ['auto', 'sqrt'],\n",
        "      'min_samples_leaf': [1, 2, 4],\n",
        "      'min_samples_split': [2, 5, 10],\n",
        "      'n_estimators': [200, 400, 600, 800, 1000, 1200, 1400, 1600, 1800, 2000]\n",
        "  }\n",
        "\n",
        "  if clf_n == 1:\n",
        "    model = clf1\n",
        "    model_name = 'Artificial Neuro Networks'\n",
        "    clf_parameter_space = clf1_parameter_space\n",
        "  else: \n",
        "    model = clf2\n",
        "    model_name = 'Random Forest'\n",
        "    clf_parameter_space = clf2_parameter_space\n",
        "\n",
        "  clf_cross = RandomizedSearchCV(model, clf_parameter_space, n_jobs=-1, cv=10, n_iter=1, verbose=True, refit=True) # Stratified cv fold cross validation\n",
        "  clf_cross.fit(X_train, Y_train)\n",
        "\n",
        "  log.info(f'Best parameters used for cross validation of {model_name}')\n",
        "  log.info(clf_cross.best_params_)\n",
        "\n",
        "  return clf_cross"
      ],
      "execution_count": 14,
      "outputs": []
    },
    {
      "cell_type": "markdown",
      "metadata": {
        "id": "cZHnutZ8DwjV"
      },
      "source": [
        "## **Stacking - Level 1**"
      ]
    },
    {
      "cell_type": "markdown",
      "metadata": {
        "id": "6Qrt9hauU7wS"
      },
      "source": [
        "### **Gathering Predictions for Test Data Set X**"
      ]
    },
    {
      "cell_type": "markdown",
      "metadata": {
        "id": "s6kzGCXeEFEz"
      },
      "source": [
        "### ***Artificial Neuro Networks Predictions***"
      ]
    },
    {
      "cell_type": "markdown",
      "metadata": {
        "id": "5bLJZtPNExmM"
      },
      "source": [
        "#### ***North America***"
      ]
    },
    {
      "cell_type": "code",
      "metadata": {
        "colab": {
          "base_uri": "https://localhost:8080/",
          "height": 0
        },
        "id": "BmY1IyuO5jgr",
        "outputId": "21cfaabe-35d7-4595-f52f-2e8e7f690335"
      },
      "source": [
        "NN_103_sm_output_ann_y_pred_test = cross_val_train(1,NN_103_sm_output_df_x_train, NN_103_sm_output_df_y_train).predict(NN_103_sm_output_df_x_test)\n",
        "NN_103_sm_output_ann_y_pred_train = cross_val_train(1,NN_103_sm_output_df_x_train, NN_103_sm_output_df_y_train).predict(NN_103_sm_output_df_x_train)"
      ],
      "execution_count": 15,
      "outputs": [
        {
          "output_type": "stream",
          "text": [
            "Fitting 10 folds for each of 1 candidates, totalling 10 fits\n",
            "2021-08-10 20:44:31-04:00 : Best parameters used for cross validation of Artificial Neuro Networks\n",
            "2021-08-10 20:44:31-04:00 : {'warm_start': True, 'solver': 'lbfgs', 'random_state': 42, 'max_iter': 10000, 'learning_rate': 'adaptive', 'hidden_layer_sizes': (4, 8), 'alpha': 2.0, 'activation': 'logistic'}\n",
            "Fitting 10 folds for each of 1 candidates, totalling 10 fits\n",
            "2021-08-10 20:46:04-04:00 : Best parameters used for cross validation of Artificial Neuro Networks\n",
            "2021-08-10 20:46:04-04:00 : {'warm_start': True, 'solver': 'lbfgs', 'random_state': 42, 'max_iter': 10000, 'learning_rate': 'adaptive', 'hidden_layer_sizes': (4, 8), 'alpha': 2.0, 'activation': 'logistic'}\n"
          ],
          "name": "stdout"
        }
      ]
    },
    {
      "cell_type": "code",
      "metadata": {
        "id": "5OLJ_ARq54UI",
        "colab": {
          "base_uri": "https://localhost:8080/",
          "height": 0
        },
        "outputId": "6703d03f-8b8a-490f-8fea-ebaa1d6ad9d0"
      },
      "source": [
        "NN_202_sm_output_ann_y_pred_test = cross_val_train(1,NN_202_sm_output_df_x_train, NN_202_sm_output_df_y_train).predict(NN_202_sm_output_df_x_test)\n",
        "NN_202_sm_output_ann_y_pred_train = cross_val_train(1,NN_202_sm_output_df_x_train, NN_202_sm_output_df_y_train).predict(NN_202_sm_output_df_x_train)"
      ],
      "execution_count": 16,
      "outputs": [
        {
          "output_type": "stream",
          "text": [
            "Fitting 10 folds for each of 1 candidates, totalling 10 fits\n",
            "2021-08-10 20:49:30-04:00 : Best parameters used for cross validation of Artificial Neuro Networks\n",
            "2021-08-10 20:49:30-04:00 : {'warm_start': True, 'solver': 'lbfgs', 'random_state': 42, 'max_iter': 10000, 'learning_rate': 'adaptive', 'hidden_layer_sizes': (4, 8), 'alpha': 2.0, 'activation': 'logistic'}\n",
            "Fitting 10 folds for each of 1 candidates, totalling 10 fits\n",
            "2021-08-10 20:52:58-04:00 : Best parameters used for cross validation of Artificial Neuro Networks\n",
            "2021-08-10 20:52:58-04:00 : {'warm_start': True, 'solver': 'lbfgs', 'random_state': 42, 'max_iter': 10000, 'learning_rate': 'adaptive', 'hidden_layer_sizes': (4, 8), 'alpha': 2.0, 'activation': 'logistic'}\n"
          ],
          "name": "stdout"
        }
      ]
    },
    {
      "cell_type": "markdown",
      "metadata": {
        "id": "ioaF79p7E-Np"
      },
      "source": [
        "#### ***Europe***"
      ]
    },
    {
      "cell_type": "code",
      "metadata": {
        "id": "6xIQ8FApE-Nr",
        "colab": {
          "base_uri": "https://localhost:8080/",
          "height": 0
        },
        "outputId": "f2f83fee-a9ef-43ce-ea2d-112f0dee16b0"
      },
      "source": [
        "EU_103_sm_output_ann_y_pred_test = cross_val_train(1, EU_103_sm_output_df_x_train, EU_103_sm_output_df_y_train).predict(EU_103_sm_output_df_x_test)\n",
        "EU_103_sm_output_ann_y_pred_train = cross_val_train(1, EU_103_sm_output_df_x_train, EU_103_sm_output_df_y_train).predict(EU_103_sm_output_df_x_train)"
      ],
      "execution_count": 37,
      "outputs": [
        {
          "output_type": "stream",
          "text": [
            "Fitting 10 folds for each of 1 candidates, totalling 10 fits\n",
            "2021-08-10 23:46:36-04:00 : Best parameters used for cross validation of Artificial Neuro Networks\n",
            "2021-08-10 23:46:36-04:00 : {'warm_start': True, 'solver': 'lbfgs', 'random_state': 42, 'max_iter': 10000, 'learning_rate': 'adaptive', 'hidden_layer_sizes': (4, 8), 'alpha': 2.0, 'activation': 'logistic'}\n",
            "Fitting 10 folds for each of 1 candidates, totalling 10 fits\n",
            "2021-08-10 23:48:16-04:00 : Best parameters used for cross validation of Artificial Neuro Networks\n",
            "2021-08-10 23:48:16-04:00 : {'warm_start': True, 'solver': 'lbfgs', 'random_state': 42, 'max_iter': 10000, 'learning_rate': 'adaptive', 'hidden_layer_sizes': (4, 8), 'alpha': 2.0, 'activation': 'logistic'}\n"
          ],
          "name": "stdout"
        }
      ]
    },
    {
      "cell_type": "code",
      "metadata": {
        "id": "aBBvsUTFE-Nt",
        "colab": {
          "base_uri": "https://localhost:8080/",
          "height": 0
        },
        "outputId": "48d38a44-9ae5-4f3c-8a36-b6772ab091ef"
      },
      "source": [
        "EU_202_sm_output_ann_y_pred_test = cross_val_train(1, EU_202_sm_output_df_x_train, EU_202_sm_output_df_y_train).predict(EU_202_sm_output_df_x_test)\n",
        "EU_202_sm_output_ann_y_pred_train = cross_val_train(1, EU_202_sm_output_df_x_train, EU_202_sm_output_df_y_train).predict(EU_202_sm_output_df_x_train)"
      ],
      "execution_count": 38,
      "outputs": [
        {
          "output_type": "stream",
          "text": [
            "Fitting 10 folds for each of 1 candidates, totalling 10 fits\n",
            "2021-08-10 23:53:19-04:00 : Best parameters used for cross validation of Artificial Neuro Networks\n",
            "2021-08-10 23:53:19-04:00 : {'warm_start': True, 'solver': 'lbfgs', 'random_state': 42, 'max_iter': 10000, 'learning_rate': 'adaptive', 'hidden_layer_sizes': (4, 8), 'alpha': 2.0, 'activation': 'logistic'}\n",
            "Fitting 10 folds for each of 1 candidates, totalling 10 fits\n",
            "2021-08-10 23:58:25-04:00 : Best parameters used for cross validation of Artificial Neuro Networks\n",
            "2021-08-10 23:58:25-04:00 : {'warm_start': True, 'solver': 'lbfgs', 'random_state': 42, 'max_iter': 10000, 'learning_rate': 'adaptive', 'hidden_layer_sizes': (4, 8), 'alpha': 2.0, 'activation': 'logistic'}\n"
          ],
          "name": "stdout"
        }
      ]
    },
    {
      "cell_type": "markdown",
      "metadata": {
        "id": "VEQIvsIOFnEq"
      },
      "source": [
        "#### ***Asia***"
      ]
    },
    {
      "cell_type": "code",
      "metadata": {
        "id": "MOc0mTB8FnFF",
        "colab": {
          "base_uri": "https://localhost:8080/",
          "height": 0
        },
        "outputId": "bee0c900-db48-4760-bf3f-e268505b8334"
      },
      "source": [
        "AS_103_sm_output_ann_y_pred_test = cross_val_train(1, AS_103_sm_output_df_x_train, AS_103_sm_output_df_y_train).predict(AS_103_sm_output_df_x_test)\n",
        "AS_103_sm_output_ann_y_pred_train = cross_val_train(1, AS_103_sm_output_df_x_train, AS_103_sm_output_df_y_train).predict(AS_103_sm_output_df_x_train)"
      ],
      "execution_count": 55,
      "outputs": [
        {
          "output_type": "stream",
          "text": [
            "Fitting 10 folds for each of 1 candidates, totalling 10 fits\n",
            "2021-08-11 09:13:14-04:00 : Best parameters used for cross validation of Artificial Neuro Networks\n",
            "2021-08-11 09:13:14-04:00 : {'warm_start': True, 'solver': 'lbfgs', 'random_state': 42, 'max_iter': 10000, 'learning_rate': 'adaptive', 'hidden_layer_sizes': (4, 8), 'alpha': 2.0, 'activation': 'logistic'}\n",
            "Fitting 10 folds for each of 1 candidates, totalling 10 fits\n",
            "2021-08-11 09:14:52-04:00 : Best parameters used for cross validation of Artificial Neuro Networks\n",
            "2021-08-11 09:14:52-04:00 : {'warm_start': True, 'solver': 'lbfgs', 'random_state': 42, 'max_iter': 10000, 'learning_rate': 'adaptive', 'hidden_layer_sizes': (4, 8), 'alpha': 2.0, 'activation': 'logistic'}\n"
          ],
          "name": "stdout"
        }
      ]
    },
    {
      "cell_type": "code",
      "metadata": {
        "id": "XkHxwgP-FnFH",
        "colab": {
          "base_uri": "https://localhost:8080/",
          "height": 0
        },
        "outputId": "0932bd09-b745-4a7e-ddac-529fbdb7a70f"
      },
      "source": [
        "AS_202_sm_output_ann_y_pred_test = cross_val_train(1, AS_202_sm_output_df_x_train, AS_202_sm_output_df_y_train).predict(AS_202_sm_output_df_x_test)\n",
        "AS_202_sm_output_ann_y_pred_train = cross_val_train(1, AS_202_sm_output_df_x_train, AS_202_sm_output_df_y_train).predict(AS_202_sm_output_df_x_train)"
      ],
      "execution_count": 40,
      "outputs": [
        {
          "output_type": "stream",
          "text": [
            "Fitting 10 folds for each of 1 candidates, totalling 10 fits\n",
            "2021-08-11 00:06:44-04:00 : Best parameters used for cross validation of Artificial Neuro Networks\n",
            "2021-08-11 00:06:44-04:00 : {'warm_start': True, 'solver': 'lbfgs', 'random_state': 42, 'max_iter': 10000, 'learning_rate': 'adaptive', 'hidden_layer_sizes': (4, 8), 'alpha': 2.0, 'activation': 'logistic'}\n",
            "Fitting 10 folds for each of 1 candidates, totalling 10 fits\n",
            "2021-08-11 00:11:41-04:00 : Best parameters used for cross validation of Artificial Neuro Networks\n",
            "2021-08-11 00:11:41-04:00 : {'warm_start': True, 'solver': 'lbfgs', 'random_state': 42, 'max_iter': 10000, 'learning_rate': 'adaptive', 'hidden_layer_sizes': (4, 8), 'alpha': 2.0, 'activation': 'logistic'}\n"
          ],
          "name": "stdout"
        }
      ]
    },
    {
      "cell_type": "markdown",
      "metadata": {
        "id": "J5ezTm6dGBRL"
      },
      "source": [
        "### ***Random Forest Predictions***"
      ]
    },
    {
      "cell_type": "markdown",
      "metadata": {
        "id": "drrmU-nkGBRV"
      },
      "source": [
        "#### ***North America***"
      ]
    },
    {
      "cell_type": "code",
      "metadata": {
        "id": "ary6JCJ2GBRW",
        "colab": {
          "base_uri": "https://localhost:8080/",
          "height": 0
        },
        "outputId": "3f72655a-a35c-44d2-9325-16f68c9bae89"
      },
      "source": [
        "NN_103_sm_output_rf_y_pred_test = cross_val_train(2,NN_103_sm_output_df_x_train, NN_103_sm_output_df_y_train).predict(NN_103_sm_output_df_x_test)\n",
        "NN_103_sm_output_rf_y_pred_train = cross_val_train(2,NN_103_sm_output_df_x_train, NN_103_sm_output_df_y_train).predict(NN_103_sm_output_df_x_train)"
      ],
      "execution_count": 21,
      "outputs": [
        {
          "output_type": "stream",
          "text": [
            "Fitting 10 folds for each of 1 candidates, totalling 10 fits\n",
            "2021-08-10 21:31:24-04:00 : Best parameters used for cross validation of Random Forest\n",
            "2021-08-10 21:31:24-04:00 : {'n_estimators': 1000, 'min_samples_split': 10, 'min_samples_leaf': 1, 'max_features': 'sqrt', 'max_depth': 70, 'bootstrap': False}\n",
            "Fitting 10 folds for each of 1 candidates, totalling 10 fits\n",
            "2021-08-10 21:43:29-04:00 : Best parameters used for cross validation of Random Forest\n",
            "2021-08-10 21:43:29-04:00 : {'n_estimators': 1000, 'min_samples_split': 10, 'min_samples_leaf': 1, 'max_features': 'sqrt', 'max_depth': 70, 'bootstrap': False}\n"
          ],
          "name": "stdout"
        }
      ]
    },
    {
      "cell_type": "code",
      "metadata": {
        "id": "HvnyBnUiGBRY",
        "colab": {
          "base_uri": "https://localhost:8080/",
          "height": 0
        },
        "outputId": "fe9eca57-e0d3-4066-f4a6-eb68f23c3a71"
      },
      "source": [
        "NN_202_sm_output_rf_y_pred_test = cross_val_train(2,NN_202_sm_output_df_x_train, NN_202_sm_output_df_y_train).predict(NN_202_sm_output_df_x_test)\n",
        "NN_202_sm_output_rf_y_pred_train = cross_val_train(2,NN_202_sm_output_df_x_train, NN_202_sm_output_df_y_train).predict(NN_202_sm_output_df_x_train)"
      ],
      "execution_count": 56,
      "outputs": [
        {
          "output_type": "stream",
          "text": [
            "Fitting 10 folds for each of 1 candidates, totalling 10 fits\n",
            "2021-08-11 09:27:50-04:00 : Best parameters used for cross validation of Random Forest\n",
            "2021-08-11 09:27:50-04:00 : {'n_estimators': 1000, 'min_samples_split': 10, 'min_samples_leaf': 1, 'max_features': 'sqrt', 'max_depth': 70, 'bootstrap': False}\n",
            "Fitting 10 folds for each of 1 candidates, totalling 10 fits\n",
            "2021-08-11 09:40:46-04:00 : Best parameters used for cross validation of Random Forest\n",
            "2021-08-11 09:40:46-04:00 : {'n_estimators': 1000, 'min_samples_split': 10, 'min_samples_leaf': 1, 'max_features': 'sqrt', 'max_depth': 70, 'bootstrap': False}\n"
          ],
          "name": "stdout"
        }
      ]
    },
    {
      "cell_type": "markdown",
      "metadata": {
        "id": "OLwIYHP8GBRa"
      },
      "source": [
        "#### ***Europe***"
      ]
    },
    {
      "cell_type": "code",
      "metadata": {
        "id": "D0dLA2gnGBRa",
        "colab": {
          "base_uri": "https://localhost:8080/",
          "height": 0
        },
        "outputId": "4010db61-c070-4a62-c5c7-b6755a701ea7"
      },
      "source": [
        "EU_103_sm_output_rf_y_pred_test = cross_val_train(2, EU_103_sm_output_df_x_train, EU_103_sm_output_df_y_train).predict(EU_103_sm_output_df_x_test)\n",
        "EU_103_sm_output_rf_y_pred_train = cross_val_train(2, EU_103_sm_output_df_x_train, EU_103_sm_output_df_y_train).predict(EU_103_sm_output_df_x_train)"
      ],
      "execution_count": 57,
      "outputs": [
        {
          "output_type": "stream",
          "text": [
            "Fitting 10 folds for each of 1 candidates, totalling 10 fits\n",
            "2021-08-11 09:51:48-04:00 : Best parameters used for cross validation of Random Forest\n",
            "2021-08-11 09:51:48-04:00 : {'n_estimators': 1000, 'min_samples_split': 10, 'min_samples_leaf': 1, 'max_features': 'sqrt', 'max_depth': 70, 'bootstrap': False}\n",
            "Fitting 10 folds for each of 1 candidates, totalling 10 fits\n",
            "2021-08-11 10:02:48-04:00 : Best parameters used for cross validation of Random Forest\n",
            "2021-08-11 10:02:48-04:00 : {'n_estimators': 1000, 'min_samples_split': 10, 'min_samples_leaf': 1, 'max_features': 'sqrt', 'max_depth': 70, 'bootstrap': False}\n"
          ],
          "name": "stdout"
        }
      ]
    },
    {
      "cell_type": "code",
      "metadata": {
        "id": "nX11FaVHGBRb",
        "colab": {
          "base_uri": "https://localhost:8080/",
          "height": 0
        },
        "outputId": "dd012d1b-573b-43ad-897d-49c8e5a1f251"
      },
      "source": [
        "EU_202_sm_output_rf_y_pred_test = cross_val_train(2, EU_202_sm_output_df_x_train, EU_202_sm_output_df_y_train).predict(EU_202_sm_output_df_x_test)\n",
        "EU_202_sm_output_rf_y_pred_train = cross_val_train(2, EU_202_sm_output_df_x_train, EU_202_sm_output_df_y_train).predict(EU_202_sm_output_df_x_train)"
      ],
      "execution_count": 43,
      "outputs": [
        {
          "output_type": "stream",
          "text": [
            "Fitting 10 folds for each of 1 candidates, totalling 10 fits\n",
            "2021-08-11 01:09:44-04:00 : Best parameters used for cross validation of Random Forest\n",
            "2021-08-11 01:09:44-04:00 : {'n_estimators': 1000, 'min_samples_split': 10, 'min_samples_leaf': 1, 'max_features': 'sqrt', 'max_depth': 70, 'bootstrap': False}\n",
            "Fitting 10 folds for each of 1 candidates, totalling 10 fits\n",
            "2021-08-11 01:20:02-04:00 : Best parameters used for cross validation of Random Forest\n",
            "2021-08-11 01:20:02-04:00 : {'n_estimators': 1000, 'min_samples_split': 10, 'min_samples_leaf': 1, 'max_features': 'sqrt', 'max_depth': 70, 'bootstrap': False}\n"
          ],
          "name": "stdout"
        }
      ]
    },
    {
      "cell_type": "markdown",
      "metadata": {
        "id": "CPLJCMRMGBRc"
      },
      "source": [
        "#### ***Asia***"
      ]
    },
    {
      "cell_type": "code",
      "metadata": {
        "id": "St4OcWCwGBRd",
        "colab": {
          "base_uri": "https://localhost:8080/",
          "height": 0
        },
        "outputId": "5b008354-3239-4b39-a408-cf65b6b9d796"
      },
      "source": [
        "AS_103_sm_output_rf_y_pred_test = cross_val_train(2, AS_103_sm_output_df_x_train, AS_103_sm_output_df_y_train).predict(AS_103_sm_output_df_x_test)\n",
        "AS_103_sm_output_rf_y_pred_train = cross_val_train(2, AS_103_sm_output_df_x_train, AS_103_sm_output_df_y_train).predict(AS_103_sm_output_df_x_train)"
      ],
      "execution_count": 25,
      "outputs": [
        {
          "output_type": "stream",
          "text": [
            "Fitting 10 folds for each of 1 candidates, totalling 10 fits\n"
          ],
          "name": "stdout"
        },
        {
          "output_type": "stream",
          "text": [
            "/usr/local/lib/python3.7/dist-packages/joblib/externals/loky/process_executor.py:691: UserWarning: A worker stopped while some jobs were given to the executor. This can be caused by a too short worker timeout or by a memory leak.\n",
            "  \"timeout or by a memory leak.\", UserWarning\n"
          ],
          "name": "stderr"
        },
        {
          "output_type": "stream",
          "text": [
            "2021-08-10 23:02:43-04:00 : Best parameters used for cross validation of Random Forest\n",
            "2021-08-10 23:02:43-04:00 : {'n_estimators': 1000, 'min_samples_split': 10, 'min_samples_leaf': 1, 'max_features': 'sqrt', 'max_depth': 70, 'bootstrap': False}\n",
            "Fitting 10 folds for each of 1 candidates, totalling 10 fits\n",
            "2021-08-10 23:13:35-04:00 : Best parameters used for cross validation of Random Forest\n",
            "2021-08-10 23:13:35-04:00 : {'n_estimators': 1000, 'min_samples_split': 10, 'min_samples_leaf': 1, 'max_features': 'sqrt', 'max_depth': 70, 'bootstrap': False}\n"
          ],
          "name": "stdout"
        }
      ]
    },
    {
      "cell_type": "code",
      "metadata": {
        "id": "7LzvjquNGBRe",
        "colab": {
          "base_uri": "https://localhost:8080/",
          "height": 0
        },
        "outputId": "bb489352-a96a-478c-f525-10fbd893d48f"
      },
      "source": [
        "AS_202_sm_output_rf_y_pred_test = cross_val_train(2, AS_202_sm_output_df_x_train, AS_202_sm_output_df_y_train).predict(AS_202_sm_output_df_x_test)\n",
        "AS_202_sm_output_rf_y_pred_train = cross_val_train(2, AS_202_sm_output_df_x_train, AS_202_sm_output_df_y_train).predict(AS_202_sm_output_df_x_train)"
      ],
      "execution_count": 69,
      "outputs": [
        {
          "output_type": "stream",
          "text": [
            "Fitting 10 folds for each of 1 candidates, totalling 10 fits\n",
            "2021-08-11 15:32:34-04:00 : Best parameters used for cross validation of Random Forest\n",
            "2021-08-11 15:32:34-04:00 : {'n_estimators': 1000, 'min_samples_split': 10, 'min_samples_leaf': 1, 'max_features': 'sqrt', 'max_depth': 70, 'bootstrap': False}\n",
            "Fitting 10 folds for each of 1 candidates, totalling 10 fits\n",
            "2021-08-11 15:43:05-04:00 : Best parameters used for cross validation of Random Forest\n",
            "2021-08-11 15:43:05-04:00 : {'n_estimators': 1000, 'min_samples_split': 10, 'min_samples_leaf': 1, 'max_features': 'sqrt', 'max_depth': 70, 'bootstrap': False}\n"
          ],
          "name": "stdout"
        }
      ]
    },
    {
      "cell_type": "markdown",
      "metadata": {
        "id": "0-rr0urIIpkg"
      },
      "source": [
        "## **Stacking - Level 2**"
      ]
    },
    {
      "cell_type": "markdown",
      "metadata": {
        "id": "HHeqVHWYkOOJ"
      },
      "source": [
        "##### **Stacking Algorithm = XGBoost**"
      ]
    },
    {
      "cell_type": "markdown",
      "metadata": {
        "id": "D0ZA3D3FMVjW"
      },
      "source": [
        "##### **Weights of 2x applied to Level 1 Random Forest's predictions before feeding them into Level 2 Decesion Tree as inputs**"
      ]
    },
    {
      "cell_type": "markdown",
      "metadata": {
        "id": "kF-9ASguewNf"
      },
      "source": [
        "##### **Level 2 X Training Data = Combine of Level 1 ANN and Random Forest predicitons from the \"train\" data**"
      ]
    },
    {
      "cell_type": "markdown",
      "metadata": {
        "id": "YoCEu8DhJG8w"
      },
      "source": [
        "##### **Level 2 X Test Data = Combine of Level 1 ANN and Random Forest predicitons from the \"test\" data**"
      ]
    },
    {
      "cell_type": "markdown",
      "metadata": {
        "id": "_JknnPrWKF9e"
      },
      "source": [
        "#### ***North America***"
      ]
    },
    {
      "cell_type": "code",
      "metadata": {
        "id": "ugzN3O15VfmG",
        "colab": {
          "base_uri": "https://localhost:8080/",
          "height": 232
        },
        "outputId": "7a4d0d7e-dbab-47f0-efc1-81eb96d3bb6f"
      },
      "source": [
        "NN_103_sm_output_ensemble_x_train = np.column_stack((NN_103_sm_output_ann_y_pred_train, NN_103_sm_output_rf_y_pred_train*2))\n",
        "NN_103_sm_output_ensemble_x_train_df = pd.DataFrame(NN_103_sm_output_ensemble_x_train, columns = ['ANN','RF'])\n",
        "NN_103_sm_output_ensemble_x_test = np.column_stack((NN_103_sm_output_ann_y_pred_test, NN_103_sm_output_rf_y_pred_test*2))\n",
        "NN_103_sm_output_ensemble_x_test_df = pd.DataFrame(NN_103_sm_output_ensemble_x_test, columns = ['ANN','RF'])\n",
        "NN_103_sm_output_df_y_train = np.ravel(NN_103_sm_output_df_y_train)\n",
        "NN_103_sm_output_final_pred = xgb.XGBClassifier(objective= 'binary:logistic').fit(NN_103_sm_output_ensemble_x_train_df, NN_103_sm_output_df_y_train).predict(NN_103_sm_output_ensemble_x_test_df)"
      ],
      "execution_count": 3,
      "outputs": [
        {
          "output_type": "error",
          "ename": "NameError",
          "evalue": "ignored",
          "traceback": [
            "\u001b[0;31m---------------------------------------------------------------------------\u001b[0m",
            "\u001b[0;31mNameError\u001b[0m                                 Traceback (most recent call last)",
            "\u001b[0;32m<ipython-input-3-a68951178b0a>\u001b[0m in \u001b[0;36m<module>\u001b[0;34m()\u001b[0m\n\u001b[0;32m----> 1\u001b[0;31m \u001b[0mNN_103_sm_output_ensemble_x_train\u001b[0m \u001b[0;34m=\u001b[0m \u001b[0mnp\u001b[0m\u001b[0;34m.\u001b[0m\u001b[0mcolumn_stack\u001b[0m\u001b[0;34m(\u001b[0m\u001b[0;34m(\u001b[0m\u001b[0mNN_103_sm_output_ann_y_pred_train\u001b[0m\u001b[0;34m,\u001b[0m \u001b[0mNN_103_sm_output_rf_y_pred_train\u001b[0m\u001b[0;34m*\u001b[0m\u001b[0;36m2\u001b[0m\u001b[0;34m)\u001b[0m\u001b[0;34m)\u001b[0m\u001b[0;34m\u001b[0m\u001b[0;34m\u001b[0m\u001b[0m\n\u001b[0m\u001b[1;32m      2\u001b[0m \u001b[0mNN_103_sm_output_ensemble_x_train_df\u001b[0m \u001b[0;34m=\u001b[0m \u001b[0mpd\u001b[0m\u001b[0;34m.\u001b[0m\u001b[0mDataFrame\u001b[0m\u001b[0;34m(\u001b[0m\u001b[0mNN_103_sm_output_ensemble_x_train\u001b[0m\u001b[0;34m,\u001b[0m \u001b[0mcolumns\u001b[0m \u001b[0;34m=\u001b[0m \u001b[0;34m[\u001b[0m\u001b[0;34m'ANN'\u001b[0m\u001b[0;34m,\u001b[0m\u001b[0;34m'RF'\u001b[0m\u001b[0;34m]\u001b[0m\u001b[0;34m)\u001b[0m\u001b[0;34m\u001b[0m\u001b[0;34m\u001b[0m\u001b[0m\n\u001b[1;32m      3\u001b[0m \u001b[0mNN_103_sm_output_ensemble_x_test\u001b[0m \u001b[0;34m=\u001b[0m \u001b[0mnp\u001b[0m\u001b[0;34m.\u001b[0m\u001b[0mcolumn_stack\u001b[0m\u001b[0;34m(\u001b[0m\u001b[0;34m(\u001b[0m\u001b[0mNN_103_sm_output_ann_y_pred_test\u001b[0m\u001b[0;34m,\u001b[0m \u001b[0mNN_103_sm_output_rf_y_pred_test\u001b[0m\u001b[0;34m*\u001b[0m\u001b[0;36m2\u001b[0m\u001b[0;34m)\u001b[0m\u001b[0;34m)\u001b[0m\u001b[0;34m\u001b[0m\u001b[0;34m\u001b[0m\u001b[0m\n\u001b[1;32m      4\u001b[0m \u001b[0mNN_103_sm_output_ensemble_x_test_df\u001b[0m \u001b[0;34m=\u001b[0m \u001b[0mpd\u001b[0m\u001b[0;34m.\u001b[0m\u001b[0mDataFrame\u001b[0m\u001b[0;34m(\u001b[0m\u001b[0mNN_103_sm_output_ensemble_x_test\u001b[0m\u001b[0;34m,\u001b[0m \u001b[0mcolumns\u001b[0m \u001b[0;34m=\u001b[0m \u001b[0;34m[\u001b[0m\u001b[0;34m'ANN'\u001b[0m\u001b[0;34m,\u001b[0m\u001b[0;34m'RF'\u001b[0m\u001b[0;34m]\u001b[0m\u001b[0;34m)\u001b[0m\u001b[0;34m\u001b[0m\u001b[0;34m\u001b[0m\u001b[0m\n\u001b[1;32m      5\u001b[0m \u001b[0mNN_103_sm_output_df_y_train\u001b[0m \u001b[0;34m=\u001b[0m \u001b[0mnp\u001b[0m\u001b[0;34m.\u001b[0m\u001b[0mravel\u001b[0m\u001b[0;34m(\u001b[0m\u001b[0mNN_103_sm_output_df_y_train\u001b[0m\u001b[0;34m)\u001b[0m\u001b[0;34m\u001b[0m\u001b[0;34m\u001b[0m\u001b[0m\n",
            "\u001b[0;31mNameError\u001b[0m: name 'NN_103_sm_output_ann_y_pred_train' is not defined"
          ]
        }
      ]
    },
    {
      "cell_type": "code",
      "metadata": {
        "id": "vPfcE25NJgPB"
      },
      "source": [
        "NN_202_sm_output_ensemble_x_train = np.column_stack((NN_202_sm_output_ann_y_pred_train, NN_202_sm_output_rf_y_pred_train*2))\n",
        "NN_202_sm_output_ensemble_x_train_df = pd.DataFrame(NN_202_sm_output_ensemble_x_train, columns = ['ANN','RF'])\n",
        "NN_202_sm_output_ensemble_x_test = np.column_stack((NN_202_sm_output_ann_y_pred_test, NN_202_sm_output_rf_y_pred_test*2))\n",
        "NN_202_sm_output_ensemble_x_test_df = pd.DataFrame(NN_202_sm_output_ensemble_x_test, columns = ['ANN','RF'])\n",
        "NN_202_sm_output_df_y_train = np.ravel(NN_202_sm_output_df_y_train)\n",
        "NN_202_sm_output_final_pred = xgb.XGBClassifier(objective= 'binary:logistic').fit(NN_202_sm_output_ensemble_x_train_df, NN_202_sm_output_df_y_train).predict(NN_202_sm_output_ensemble_x_test_df)"
      ],
      "execution_count": null,
      "outputs": []
    },
    {
      "cell_type": "markdown",
      "metadata": {
        "id": "_TZWp5zhKJHE"
      },
      "source": [
        "#### ***Europe***"
      ]
    },
    {
      "cell_type": "code",
      "metadata": {
        "id": "K_-RBiWbJk-X"
      },
      "source": [
        "EU_103_sm_output_ensemble_x_train = np.column_stack((EU_103_sm_output_ann_y_pred_train, EU_103_sm_output_rf_y_pred_train*2))\n",
        "EU_103_sm_output_ensemble_x_train_df = pd.DataFrame(EU_103_sm_output_ensemble_x_train, columns = ['ANN','RF'])\n",
        "EU_103_sm_output_ensemble_x_test = np.column_stack((EU_103_sm_output_ann_y_pred_test, EU_103_sm_output_rf_y_pred_test*2))\n",
        "EU_103_sm_output_ensemble_x_test_df = pd.DataFrame(EU_103_sm_output_ensemble_x_test, columns = ['ANN','RF'])\n",
        "EU_103_sm_output_final_pred = DecisionTreeClassifier(random_state=42).fit(EU_103_sm_output_ensemble_x_train_df, EU_103_sm_output_df_y_train).predict(EU_103_sm_output_ensemble_x_test_df)"
      ],
      "execution_count": 61,
      "outputs": []
    },
    {
      "cell_type": "code",
      "metadata": {
        "id": "9Nav14kxJoxf"
      },
      "source": [
        "EU_202_sm_output_ensemble_x_train = np.column_stack((EU_202_sm_output_ann_y_pred_train, EU_202_sm_output_rf_y_pred_train*2))\n",
        "EU_202_sm_output_ensemble_x_train_df = pd.DataFrame(EU_202_sm_output_ensemble_x_train, columns = ['ANN','RF'])\n",
        "EU_202_sm_output_ensemble_x_test = np.column_stack((EU_202_sm_output_ann_y_pred_test, EU_202_sm_output_rf_y_pred_test*2))\n",
        "EU_202_sm_output_ensemble_x_test_df = pd.DataFrame(EU_202_sm_output_ensemble_x_test, columns = ['ANN','RF'])\n",
        "EU_202_sm_output_final_pred = DecisionTreeClassifier(random_state=42).fit(EU_202_sm_output_ensemble_x_train_df, EU_202_sm_output_df_y_train).predict(EU_202_sm_output_ensemble_x_test_df)"
      ],
      "execution_count": 62,
      "outputs": []
    },
    {
      "cell_type": "markdown",
      "metadata": {
        "id": "2vCBqxtuKT9s"
      },
      "source": [
        "#### ***Asia***"
      ]
    },
    {
      "cell_type": "code",
      "metadata": {
        "id": "cy1i42o0Juw9"
      },
      "source": [
        "AS_103_sm_output_ensemble_x_train = np.column_stack((AS_103_sm_output_ann_y_pred_train, AS_103_sm_output_rf_y_pred_train*2))\n",
        "AS_103_sm_output_ensemble_x_train_df = pd.DataFrame(AS_103_sm_output_ensemble_x_train, columns = ['ANN','RF'])\n",
        "AS_103_sm_output_ensemble_x_test = np.column_stack((AS_103_sm_output_ann_y_pred_test, AS_103_sm_output_rf_y_pred_test*2))\n",
        "AS_103_sm_output_ensemble_x_test_df = pd.DataFrame(AS_103_sm_output_ensemble_x_test, columns = ['ANN','RF'])\n",
        "AS_103_sm_output_final_pred = DecisionTreeClassifier(random_state=42).fit(AS_103_sm_output_ensemble_x_train_df, AS_103_sm_output_df_y_train).predict(AS_103_sm_output_ensemble_x_test_df)"
      ],
      "execution_count": 63,
      "outputs": []
    },
    {
      "cell_type": "code",
      "metadata": {
        "id": "MIMCdy2aJ0Ue"
      },
      "source": [
        "AS_202_sm_output_ensemble_x_train = np.column_stack((AS_202_sm_output_ann_y_pred_train, AS_202_sm_output_rf_y_pred_train*2))\n",
        "AS_202_sm_output_ensemble_x_train_df = pd.DataFrame(AS_202_sm_output_ensemble_x_train, columns = ['ANN','RF'])\n",
        "AS_202_sm_output_ensemble_x_test = np.column_stack((AS_202_sm_output_ann_y_pred_test, AS_202_sm_output_rf_y_pred_test*2))\n",
        "AS_202_sm_output_ensemble_x_test_df = pd.DataFrame(AS_202_sm_output_ensemble_x_test, columns = ['ANN','RF'])\n",
        "AS_202_sm_output_final_pred = DecisionTreeClassifier(random_state=42).fit(AS_202_sm_output_ensemble_x_train_df, AS_202_sm_output_df_y_train).predict(AS_202_sm_output_ensemble_x_test_df)"
      ],
      "execution_count": 64,
      "outputs": []
    },
    {
      "cell_type": "markdown",
      "metadata": {
        "id": "shnfGOwJWD-h"
      },
      "source": [
        "## **Confusion Matricies of Accuracy Statistics**"
      ]
    },
    {
      "cell_type": "markdown",
      "metadata": {
        "id": "9v46QJuBCyTA"
      },
      "source": [
        "**Accuracy** <br>\n",
        "Accuracy is the most intuitive performance measure and it is simply a ratio of correctly predicted observation to the total observations. One may think that, if we have high accuracy then our model is best. Yes, accuracy is a great measure but only when you have symmetric datasets where values of false positive and false negatives are almost same. Therefore, you have to look at other parameters to evaluate the performance of your model. For example, a 0.75 or greater means our model is at least 75% accurate, which is very good.\n",
        "\n",
        "Accuracy = TP+TN/TP+FP+FN+TN\n",
        "\n",
        "**Precision (Specificity)** <br>\n",
        "Precision is the ratio of correctly predicted positive observations over the total of both the correclty and incorrectly predicted positive observations. The question that this metric answer is of all wires that are labeled as fraud, how many are actually fraud? High precision relates to the low false positive rate. For example, a 0.75 precision translates into a very precise prediction.\n",
        "\n",
        "Precision = TP/TP+FP\n",
        "\n",
        "**Recall (Sensitivity)** <br>\n",
        "Recall is the ratio of correctly predicted positive observations over the total of the correclty predicted positive and incorrectly predicted negative observations. The question recall answers is of all the wires that are truly fraud, how many did we labeled? For example, a recall of 0.631 means that our model is good because it is above the threshold of 0.5.\n",
        "\n",
        "Recall = TP/TP+FN\n",
        "\n",
        "**F1 score** <br>\n",
        "F1 Score is the weighted average of Precision and Recall. Therefore, this score takes both false positives and false negatives into account. Intuitively it is not as easy to understand as accuracy, but F1 is usually more useful than accuracy, especially if you have an uneven class distribution. Accuracy works best if false positives and false negatives have similar cost. If the cost of false positives and false negatives are very different, it’s better to look at both Precision and Recall.\n",
        "\n",
        "F1 Score = 2*(Recall * Precision) / (Recall + Precision)"
      ]
    },
    {
      "cell_type": "markdown",
      "metadata": {
        "id": "D3twS7LwWTmx"
      },
      "source": [
        "#### ***North America***"
      ]
    },
    {
      "cell_type": "code",
      "metadata": {
        "id": "WTamYu6NaOpx",
        "colab": {
          "base_uri": "https://localhost:8080/",
          "height": 0
        },
        "outputId": "655b0a85-9002-468a-d11d-ab294fc0c9c7"
      },
      "source": [
        "NN_103_output_df_y_train.shape # before SMOTE original y train"
      ],
      "execution_count": 65,
      "outputs": [
        {
          "output_type": "execute_result",
          "data": {
            "text/plain": [
              "(70000, 1)"
            ]
          },
          "metadata": {
            "tags": []
          },
          "execution_count": 65
        }
      ]
    },
    {
      "cell_type": "code",
      "metadata": {
        "id": "7Lz4OaQyWauT",
        "colab": {
          "base_uri": "https://localhost:8080/",
          "height": 0
        },
        "outputId": "03bf33ed-1af6-4572-f2a1-3ce38be1aac8"
      },
      "source": [
        "NN_103_output_df_y_train[NN_103_output_df_y_train['FRAUD_LABEL']>=1].shape # # before SMOTE original y train filter"
      ],
      "execution_count": 66,
      "outputs": [
        {
          "output_type": "execute_result",
          "data": {
            "text/plain": [
              "(549, 1)"
            ]
          },
          "metadata": {
            "tags": []
          },
          "execution_count": 66
        }
      ]
    },
    {
      "cell_type": "code",
      "metadata": {
        "id": "QsO_HrA7Jm8C",
        "colab": {
          "base_uri": "https://localhost:8080/",
          "height": 0
        },
        "outputId": "c60c011a-f672-4a01-c7f4-5f80946aefe6"
      },
      "source": [
        "NN_103_sm_output_df_y_train.shape # original y train"
      ],
      "execution_count": 67,
      "outputs": [
        {
          "output_type": "execute_result",
          "data": {
            "text/plain": [
              "(138902,)"
            ]
          },
          "metadata": {
            "tags": []
          },
          "execution_count": 67
        }
      ]
    },
    {
      "cell_type": "code",
      "metadata": {
        "id": "E_ysFMs4V5Ct",
        "colab": {
          "base_uri": "https://localhost:8080/",
          "height": 164
        },
        "outputId": "eb9d43d1-8aa6-4087-b253-ea7ba6e4c7c6"
      },
      "source": [
        "NN_103_sm_output_df_y_train[NN_103_sm_output_df_y_train['FRAUD_LABEL']>=1].shape # original y train prediction filter"
      ],
      "execution_count": 68,
      "outputs": [
        {
          "output_type": "error",
          "ename": "IndexError",
          "evalue": "ignored",
          "traceback": [
            "\u001b[0;31m---------------------------------------------------------------------------\u001b[0m",
            "\u001b[0;31mIndexError\u001b[0m                                Traceback (most recent call last)",
            "\u001b[0;32m<ipython-input-68-c568b1a59d0c>\u001b[0m in \u001b[0;36m<module>\u001b[0;34m()\u001b[0m\n\u001b[0;32m----> 1\u001b[0;31m \u001b[0mNN_103_sm_output_df_y_train\u001b[0m\u001b[0;34m[\u001b[0m\u001b[0mNN_103_sm_output_df_y_train\u001b[0m\u001b[0;34m[\u001b[0m\u001b[0;34m'FRAUD_LABEL'\u001b[0m\u001b[0;34m]\u001b[0m\u001b[0;34m>=\u001b[0m\u001b[0;36m1\u001b[0m\u001b[0;34m]\u001b[0m\u001b[0;34m.\u001b[0m\u001b[0mshape\u001b[0m \u001b[0;31m# original y train prediction filter\u001b[0m\u001b[0;34m\u001b[0m\u001b[0;34m\u001b[0m\u001b[0m\n\u001b[0m",
            "\u001b[0;31mIndexError\u001b[0m: only integers, slices (`:`), ellipsis (`...`), numpy.newaxis (`None`) and integer or boolean arrays are valid indices"
          ]
        }
      ]
    },
    {
      "cell_type": "code",
      "metadata": {
        "id": "0eW2oV9gIZ-1"
      },
      "source": [
        "NN_103_sm_output_ann_y_pred_train.shape # ann y train level 1 predictions"
      ],
      "execution_count": null,
      "outputs": []
    },
    {
      "cell_type": "code",
      "metadata": {
        "id": "93YonJbdIexM"
      },
      "source": [
        "NN_103_sm_output_rf_y_pred_train.shape # random forest y train level 1 predictions"
      ],
      "execution_count": null,
      "outputs": []
    },
    {
      "cell_type": "code",
      "metadata": {
        "id": "Np4dRY2cHH9T"
      },
      "source": [
        "NN_103_sm_output_ann_y_pred_train[NN_103_sm_output_ann_y_pred_train>=1].shape # ann y train level 1 prediction filter"
      ],
      "execution_count": null,
      "outputs": []
    },
    {
      "cell_type": "code",
      "metadata": {
        "id": "lhngx1fGIBD6"
      },
      "source": [
        "NN_103_sm_output_rf_y_pred_train[NN_103_sm_output_rf_y_pred_train>=1].shape  # random forest y train level 1 prediction filter"
      ],
      "execution_count": null,
      "outputs": []
    },
    {
      "cell_type": "code",
      "metadata": {
        "id": "bOBSY40_DUWy"
      },
      "source": [
        "NN_103_sm_output_ensemble_x_train_df.shape # level 2 x train"
      ],
      "execution_count": null,
      "outputs": []
    },
    {
      "cell_type": "code",
      "metadata": {
        "id": "7m2tvVddMZFi"
      },
      "source": [
        "NN_103_sm_output_ensemble_x_train_df.shape # level 2 x train "
      ],
      "execution_count": null,
      "outputs": []
    },
    {
      "cell_type": "code",
      "metadata": {
        "id": "oXcNF2fsUL4b"
      },
      "source": [
        "NN_103_sm_output_df_y_train.shape # level 2 y train "
      ],
      "execution_count": null,
      "outputs": []
    },
    {
      "cell_type": "code",
      "metadata": {
        "id": "MeqqxrBvXBCR"
      },
      "source": [
        "NN_103_sm_output_ensemble_x_train_df[NN_103_sm_output_ensemble_x_train_df['ANN']>=1].shape # level 2 x train ANN filter"
      ],
      "execution_count": null,
      "outputs": []
    },
    {
      "cell_type": "code",
      "metadata": {
        "id": "n0RDr0mECwRF"
      },
      "source": [
        "NN_103_sm_output_ensemble_x_train_df[NN_103_sm_output_ensemble_x_train_df['RF']>=1].shape# level 2 x train RF filter"
      ],
      "execution_count": null,
      "outputs": []
    },
    {
      "cell_type": "code",
      "metadata": {
        "id": "N22mLr1CTzjB"
      },
      "source": [
        "NN_103_sm_output_ensemble_x_test_df.shape # level 2 x test "
      ],
      "execution_count": null,
      "outputs": []
    },
    {
      "cell_type": "code",
      "metadata": {
        "id": "zjl3ADPTs1G4"
      },
      "source": [
        "NN_103_sm_output_ensemble_x_test_df[NN_103_sm_output_ensemble_x_test_df['ANN']>=1].shape # level 2 x test ANN filter"
      ],
      "execution_count": null,
      "outputs": []
    },
    {
      "cell_type": "code",
      "metadata": {
        "id": "-c1OTHies1HH"
      },
      "source": [
        "NN_103_sm_output_ensemble_x_test_df[NN_103_sm_output_ensemble_x_test_df['RF']>=1].shape# level 2 x test RF filter"
      ],
      "execution_count": null,
      "outputs": []
    },
    {
      "cell_type": "code",
      "metadata": {
        "id": "Uj-NOzgfMK8T"
      },
      "source": [
        "NN_103_sm_output_final_pred.shape # level 2 predictions"
      ],
      "execution_count": null,
      "outputs": []
    },
    {
      "cell_type": "code",
      "metadata": {
        "id": "2plv7wH4MnmW"
      },
      "source": [
        "NN_103_sm_output_final_pred[NN_103_sm_output_final_pred>=1].shape # level 2 predictions filter"
      ],
      "execution_count": null,
      "outputs": []
    },
    {
      "cell_type": "markdown",
      "metadata": {
        "id": "C4H6GeJvEq4j"
      },
      "source": [
        "#### MT103"
      ]
    },
    {
      "cell_type": "code",
      "metadata": {
        "id": "8q5TF-K5XAMd"
      },
      "source": [
        "print(confusion_matrix(NN_103_sm_output_df_y_test,NN_103_sm_output_final_pred))\n",
        "print(classification_report(NN_103_sm_output_df_y_test,NN_103_sm_output_final_pred))"
      ],
      "execution_count": null,
      "outputs": []
    },
    {
      "cell_type": "markdown",
      "metadata": {
        "id": "6kKbMPWyFJud"
      },
      "source": [
        "#### MT202"
      ]
    },
    {
      "cell_type": "code",
      "metadata": {
        "id": "1aw30Qc3FJud"
      },
      "source": [
        "print(confusion_matrix(NN_202_sm_output_df_y_test,NN_202_sm_output_final_pred))\n",
        "print(classification_report(NN_202_sm_output_df_y_test,NN_202_sm_output_final_pred))"
      ],
      "execution_count": null,
      "outputs": []
    },
    {
      "cell_type": "markdown",
      "metadata": {
        "id": "ReeJ35ruWUgg"
      },
      "source": [
        "#### ***Europe***"
      ]
    },
    {
      "cell_type": "markdown",
      "metadata": {
        "id": "-iVjtupxFoxM"
      },
      "source": [
        "#### MT103"
      ]
    },
    {
      "cell_type": "code",
      "metadata": {
        "id": "ylIcN4bWFoxU"
      },
      "source": [
        "print(confusion_matrix(EU_103_sm_output_df_y_test,EU_103_sm_output_final_pred))\n",
        "print(classification_report(EU_103_sm_output_df_y_test,EU_103_sm_output_final_pred))"
      ],
      "execution_count": null,
      "outputs": []
    },
    {
      "cell_type": "markdown",
      "metadata": {
        "id": "fYu83cKcFoxU"
      },
      "source": [
        "#### MT202"
      ]
    },
    {
      "cell_type": "code",
      "metadata": {
        "id": "vBOZXsiPFoxV"
      },
      "source": [
        "print(confusion_matrix(EU_202_sm_output_df_y_test,EU_202_sm_output_final_pred))\n",
        "print(classification_report(EU_202_sm_output_df_y_test,EU_202_sm_output_final_pred))"
      ],
      "execution_count": null,
      "outputs": []
    },
    {
      "cell_type": "markdown",
      "metadata": {
        "id": "BdJA2f7gWUxf"
      },
      "source": [
        "#### ***Asia***"
      ]
    },
    {
      "cell_type": "markdown",
      "metadata": {
        "id": "-kcddJwRF9K9"
      },
      "source": [
        "#### MT103"
      ]
    },
    {
      "cell_type": "code",
      "metadata": {
        "id": "fUfE_u-oF9LF"
      },
      "source": [
        "print(confusion_matrix(AS_103_sm_output_df_y_test,AS_103_sm_output_final_pred))\n",
        "print(classification_report(AS_103_sm_output_df_y_test,AS_103_sm_output_final_pred))"
      ],
      "execution_count": null,
      "outputs": []
    },
    {
      "cell_type": "markdown",
      "metadata": {
        "id": "bC78w7-uF9LF"
      },
      "source": [
        "#### MT202"
      ]
    },
    {
      "cell_type": "code",
      "metadata": {
        "id": "EOMEbtZeF9LG"
      },
      "source": [
        "print(confusion_matrix(AS_202_sm_output_df_y_test,AS_202_sm_output_final_pred))\n",
        "print(classification_report(AS_202_sm_output_df_y_test,AS_202_sm_output_final_pred))"
      ],
      "execution_count": null,
      "outputs": []
    },
    {
      "cell_type": "markdown",
      "metadata": {
        "id": "OVdnhD_XhGes"
      },
      "source": [
        "## **Merge Final Predictions with X Test Data Sets**"
      ]
    },
    {
      "cell_type": "code",
      "metadata": {
        "id": "bFza8WNGhDWV"
      },
      "source": [
        "# Merge predictions to North America\n",
        "NN_103_final_df = pd.DataFrame( np.column_stack((NN_103_sm_output_df_x_test.to_numpy(), NN_103_sm_output_final_pred)),  columns = ['TRANSACTION_MONTH','TRANSACTION_AMOUNT','FRAUD_LABEL'] )\n",
        "NN_202_final_df = pd.DataFrame( np.column_stack((NN_202_sm_output_df_x_test.to_numpy(), NN_202_sm_output_final_pred)),  columns = ['TRANSACTION_MONTH','TRANSACTION_AMOUNT','FRAUD_LABEL'] )\n",
        "\n",
        "# Merge predictions to Europe\n",
        "EU_103_final_df = pd.DataFrame( np.column_stack((EU_103_sm_output_df_x_test.to_numpy(), EU_103_sm_output_final_pred)),  columns = ['TRANSACTION_MONTH','TRANSACTION_AMOUNT','FRAUD_LABEL'] )\n",
        "EU_202_final_df = pd.DataFrame( np.column_stack((EU_202_sm_output_df_x_test.to_numpy(), EU_202_sm_output_final_pred)),  columns = ['TRANSACTION_MONTH','TRANSACTION_AMOUNT','FRAUD_LABEL'] )\n",
        "\n",
        "# Merge predictions to Asia\n",
        "AS_103_final_df = pd.DataFrame( np.column_stack((AS_103_sm_output_df_x_test.to_numpy(), AS_103_sm_output_final_pred)),  columns = ['TRANSACTION_MONTH','TRANSACTION_AMOUNT','FRAUD_LABEL'] )\n",
        "AS_202_final_df = pd.DataFrame( np.column_stack((AS_202_sm_output_df_x_test.to_numpy(), AS_202_sm_output_final_pred)),  columns = ['TRANSACTION_MONTH','TRANSACTION_AMOUNT','FRAUD_LABEL'] )"
      ],
      "execution_count": null,
      "outputs": []
    },
    {
      "cell_type": "markdown",
      "metadata": {
        "id": "EuTWuYNpZxRa"
      },
      "source": [
        "## **Backup Final Results for Rule Tuning**"
      ]
    },
    {
      "cell_type": "code",
      "metadata": {
        "id": "koXciS14Z6GX"
      },
      "source": [
        "NN_103_final_df.to_csv('/content/gdrive/MyDrive/DSC-380/NN_103_final_df.csv', index=False)\n",
        "NN_202_final_df.to_csv('/content/gdrive/MyDrive/DSC-380/NN_202_final_df.csv', index=False)\n",
        "EU_103_final_df.to_csv('/content/gdrive/MyDrive/DSC-380/EU_103_final_df.csv', index=False)\n",
        "EU_202_final_df.to_csv('/content/gdrive/MyDrive/DSC-380/EU_202_final_df.csv', index=False)\n",
        "AS_103_final_df.to_csv('/content/gdrive/MyDrive/DSC-380/AS_103_final_df.csv', index=False)\n",
        "AS_202_final_df.to_csv('/content/gdrive/MyDrive/DSC-380/AS_202_final_df.csv', index=False)"
      ],
      "execution_count": null,
      "outputs": []
    }
  ]
}