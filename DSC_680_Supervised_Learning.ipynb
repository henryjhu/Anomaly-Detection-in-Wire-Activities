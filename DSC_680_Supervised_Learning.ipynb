{
  "nbformat": 4,
  "nbformat_minor": 0,
  "metadata": {
    "colab": {
      "name": "DSC_680_Supervised_Learning.ipynb",
      "provenance": [],
      "collapsed_sections": [
        "CUn_dKOdEYDh",
        "s6kzGCXeEFEz",
        "ioaF79p7E-Np",
        "VEQIvsIOFnEq",
        "drrmU-nkGBRV",
        "OLwIYHP8GBRa",
        "CPLJCMRMGBRc",
        "_JknnPrWKF9e",
        "_TZWp5zhKJHE",
        "2vCBqxtuKT9s"
      ],
      "machine_shape": "hm",
      "authorship_tag": "ABX9TyMsccz5WL2Xqe87th73/sLw",
      "include_colab_link": true
    },
    "kernelspec": {
      "name": "python3",
      "display_name": "Python 3"
    },
    "language_info": {
      "name": "python"
    },
    "accelerator": "GPU"
  },
  "cells": [
    {
      "cell_type": "markdown",
      "metadata": {
        "id": "view-in-github",
        "colab_type": "text"
      },
      "source": [
        "<a href=\"https://colab.research.google.com/github/henryjhu/Anomaly-Detection-in-Wire-Activities/blob/main/DSC_680_Supervised_Learning.ipynb\" target=\"_parent\"><img src=\"https://colab.research.google.com/assets/colab-badge.svg\" alt=\"Open In Colab\"/></a>"
      ]
    },
    {
      "cell_type": "markdown",
      "metadata": {
        "id": "sb3PbbWC0L51"
      },
      "source": [
        "# **DSC-680-Z1 Research Practicum** <BR> Machine Learning"
      ]
    },
    {
      "cell_type": "markdown",
      "metadata": {
        "id": "gBzyuneg0nNU"
      },
      "source": [
        "## **Project Description**\n",
        "A global bank sought to find new and innovative means for detecting and preventing fraud in their wire transactions. Their goal is through machine learning to arrive at scenario detection rules which could be customized with parameters specific for each cohort of customers. The immediate challenge was that the data provided had no labels. Therefore, unsupervised machine learning techniques were first employed for this research project. After the labels have been identified, supervised machine learning techniques were then employed with selected tuning parameters to increase both the sensitivity and specificity percentages of both classes."
      ]
    },
    {
      "cell_type": "markdown",
      "metadata": {
        "id": "YUE-xhQ40sNr"
      },
      "source": [
        "<b>Purpose:</b><br>\n",
        "Carry out supervised machine learnings with the sample data.<br>\n",
        "<b>Universtiy Name:</b> Utica College <br>\n",
        "<b>Course Name:</b> DSC-680-Z1 Research Practicum <br>\n",
        "<b>Student Name:</b> Henry J. Hu <br>\n",
        "<b>Program Director Name:</b> Dr. McCarthy, Michael <br>\n",
        "<b>Runtime Environment:</b> Google Colab<br>\n",
        "<b>Programming Language:</b> Python <br>\n",
        "<b>Sample Data Frame:</b>\n",
        "Six random samples of labeled international wires belonging to 139 customers from 3 continents for the entire year of 2020.<br>\n",
        "<b> Last Update:</b> August 7th, 2021"
      ]
    },
    {
      "cell_type": "markdown",
      "metadata": {
        "id": "NMMMqxrAEMnC"
      },
      "source": [
        "## **Installing Packages Into Google Colab**"
      ]
    },
    {
      "cell_type": "code",
      "metadata": {
        "id": "w_pApv2uq32I",
        "colab": {
          "base_uri": "https://localhost:8080/"
        },
        "outputId": "b92801e9-dc78-4114-f5e6-27ac5baa7528"
      },
      "source": [
        "!pip install -U imbalanced-learn"
      ],
      "execution_count": 1,
      "outputs": [
        {
          "output_type": "stream",
          "text": [
            "Requirement already satisfied: imbalanced-learn in /usr/local/lib/python3.7/dist-packages (0.8.0)\n",
            "Requirement already satisfied: scipy>=0.19.1 in /usr/local/lib/python3.7/dist-packages (from imbalanced-learn) (1.4.1)\n",
            "Requirement already satisfied: scikit-learn>=0.24 in /usr/local/lib/python3.7/dist-packages (from imbalanced-learn) (0.24.2)\n",
            "Requirement already satisfied: joblib>=0.11 in /usr/local/lib/python3.7/dist-packages (from imbalanced-learn) (1.0.1)\n",
            "Requirement already satisfied: numpy>=1.13.3 in /usr/local/lib/python3.7/dist-packages (from imbalanced-learn) (1.19.5)\n",
            "Requirement already satisfied: threadpoolctl>=2.0.0 in /usr/local/lib/python3.7/dist-packages (from scikit-learn>=0.24->imbalanced-learn) (2.2.0)\n"
          ],
          "name": "stdout"
        }
      ]
    },
    {
      "cell_type": "markdown",
      "metadata": {
        "id": "0FVDlmHJq6th"
      },
      "source": [
        "## **Mounting Google Drive**"
      ]
    },
    {
      "cell_type": "code",
      "metadata": {
        "id": "Ovr70FQWyvvY",
        "colab": {
          "base_uri": "https://localhost:8080/"
        },
        "outputId": "b17c0723-903a-446f-c0a1-839f90e1bfaf"
      },
      "source": [
        "from google.colab import drive\n",
        "drive.mount('/content/gdrive/', force_remount=True)"
      ],
      "execution_count": 2,
      "outputs": [
        {
          "output_type": "stream",
          "text": [
            "Mounted at /content/gdrive/\n"
          ],
          "name": "stdout"
        }
      ]
    },
    {
      "cell_type": "markdown",
      "metadata": {
        "id": "WGsaUOOmEZXJ"
      },
      "source": [
        "## **Importing Libraries**"
      ]
    },
    {
      "cell_type": "code",
      "metadata": {
        "id": "kEqZ5d75z_rg"
      },
      "source": [
        "# Importing libraries\n",
        "import io\n",
        "import pandas as pd\n",
        "import numpy as np\n",
        "import seaborn as sns\n",
        "import matplotlib.pyplot as plt\n",
        "import xgboost as xgb\n",
        "import seaborn as sns\n",
        "import sklearn\n",
        "import traceback\n",
        "import time\n",
        "import pytz\n",
        "import xgboost as xgb\n",
        "from datetime import datetime\n",
        "from sklearn import metrics\n",
        "from scipy.stats import rankdata\n",
        "from numpy import quantile, where, random\n",
        "from random import sample\n",
        "from sklearn.preprocessing import StandardScaler\n",
        "from sklearn.model_selection import train_test_split\n",
        "from sklearn import model_selection, preprocessing\n",
        "from sklearn.datasets import make_blobs\n",
        "from sklearn.metrics import classification_report, accuracy_score\n",
        "from sklearn.neural_network import MLPRegressor\n",
        "from sklearn.neural_network import MLPClassifier\n",
        "from sklearn.neighbors import LocalOutlierFactor\n",
        "from sklearn.linear_model import LogisticRegression\n",
        "from sklearn.tree import DecisionTreeClassifier\n",
        "from sklearn.model_selection import RepeatedStratifiedKFold\n",
        "from sklearn.model_selection import cross_val_score, KFold\n",
        "from sklearn.model_selection import cross_validate \n",
        "from sklearn.model_selection import cross_val_predict\n",
        "from sklearn.model_selection import TimeSeriesSplit\n",
        "from sklearn.model_selection import GridSearchCV\n",
        "from sklearn.model_selection import RandomizedSearchCV\n",
        "from sklearn.metrics import classification_report,confusion_matrix\n",
        "from sklearn.ensemble import (RandomForestClassifier, AdaBoostClassifier, GradientBoostingClassifier, \n",
        "                              ExtraTreesClassifier, IsolationForest, VotingClassifier, StackingClassifier)\n",
        "from imblearn.over_sampling import SMOTE # https://github.com/vsmolyakov/experiments_with_python/blob/master/chp01/imbalanced_data.ipynb"
      ],
      "execution_count": 3,
      "outputs": []
    },
    {
      "cell_type": "markdown",
      "metadata": {
        "id": "CUn_dKOdEYDh"
      },
      "source": [
        "## **Importing Data into Google Colab**"
      ]
    },
    {
      "cell_type": "code",
      "metadata": {
        "id": "EVumC16bF1U-"
      },
      "source": [
        "# Importing data\n",
        "NN_103_output_df = pd.read_csv(\"gdrive/MyDrive/DSC-380/NN_103_score_df.cvs\")\n",
        "NN_202_output_df = pd.read_csv(\"gdrive/MyDrive/DSC-380/NN_202_score_df.cvs\")\n",
        "EU_103_output_df = pd.read_csv(\"gdrive/MyDrive/DSC-380/EU_103_score_df.cvs\")\n",
        "EU_202_output_df = pd.read_csv(\"gdrive/MyDrive/DSC-380/EU_202_score_df.cvs\")\n",
        "AS_103_output_df = pd.read_csv(\"gdrive/MyDrive/DSC-380/AS_103_score_df.cvs\")\n",
        "AS_202_output_df = pd.read_csv(\"gdrive/MyDrive/DSC-380/AS_202_score_df.cvs\")"
      ],
      "execution_count": 4,
      "outputs": []
    },
    {
      "cell_type": "markdown",
      "metadata": {
        "id": "AuwgZJjEBgNc"
      },
      "source": [
        "## **Re-Sampling**"
      ]
    },
    {
      "cell_type": "code",
      "metadata": {
        "id": "up_AvSAXBnFT"
      },
      "source": [
        "NN_103_output_df = NN_103_output_df.sample(n=100000, random_state=42)\n",
        "NN_202_output_df = NN_202_output_df.sample(n=100000, random_state=42)\n",
        "EU_103_output_df = EU_103_output_df.sample(n=100000, random_state=42)\n",
        "EU_202_output_df = EU_202_output_df.sample(n=100000, random_state=42)\n",
        "AS_103_output_df = AS_103_output_df.sample(n=100000, random_state=42)\n",
        "AS_202_output_df = AS_202_output_df.sample(n=100000, random_state=42)"
      ],
      "execution_count": 5,
      "outputs": []
    },
    {
      "cell_type": "markdown",
      "metadata": {
        "id": "G_XuatApFJ1_"
      },
      "source": [
        "## **Preparation of Training and Test Data Sets**"
      ]
    },
    {
      "cell_type": "code",
      "metadata": {
        "id": "CKL9215-aCDD"
      },
      "source": [
        "NN_103_output_df_x_train, NN_103_output_df_x_test, NN_103_output_df_y_train, NN_103_output_df_y_test = train_test_split(NN_103_output_df[['TRXN_MONTH','TRANSACTION_AMOUNT']],NN_103_output_df[['FRAUD_LABEL']],train_size=0.7, test_size=0.3, shuffle=True, random_state=42)"
      ],
      "execution_count": 6,
      "outputs": []
    },
    {
      "cell_type": "code",
      "metadata": {
        "id": "IC4IMk9Mef5i"
      },
      "source": [
        "NN_202_output_df_x_train, NN_202_output_df_x_test, NN_202_output_df_y_train, NN_202_output_df_y_test = train_test_split(NN_202_output_df[['TRXN_MONTH','TRANSACTION_AMOUNT']],NN_202_output_df[['FRAUD_LABEL']],train_size=0.7, test_size=0.3, shuffle=True, random_state=42)"
      ],
      "execution_count": 7,
      "outputs": []
    },
    {
      "cell_type": "code",
      "metadata": {
        "id": "5DpM22tUegtZ"
      },
      "source": [
        "EU_103_output_df_x_train, EU_103_output_df_x_test, EU_103_output_df_y_train, EU_103_output_df_y_test = train_test_split(EU_103_output_df[['TRXN_MONTH','TRANSACTION_AMOUNT']],EU_103_output_df[['FRAUD_LABEL']],train_size=0.7, test_size=0.3, shuffle=True, random_state=42)"
      ],
      "execution_count": 8,
      "outputs": []
    },
    {
      "cell_type": "code",
      "metadata": {
        "id": "zLNSCAhsehI5"
      },
      "source": [
        "EU_202_output_df_x_train, EU_202_output_df_x_test, EU_202_output_df_y_train, EU_202_output_df_y_test = train_test_split(EU_202_output_df[['TRXN_MONTH','TRANSACTION_AMOUNT']],EU_202_output_df[['FRAUD_LABEL']],train_size=0.7, test_size=0.3, shuffle=True, random_state=42)"
      ],
      "execution_count": 9,
      "outputs": []
    },
    {
      "cell_type": "code",
      "metadata": {
        "id": "DW4qGBsyehlR"
      },
      "source": [
        "AS_103_output_df_x_train, AS_103_output_df_x_test, AS_103_output_df_y_train, AS_103_output_df_y_test = train_test_split(AS_103_output_df[['TRXN_MONTH','TRANSACTION_AMOUNT']],AS_103_output_df[['FRAUD_LABEL']],train_size=0.7, test_size=0.3, shuffle=True, random_state=42)"
      ],
      "execution_count": 10,
      "outputs": []
    },
    {
      "cell_type": "code",
      "metadata": {
        "id": "jDib_G6aeiSJ"
      },
      "source": [
        "AS_202_output_df_x_train, AS_202_output_df_x_test, AS_202_output_df_y_train, AS_202_output_df_y_test = train_test_split(AS_202_output_df[['TRXN_MONTH','TRANSACTION_AMOUNT']],AS_202_output_df[['FRAUD_LABEL']],train_size=0.7, test_size=0.3, shuffle=True, random_state=42)"
      ],
      "execution_count": 11,
      "outputs": []
    },
    {
      "cell_type": "markdown",
      "metadata": {
        "id": "hBMuKhfCueo9"
      },
      "source": [
        "## **Over Sampling the Minority Class Using SMOTE**"
      ]
    },
    {
      "cell_type": "code",
      "metadata": {
        "id": "4DWedXZluR2G"
      },
      "source": [
        "# Initilize SMOTE\n",
        "sm = SMOTE(random_state=42, n_jobs=-1)\n",
        "\n",
        "# Apply SMOTE to North America\n",
        "NN_103_sm_output_df_x_train, NN_103_sm_output_df_y_train = sm.fit_resample(NN_103_output_df_x_train, NN_103_output_df_y_train)\n",
        "NN_103_sm_output_df_x_test, NN_103_sm_output_df_y_test = sm.fit_resample(NN_103_output_df_x_test, NN_103_output_df_y_test)\n",
        "NN_202_sm_output_df_x_train, NN_202_sm_output_df_y_train = sm.fit_resample(NN_202_output_df_x_train, NN_202_output_df_y_train)\n",
        "NN_202_sm_output_df_x_test, NN_202_sm_output_df_y_test = sm.fit_resample(NN_202_output_df_x_test, NN_202_output_df_y_test)\n",
        "\n",
        "#Apply SMOTE to Europe\n",
        "EU_103_sm_output_df_x_train, EU_103_sm_output_df_y_train = sm.fit_resample(EU_103_output_df_x_train, EU_103_output_df_y_train)\n",
        "EU_103_sm_output_df_x_test, EU_103_sm_output_df_y_test = sm.fit_resample(EU_103_output_df_x_test, EU_103_output_df_y_test)\n",
        "EU_202_sm_output_df_x_train, EU_202_sm_output_df_y_train = sm.fit_resample(EU_202_output_df_x_train, EU_202_output_df_y_train)\n",
        "EU_202_sm_output_df_x_test, EU_202_sm_output_df_y_test = sm.fit_resample(EU_202_output_df_x_test, EU_202_output_df_y_test)\n",
        "\n",
        "#Apply SMOTE to Asia\n",
        "AS_103_sm_output_df_x_train, AS_103_sm_output_df_y_train = sm.fit_resample(AS_103_output_df_x_train, AS_103_output_df_y_train)\n",
        "AS_103_sm_output_df_x_test, AS_103_sm_output_df_y_test = sm.fit_resample(AS_103_output_df_x_test, AS_103_output_df_y_test)\n",
        "AS_202_sm_output_df_x_train, AS_202_sm_output_df_y_train = sm.fit_resample(AS_202_output_df_x_train, AS_202_output_df_y_train)\n",
        "AS_202_sm_output_df_x_test, AS_202_sm_output_df_y_test = sm.fit_resample(AS_202_output_df_x_test, AS_202_output_df_y_test)\n",
        "\n",
        "# unique, count = np.unique(NN_103_sm_output_df_y_train, return_counts=True)\n",
        "# y_train_ct = {k:v for (k,v) in zip(unique, count)}\n",
        "# y_train_ct\n",
        "# NN_103_sm_output_df_x_train"
      ],
      "execution_count": 12,
      "outputs": []
    },
    {
      "cell_type": "markdown",
      "metadata": {
        "id": "St9bXjehZ5-M"
      },
      "source": [
        "## **Cross Validation Function**"
      ]
    },
    {
      "cell_type": "code",
      "metadata": {
        "id": "D-YL7ig5s4Tf"
      },
      "source": [
        "##############################################################################################\n",
        "#\n",
        "# Purpose: \n",
        "# Through cross validation, performs model fitting, training and prediction for \n",
        "# Random Forest and Artificial Neuro Networks \n",
        "#\n",
        "##############################################################################################"
      ],
      "execution_count": 13,
      "outputs": []
    },
    {
      "cell_type": "code",
      "metadata": {
        "id": "YCbZh3I21LdQ"
      },
      "source": [
        "def cross_val_train (clf_n, X_train, Y_train):\n",
        "\n",
        "  # Initialize the log variable\n",
        "  class log:\n",
        "    def_tz = pytz.timezone('America/New_York')\n",
        "    def info(text):        \n",
        "        print(f'{datetime.now(log.def_tz).replace(microsecond=0)} : {text}');\n",
        "\n",
        "  # Scale and center the data around the mean of 0\n",
        "  scaling=StandardScaler()\n",
        "  X_train=scaling.fit_transform(X_train)\n",
        "\n",
        "  # Random Seed\n",
        "  random.seed(42)\n",
        "\n",
        "  clf1=MLPClassifier()\n",
        "  clf2=RandomForestClassifier()\n",
        "\n",
        "  # Best tunning hyper parameters have been determined with two random iterations\n",
        "  # Data frames used: NN_202_output_df_x_train, NN_202_output_df_y_train\n",
        "  # {'warm_start': True, 'solver': 'adam', 'random_state': 42, 'max_iter': 300, 'learning_rate': 'adaptive', 'hidden_layer_sizes': (4, 8), 'alpha': 0.05, 'activation': 'logistic'}\n",
        "  clf1_parameter_space = {\n",
        "      'warm_start': [True],\n",
        "      'max_iter': [500],\n",
        "      'hidden_layer_sizes': [(8,16)],\n",
        "      'activation': ['logistic'],\n",
        "      'solver': ['lbfgs'], # Have to set learning_rate_init if solver is either ’sgd’ or ‘adam’ \n",
        "      'alpha': [0.05,0.1,1.5,2.0,2.5], # Have to set alpha correctly or else all same label values in output \n",
        "      'learning_rate': ['adaptive'], # No need to set learning_rate if solver is not ’sgd’\n",
        "      'random_state': [42]\n",
        "  }\n",
        "  # Best tunning hyper parameters have been determined with two random iterations\n",
        "  # Data frames used: NN_202_output_df_x_train, NN_202_output_df_y_train\n",
        "  clf2_parameter_space = {\n",
        "      'warm_start': [True],\n",
        "      'max_depth': [20,40,80,160],\n",
        "      'n_estimators': [20,40,80,160],\n",
        "      'min_samples_split': [5],\n",
        "      'random_state': [42],\n",
        "      'n_jobs': [-1]\n",
        "  }\n",
        "\n",
        "  if clf_n == 1:\n",
        "    model = clf1\n",
        "    model_name = 'Artificial Neuro Networks'\n",
        "    clf_parameter_space = clf1_parameter_space\n",
        "  else: \n",
        "    model = clf2\n",
        "    model_name = 'Random Forest'\n",
        "    clf_parameter_space = clf2_parameter_space\n",
        "\n",
        "  clf_cross = RandomizedSearchCV(model, clf_parameter_space, n_jobs=-1, cv=10, n_iter=1, verbose=True, refit=True) # Stratified cv fold cross validation\n",
        "  clf_cross.fit(X_train, Y_train) # X is training sample and y is the corresponding labels\n",
        "  log.info(f'Best parameters used for cross validation of {model_name}')\n",
        "  log.info(clf_cross.best_params_)\n",
        "\n",
        "  return clf_cross"
      ],
      "execution_count": 14,
      "outputs": []
    },
    {
      "cell_type": "markdown",
      "metadata": {
        "id": "cZHnutZ8DwjV"
      },
      "source": [
        "## **Stacking - Level 1**"
      ]
    },
    {
      "cell_type": "markdown",
      "metadata": {
        "id": "6Qrt9hauU7wS"
      },
      "source": [
        "### **Gathering Predictions for Test Data Set X**"
      ]
    },
    {
      "cell_type": "markdown",
      "metadata": {
        "id": "s6kzGCXeEFEz"
      },
      "source": [
        "### ***Artificial Neuro Networks Predictions***"
      ]
    },
    {
      "cell_type": "markdown",
      "metadata": {
        "id": "5bLJZtPNExmM"
      },
      "source": [
        "#### ***North America***"
      ]
    },
    {
      "cell_type": "code",
      "metadata": {
        "colab": {
          "base_uri": "https://localhost:8080/"
        },
        "id": "BmY1IyuO5jgr",
        "outputId": "14947ff7-c045-4017-8f75-50a538ac0baf"
      },
      "source": [
        "NN_103_sm_output_ann_y_pred_test = cross_val_train(1,NN_103_sm_output_df_x_train, NN_103_sm_output_df_y_train).predict(NN_103_sm_output_df_x_test)\n",
        "NN_103_sm_output_ann_y_pred_train = cross_val_train(1,NN_103_sm_output_df_x_train, NN_103_sm_output_df_y_train).predict(NN_103_sm_output_df_x_train)"
      ],
      "execution_count": 15,
      "outputs": [
        {
          "output_type": "stream",
          "text": [
            "Fitting 10 folds for each of 1 candidates, totalling 10 fits\n"
          ],
          "name": "stdout"
        },
        {
          "output_type": "stream",
          "text": [
            "/usr/local/lib/python3.7/dist-packages/sklearn/utils/validation.py:63: DataConversionWarning: A column-vector y was passed when a 1d array was expected. Please change the shape of y to (n_samples, ), for example using ravel().\n",
            "  return f(*args, **kwargs)\n",
            "/usr/local/lib/python3.7/dist-packages/sklearn/neural_network/_multilayer_perceptron.py:500: ConvergenceWarning: lbfgs failed to converge (status=1):\n",
            "STOP: TOTAL NO. of ITERATIONS REACHED LIMIT.\n",
            "\n",
            "Increase the number of iterations (max_iter) or scale the data as shown in:\n",
            "    https://scikit-learn.org/stable/modules/preprocessing.html\n",
            "  self.n_iter_ = _check_optimize_result(\"lbfgs\", opt_res, self.max_iter)\n"
          ],
          "name": "stderr"
        },
        {
          "output_type": "stream",
          "text": [
            "2021-08-09 05:42:36-04:00 : Best parameters used for cross validation of Artificial Neuro Networks\n",
            "2021-08-09 05:42:36-04:00 : {'warm_start': True, 'solver': 'lbfgs', 'random_state': 42, 'max_iter': 500, 'learning_rate': 'adaptive', 'hidden_layer_sizes': (8, 16), 'alpha': 0.1, 'activation': 'logistic'}\n",
            "Fitting 10 folds for each of 1 candidates, totalling 10 fits\n"
          ],
          "name": "stdout"
        },
        {
          "output_type": "stream",
          "text": [
            "/usr/local/lib/python3.7/dist-packages/sklearn/utils/validation.py:63: DataConversionWarning: A column-vector y was passed when a 1d array was expected. Please change the shape of y to (n_samples, ), for example using ravel().\n",
            "  return f(*args, **kwargs)\n"
          ],
          "name": "stderr"
        },
        {
          "output_type": "stream",
          "text": [
            "2021-08-09 05:48:11-04:00 : Best parameters used for cross validation of Artificial Neuro Networks\n",
            "2021-08-09 05:48:11-04:00 : {'warm_start': True, 'solver': 'lbfgs', 'random_state': 42, 'max_iter': 500, 'learning_rate': 'adaptive', 'hidden_layer_sizes': (8, 16), 'alpha': 0.1, 'activation': 'logistic'}\n"
          ],
          "name": "stdout"
        },
        {
          "output_type": "stream",
          "text": [
            "/usr/local/lib/python3.7/dist-packages/sklearn/neural_network/_multilayer_perceptron.py:500: ConvergenceWarning: lbfgs failed to converge (status=1):\n",
            "STOP: TOTAL NO. of ITERATIONS REACHED LIMIT.\n",
            "\n",
            "Increase the number of iterations (max_iter) or scale the data as shown in:\n",
            "    https://scikit-learn.org/stable/modules/preprocessing.html\n",
            "  self.n_iter_ = _check_optimize_result(\"lbfgs\", opt_res, self.max_iter)\n"
          ],
          "name": "stderr"
        }
      ]
    },
    {
      "cell_type": "code",
      "metadata": {
        "id": "5OLJ_ARq54UI"
      },
      "source": [
        "NN_202_sm_output_ann_y_pred_test = cross_val_train(1,NN_202_sm_output_df_x_train, NN_202_sm_output_df_y_train).predict(NN_202_sm_output_df_x_test)\n",
        "NN_202_sm_output_ann_y_pred_train = cross_val_train(1,NN_202_sm_output_df_x_train, NN_202_sm_output_df_y_train).predict(NN_202_sm_output_df_x_train)"
      ],
      "execution_count": null,
      "outputs": []
    },
    {
      "cell_type": "markdown",
      "metadata": {
        "id": "ioaF79p7E-Np"
      },
      "source": [
        "#### ***Europe***"
      ]
    },
    {
      "cell_type": "code",
      "metadata": {
        "id": "6xIQ8FApE-Nr"
      },
      "source": [
        "EU_103_sm_output_ann_y_pred_test = cross_val_train(1, EU_103_sm_output_df_x_train, EU_103_sm_output_df_y_train).predict(EU_103_sm_output_df_x_test)\n",
        "EU_103_sm_output_ann_y_pred_train = cross_val_train(1, EU_103_sm_output_df_x_train, EU_103_sm_output_df_y_train).predict(EU_103_sm_output_df_x_train)"
      ],
      "execution_count": null,
      "outputs": []
    },
    {
      "cell_type": "code",
      "metadata": {
        "id": "aBBvsUTFE-Nt"
      },
      "source": [
        "EU_202_sm_output_ann_y_pred_test = cross_val_train(1, EU_202_sm_output_df_x_train, EU_202_sm_output_df_y_train).predict(EU_202_sm_output_df_x_test)\n",
        "EU_202_sm_output_ann_y_pred_train = cross_val_train(1, EU_202_sm_output_df_x_train, EU_202_sm_output_df_y_train).predict(EU_202_sm_output_df_x_train)"
      ],
      "execution_count": null,
      "outputs": []
    },
    {
      "cell_type": "markdown",
      "metadata": {
        "id": "VEQIvsIOFnEq"
      },
      "source": [
        "#### ***Asia***"
      ]
    },
    {
      "cell_type": "code",
      "metadata": {
        "id": "MOc0mTB8FnFF"
      },
      "source": [
        "AS_103_sm_output_ann_y_pred_test = cross_val_train(1, AS_103_sm_output_df_x_train, AS_103_sm_output_df_y_train).predict(AS_103_sm_output_df_x_test)\n",
        "AS_103_sm_output_ann_y_pred_train = cross_val_train(1, AS_103_sm_output_df_x_train, AS_103_sm_output_df_y_train).predict(AS_103_sm_output_df_x_train)"
      ],
      "execution_count": null,
      "outputs": []
    },
    {
      "cell_type": "code",
      "metadata": {
        "id": "XkHxwgP-FnFH"
      },
      "source": [
        "AS_202_sm_output_ann_y_pred_test = cross_val_train(1, AS_202_sm_output_df_x_train, AS_202_sm_output_df_y_train).predict(AS_202_sm_output_df_x_test)\n",
        "AS_202_sm_output_ann_y_pred_train = cross_val_train(1, AS_202_sm_output_df_x_train, AS_202_sm_output_df_y_train).predict(AS_202_sm_output_df_x_train)"
      ],
      "execution_count": null,
      "outputs": []
    },
    {
      "cell_type": "markdown",
      "metadata": {
        "id": "J5ezTm6dGBRL"
      },
      "source": [
        "### ***Random Forest Predictions***"
      ]
    },
    {
      "cell_type": "markdown",
      "metadata": {
        "id": "drrmU-nkGBRV"
      },
      "source": [
        "#### ***North America***"
      ]
    },
    {
      "cell_type": "code",
      "metadata": {
        "id": "ary6JCJ2GBRW"
      },
      "source": [
        "NN_103_sm_output_rf_y_pred_test = cross_val_train(2,NN_103_sm_output_df_x_train, NN_103_sm_output_df_y_train).predict(NN_103_sm_output_df_x_test)\n",
        "NN_103_sm_output_rf_y_pred_train = cross_val_train(2,NN_103_sm_output_df_x_train, NN_103_sm_output_df_y_train).predict(NN_103_sm_output_df_x_train)"
      ],
      "execution_count": null,
      "outputs": []
    },
    {
      "cell_type": "code",
      "metadata": {
        "id": "HvnyBnUiGBRY"
      },
      "source": [
        "NN_202_sm_output_rf_y_pred_test = cross_val_train(2,NN_202_sm_output_df_x_train, NN_202_sm_output_df_y_train).predict(NN_202_sm_output_df_x_test)\n",
        "NN_202_sm_output_rf_y_pred_train = cross_val_train(2,NN_202_sm_output_df_x_train, NN_202_sm_output_df_y_train).predict(NN_202_sm_output_df_x_train)"
      ],
      "execution_count": null,
      "outputs": []
    },
    {
      "cell_type": "markdown",
      "metadata": {
        "id": "OLwIYHP8GBRa"
      },
      "source": [
        "#### ***Europe***"
      ]
    },
    {
      "cell_type": "code",
      "metadata": {
        "id": "D0dLA2gnGBRa"
      },
      "source": [
        "EU_103_sm_output_rf_y_pred_test = cross_val_train(2, EU_103_sm_output_df_x_train, EU_103_sm_output_df_y_train).predict(EU_103_sm_output_df_x_test)\n",
        "EU_103_sm_output_rf_y_pred_train = cross_val_train(2, EU_103_sm_output_df_x_train, EU_103_sm_output_df_y_train).predict(EU_103_sm_output_df_x_train)"
      ],
      "execution_count": null,
      "outputs": []
    },
    {
      "cell_type": "code",
      "metadata": {
        "id": "nX11FaVHGBRb"
      },
      "source": [
        "EU_202_sm_output_rf_y_pred_test = cross_val_train(2, EU_202_sm_output_df_x_train, EU_202_sm_output_df_y_train).predict(EU_202_sm_output_df_x_test)\n",
        "EU_202_sm_output_rf_y_pred_train = cross_val_train(2, EU_202_sm_output_df_x_train, EU_202_sm_output_df_y_train).predict(EU_202_sm_output_df_x_train)"
      ],
      "execution_count": null,
      "outputs": []
    },
    {
      "cell_type": "markdown",
      "metadata": {
        "id": "CPLJCMRMGBRc"
      },
      "source": [
        "#### ***Asia***"
      ]
    },
    {
      "cell_type": "code",
      "metadata": {
        "id": "St4OcWCwGBRd"
      },
      "source": [
        "AS_103_sm_output_rf_y_pred_test = cross_val_train(2, AS_103_sm_output_df_x_train, AS_103_sm_output_df_y_train).predict(AS_103_sm_output_df_x_test)\n",
        "AS_103_sm_output_rf_y_pred_train = cross_val_train(2, AS_103_sm_output_df_x_train, AS_103_sm_output_df_y_train).predict(AS_103_sm_output_df_x_train)"
      ],
      "execution_count": null,
      "outputs": []
    },
    {
      "cell_type": "code",
      "metadata": {
        "id": "7LzvjquNGBRe"
      },
      "source": [
        "AS_202_sm_output_rf_y_pred_test = cross_val_train(2, AS_202_sm_output_df_x_train, AS_202_sm_output_df_y_train).predict(AS_202_sm_output_df_x_test)\n",
        "AS_202_sm_output_rf_y_pred_train = cross_val_train(2, AS_202_sm_output_df_x_train, AS_202_sm_output_df_y_train).predict(AS_202_sm_output_df_x_train)"
      ],
      "execution_count": null,
      "outputs": []
    },
    {
      "cell_type": "markdown",
      "metadata": {
        "id": "0-rr0urIIpkg"
      },
      "source": [
        "## **Stacking - Level 2**"
      ]
    },
    {
      "cell_type": "markdown",
      "metadata": {
        "id": "HHeqVHWYkOOJ"
      },
      "source": [
        "##### **Stacking Algorithm = Decision Tree**"
      ]
    },
    {
      "cell_type": "markdown",
      "metadata": {
        "id": "D0ZA3D3FMVjW"
      },
      "source": [
        "##### **Weights of 2x applied to Level 1 Random Forest's predictions before feeding them into Level 2 Decesion Tree as inputs**"
      ]
    },
    {
      "cell_type": "markdown",
      "metadata": {
        "id": "kF-9ASguewNf"
      },
      "source": [
        "##### **Level 2 X Training Data = Combine of Level 1 ANN and Random Forest predicitons from the \"train\" data**"
      ]
    },
    {
      "cell_type": "markdown",
      "metadata": {
        "id": "YoCEu8DhJG8w"
      },
      "source": [
        "##### **Level 2 X Test Data = Combine of Level 1 ANN and Random Forest predicitons from the \"test\" data**"
      ]
    },
    {
      "cell_type": "markdown",
      "metadata": {
        "id": "_JknnPrWKF9e"
      },
      "source": [
        "#### ***North America***"
      ]
    },
    {
      "cell_type": "code",
      "metadata": {
        "id": "ugzN3O15VfmG",
        "colab": {
          "base_uri": "https://localhost:8080/"
        },
        "outputId": "19bce3af-a25d-4ed8-8832-581e80ced161"
      },
      "source": [
        "NN_103_sm_output_ensemble_x_train = np.column_stack((NN_103_sm_output_ann_y_pred_train, NN_103_sm_output_rf_y_pred_train*2))\n",
        "NN_103_sm_output_ensemble_x_train_df = pd.DataFrame(NN_103_sm_output_ensemble_x_train, columns = ['ANN','RF'])\n",
        "NN_103_sm_output_ensemble_x_test = np.column_stack((NN_103_sm_output_ann_y_pred_test, NN_103_sm_output_rf_y_pred_test*2))\n",
        "NN_103_sm_output_ensemble_x_test_df = pd.DataFrame(NN_103_sm_output_ensemble_x_test, columns = ['ANN','RF'])\n",
        "NN_103_sm_output_final_pred = xgb.XGBClassifier(objective= 'binary:logistic').fit(NN_103_sm_output_ensemble_x_train_df, NN_103_sm_output_df_y_train).predict(NN_103_sm_output_ensemble_x_test_df)"
      ],
      "execution_count": 27,
      "outputs": [
        {
          "output_type": "stream",
          "text": [
            "/usr/local/lib/python3.7/dist-packages/sklearn/utils/validation.py:63: DataConversionWarning: A column-vector y was passed when a 1d array was expected. Please change the shape of y to (n_samples, ), for example using ravel().\n",
            "  return f(*args, **kwargs)\n"
          ],
          "name": "stderr"
        }
      ]
    },
    {
      "cell_type": "code",
      "metadata": {
        "id": "vPfcE25NJgPB",
        "colab": {
          "base_uri": "https://localhost:8080/"
        },
        "outputId": "c3e3af48-0810-4adf-f32c-691c637671a6"
      },
      "source": [
        "NN_202_sm_output_ensemble_x_train = np.column_stack((NN_202_sm_output_ann_y_pred_train, NN_202_sm_output_rf_y_pred_train*2))\n",
        "NN_202_sm_output_ensemble_x_train_df = pd.DataFrame(NN_202_sm_output_ensemble_x_train, columns = ['ANN','RF'])\n",
        "NN_202_sm_output_ensemble_x_test = np.column_stack((NN_202_sm_output_ann_y_pred_test, NN_202_sm_output_rf_y_pred_test*2))\n",
        "NN_202_sm_output_ensemble_x_test_df = pd.DataFrame(NN_202_sm_output_ensemble_x_test, columns = ['ANN','RF'])\n",
        "NN_202_sm_output_final_pred = xgb.XGBClassifier(objective= 'binary:logistic').fit(NN_202_sm_output_ensemble_x_train_df, NN_202_sm_output_df_y_train).predict(NN_202_sm_output_ensemble_x_test_df)"
      ],
      "execution_count": 28,
      "outputs": [
        {
          "output_type": "stream",
          "text": [
            "/usr/local/lib/python3.7/dist-packages/sklearn/utils/validation.py:63: DataConversionWarning: A column-vector y was passed when a 1d array was expected. Please change the shape of y to (n_samples, ), for example using ravel().\n",
            "  return f(*args, **kwargs)\n"
          ],
          "name": "stderr"
        }
      ]
    },
    {
      "cell_type": "markdown",
      "metadata": {
        "id": "_TZWp5zhKJHE"
      },
      "source": [
        "#### ***Europe***"
      ]
    },
    {
      "cell_type": "code",
      "metadata": {
        "id": "K_-RBiWbJk-X"
      },
      "source": [
        "EU_103_sm_output_ensemble_x_train = np.column_stack((EU_103_sm_output_ann_y_pred_train, EU_103_sm_output_rf_y_pred_train*2))\n",
        "EU_103_sm_output_ensemble_x_train_df = pd.DataFrame(EU_103_sm_output_ensemble_x_train, columns = ['ANN','RF'])\n",
        "EU_103_sm_output_ensemble_x_test = np.column_stack((EU_103_sm_output_ann_y_pred_test, EU_103_sm_output_rf_y_pred_test*2))\n",
        "EU_103_sm_output_ensemble_x_test_df = pd.DataFrame(EU_103_sm_output_ensemble_x_test, columns = ['ANN','RF'])\n",
        "EU_103_sm_output_final_pred = DecisionTreeClassifier(random_state=42).fit(EU_103_sm_output_ensemble_x_train_df, EU_103_sm_output_df_y_train).predict(EU_103_sm_output_ensemble_x_test_df)"
      ],
      "execution_count": 29,
      "outputs": []
    },
    {
      "cell_type": "code",
      "metadata": {
        "id": "9Nav14kxJoxf"
      },
      "source": [
        "EU_202_sm_output_ensemble_x_train = np.column_stack((EU_202_sm_output_ann_y_pred_train, EU_202_sm_output_rf_y_pred_train*2))\n",
        "EU_202_sm_output_ensemble_x_train_df = pd.DataFrame(EU_202_sm_output_ensemble_x_train, columns = ['ANN','RF'])\n",
        "EU_202_sm_output_ensemble_x_test = np.column_stack((EU_202_sm_output_ann_y_pred_test, EU_202_sm_output_rf_y_pred_test*2))\n",
        "EU_202_sm_output_ensemble_x_test_df = pd.DataFrame(EU_202_sm_output_ensemble_x_test, columns = ['ANN','RF'])\n",
        "EU_202_sm_output_final_pred = DecisionTreeClassifier(random_state=42).fit(EU_202_sm_output_ensemble_x_train_df, EU_202_sm_output_df_y_train).predict(EU_202_sm_output_ensemble_x_test_df)"
      ],
      "execution_count": 30,
      "outputs": []
    },
    {
      "cell_type": "markdown",
      "metadata": {
        "id": "2vCBqxtuKT9s"
      },
      "source": [
        "#### ***Asia***"
      ]
    },
    {
      "cell_type": "code",
      "metadata": {
        "id": "cy1i42o0Juw9"
      },
      "source": [
        "AS_103_sm_output_ensemble_x_train = np.column_stack((AS_103_sm_output_ann_y_pred_train, AS_103_sm_output_rf_y_pred_train*2))\n",
        "AS_103_sm_output_ensemble_x_train_df = pd.DataFrame(AS_103_sm_output_ensemble_x_train, columns = ['ANN','RF'])\n",
        "AS_103_sm_output_ensemble_x_test = np.column_stack((AS_103_sm_output_ann_y_pred_test, AS_103_sm_output_rf_y_pred_test*2))\n",
        "AS_103_sm_output_ensemble_x_test_df = pd.DataFrame(AS_103_sm_output_ensemble_x_test, columns = ['ANN','RF'])\n",
        "AS_103_sm_output_final_pred = DecisionTreeClassifier(random_state=42).fit(AS_103_sm_output_ensemble_x_train_df, AS_103_sm_output_df_y_train).predict(AS_103_sm_output_ensemble_x_test_df)"
      ],
      "execution_count": 31,
      "outputs": []
    },
    {
      "cell_type": "code",
      "metadata": {
        "id": "MIMCdy2aJ0Ue"
      },
      "source": [
        "AS_202_sm_output_ensemble_x_train = np.column_stack((AS_202_sm_output_ann_y_pred_train, AS_202_sm_output_rf_y_pred_train*2))\n",
        "AS_202_sm_output_ensemble_x_train_df = pd.DataFrame(AS_202_sm_output_ensemble_x_train, columns = ['ANN','RF'])\n",
        "AS_202_sm_output_ensemble_x_test = np.column_stack((AS_202_sm_output_ann_y_pred_test, AS_202_sm_output_rf_y_pred_test*2))\n",
        "AS_202_sm_output_ensemble_x_test_df = pd.DataFrame(AS_202_sm_output_ensemble_x_test, columns = ['ANN','RF'])\n",
        "AS_202_sm_output_final_pred = DecisionTreeClassifier(random_state=42).fit(AS_202_sm_output_ensemble_x_train_df, AS_202_sm_output_df_y_train).predict(AS_202_sm_output_ensemble_x_test_df)"
      ],
      "execution_count": 32,
      "outputs": []
    },
    {
      "cell_type": "markdown",
      "metadata": {
        "id": "shnfGOwJWD-h"
      },
      "source": [
        "## **Confusion Matricies of Accuracy Statistics**"
      ]
    },
    {
      "cell_type": "markdown",
      "metadata": {
        "id": "9v46QJuBCyTA"
      },
      "source": [
        "**Accuracy** <br>\n",
        "Accuracy is the most intuitive performance measure and it is simply a ratio of correctly predicted observation to the total observations. One may think that, if we have high accuracy then our model is best. Yes, accuracy is a great measure but only when you have symmetric datasets where values of false positive and false negatives are almost same. Therefore, you have to look at other parameters to evaluate the performance of your model. For example, a 0.75 or greater means our model is at least 75% accurate, which is very good.\n",
        "\n",
        "Accuracy = TP+TN/TP+FP+FN+TN\n",
        "\n",
        "**Precision (Specificity)** <br>\n",
        "Precision is the ratio of correctly predicted positive observations over the total of both the correclty and incorrectly predicted positive observations. The question that this metric answer is of all wires that are labeled as fraud, how many are actually fraud? High precision relates to the low false positive rate. For example, a 0.75 precision translates into a very precise prediction.\n",
        "\n",
        "Precision = TP/TP+FP\n",
        "\n",
        "**Recall (Sensitivity)** <br>\n",
        "Recall is the ratio of correctly predicted positive observations over the total of the correclty predicted positive and incorrectly predicted negative observations. The question recall answers is of all the wires that are truly fraud, how many did we labeled? For example, a recall of 0.631 means that our model is good because it is above the threshold of 0.5.\n",
        "\n",
        "Recall = TP/TP+FN\n",
        "\n",
        "**F1 score** <br>\n",
        "F1 Score is the weighted average of Precision and Recall. Therefore, this score takes both false positives and false negatives into account. Intuitively it is not as easy to understand as accuracy, but F1 is usually more useful than accuracy, especially if you have an uneven class distribution. Accuracy works best if false positives and false negatives have similar cost. If the cost of false positives and false negatives are very different, it’s better to look at both Precision and Recall.\n",
        "\n",
        "F1 Score = 2*(Recall * Precision) / (Recall + Precision)"
      ]
    },
    {
      "cell_type": "markdown",
      "metadata": {
        "id": "D3twS7LwWTmx"
      },
      "source": [
        "#### ***North America***"
      ]
    },
    {
      "cell_type": "code",
      "metadata": {
        "id": "WTamYu6NaOpx",
        "colab": {
          "base_uri": "https://localhost:8080/"
        },
        "outputId": "f24d5f36-f2e0-4628-b043-45b9e61a0c6b"
      },
      "source": [
        "NN_103_output_df_y_train.shape # before SMOTE original y train"
      ],
      "execution_count": 33,
      "outputs": [
        {
          "output_type": "execute_result",
          "data": {
            "text/plain": [
              "(70000, 1)"
            ]
          },
          "metadata": {
            "tags": []
          },
          "execution_count": 33
        }
      ]
    },
    {
      "cell_type": "code",
      "metadata": {
        "id": "7Lz4OaQyWauT",
        "colab": {
          "base_uri": "https://localhost:8080/"
        },
        "outputId": "9d861366-810d-4aa8-e51c-f0a890504a9d"
      },
      "source": [
        "NN_103_output_df_y_train[NN_103_output_df_y_train['FRAUD_LABEL']>=1].shape # # before SMOTE original y train"
      ],
      "execution_count": 34,
      "outputs": [
        {
          "output_type": "execute_result",
          "data": {
            "text/plain": [
              "(549, 1)"
            ]
          },
          "metadata": {
            "tags": []
          },
          "execution_count": 34
        }
      ]
    },
    {
      "cell_type": "code",
      "metadata": {
        "id": "QsO_HrA7Jm8C",
        "colab": {
          "base_uri": "https://localhost:8080/"
        },
        "outputId": "2317f96b-51c6-43ee-ebaf-374eb8ad6078"
      },
      "source": [
        "NN_103_sm_output_df_y_train.shape # original y train"
      ],
      "execution_count": 35,
      "outputs": [
        {
          "output_type": "execute_result",
          "data": {
            "text/plain": [
              "(138902, 1)"
            ]
          },
          "metadata": {
            "tags": []
          },
          "execution_count": 35
        }
      ]
    },
    {
      "cell_type": "code",
      "metadata": {
        "id": "E_ysFMs4V5Ct",
        "colab": {
          "base_uri": "https://localhost:8080/"
        },
        "outputId": "b6af8481-63dd-4247-ef78-37704effb243"
      },
      "source": [
        "NN_103_sm_output_df_y_train[NN_103_sm_output_df_y_train['FRAUD_LABEL']>=1].shape # original y train prediction filter"
      ],
      "execution_count": 36,
      "outputs": [
        {
          "output_type": "execute_result",
          "data": {
            "text/plain": [
              "(69451, 1)"
            ]
          },
          "metadata": {
            "tags": []
          },
          "execution_count": 36
        }
      ]
    },
    {
      "cell_type": "code",
      "metadata": {
        "id": "0eW2oV9gIZ-1",
        "colab": {
          "base_uri": "https://localhost:8080/"
        },
        "outputId": "8b4cf297-26a8-4f3e-9a69-5d1477180845"
      },
      "source": [
        "NN_103_sm_output_ann_y_pred_train.shape # ann y train level 1 predictions"
      ],
      "execution_count": 37,
      "outputs": [
        {
          "output_type": "execute_result",
          "data": {
            "text/plain": [
              "(138902,)"
            ]
          },
          "metadata": {
            "tags": []
          },
          "execution_count": 37
        }
      ]
    },
    {
      "cell_type": "code",
      "metadata": {
        "id": "93YonJbdIexM",
        "colab": {
          "base_uri": "https://localhost:8080/"
        },
        "outputId": "6500f0c9-5b4d-4902-ba23-2ebede0b5f7a"
      },
      "source": [
        "NN_103_sm_output_rf_y_pred_train.shape # random forest y train level 1 predictions"
      ],
      "execution_count": 38,
      "outputs": [
        {
          "output_type": "execute_result",
          "data": {
            "text/plain": [
              "(138902,)"
            ]
          },
          "metadata": {
            "tags": []
          },
          "execution_count": 38
        }
      ]
    },
    {
      "cell_type": "code",
      "metadata": {
        "id": "Np4dRY2cHH9T",
        "colab": {
          "base_uri": "https://localhost:8080/"
        },
        "outputId": "b8669154-13d6-4a89-c1cd-f1bb0b70d463"
      },
      "source": [
        "NN_103_sm_output_ann_y_pred_train[NN_103_sm_output_ann_y_pred_train>=1].shape # ann y train level 1 prediction filter"
      ],
      "execution_count": 39,
      "outputs": [
        {
          "output_type": "execute_result",
          "data": {
            "text/plain": [
              "(373,)"
            ]
          },
          "metadata": {
            "tags": []
          },
          "execution_count": 39
        }
      ]
    },
    {
      "cell_type": "code",
      "metadata": {
        "id": "lhngx1fGIBD6",
        "colab": {
          "base_uri": "https://localhost:8080/"
        },
        "outputId": "963e8ab4-9508-45c3-9e62-86b4e724743b"
      },
      "source": [
        "NN_103_sm_output_rf_y_pred_train[NN_103_sm_output_rf_y_pred_train>=1].shape  # random forest y train level 1 prediction filter"
      ],
      "execution_count": 40,
      "outputs": [
        {
          "output_type": "execute_result",
          "data": {
            "text/plain": [
              "(97,)"
            ]
          },
          "metadata": {
            "tags": []
          },
          "execution_count": 40
        }
      ]
    },
    {
      "cell_type": "code",
      "metadata": {
        "id": "bOBSY40_DUWy",
        "colab": {
          "base_uri": "https://localhost:8080/"
        },
        "outputId": "fe406782-74b7-4d74-d9af-8152b7c0f60d"
      },
      "source": [
        "NN_103_sm_output_ensemble_x_train_df.shape # level 2 x train"
      ],
      "execution_count": 41,
      "outputs": [
        {
          "output_type": "execute_result",
          "data": {
            "text/plain": [
              "(138902, 2)"
            ]
          },
          "metadata": {
            "tags": []
          },
          "execution_count": 41
        }
      ]
    },
    {
      "cell_type": "code",
      "metadata": {
        "id": "7m2tvVddMZFi",
        "colab": {
          "base_uri": "https://localhost:8080/"
        },
        "outputId": "1ee2f43b-bc04-4dcb-fa73-3ae4b99e3fa1"
      },
      "source": [
        "NN_103_sm_output_ensemble_x_train_df.shape # level 2 x train "
      ],
      "execution_count": 42,
      "outputs": [
        {
          "output_type": "execute_result",
          "data": {
            "text/plain": [
              "(138902, 2)"
            ]
          },
          "metadata": {
            "tags": []
          },
          "execution_count": 42
        }
      ]
    },
    {
      "cell_type": "code",
      "metadata": {
        "id": "oXcNF2fsUL4b",
        "colab": {
          "base_uri": "https://localhost:8080/"
        },
        "outputId": "f347e077-71f8-43d9-c241-2197ecdf2685"
      },
      "source": [
        "NN_103_sm_output_df_y_train.shape # level 2 y train "
      ],
      "execution_count": 43,
      "outputs": [
        {
          "output_type": "execute_result",
          "data": {
            "text/plain": [
              "(138902, 1)"
            ]
          },
          "metadata": {
            "tags": []
          },
          "execution_count": 43
        }
      ]
    },
    {
      "cell_type": "code",
      "metadata": {
        "id": "MeqqxrBvXBCR",
        "colab": {
          "base_uri": "https://localhost:8080/"
        },
        "outputId": "c5ade13e-6181-4fc4-d935-2acd84df4d6e"
      },
      "source": [
        "NN_103_sm_output_ensemble_x_train_df[NN_103_sm_output_ensemble_x_train_df['ANN']>=1].shape # level 2 x train ANN filter"
      ],
      "execution_count": 44,
      "outputs": [
        {
          "output_type": "execute_result",
          "data": {
            "text/plain": [
              "(373, 2)"
            ]
          },
          "metadata": {
            "tags": []
          },
          "execution_count": 44
        }
      ]
    },
    {
      "cell_type": "code",
      "metadata": {
        "id": "n0RDr0mECwRF",
        "colab": {
          "base_uri": "https://localhost:8080/"
        },
        "outputId": "52e99049-eb4e-4a88-d77c-da4ff3a9dc92"
      },
      "source": [
        "NN_103_sm_output_ensemble_x_train_df[NN_103_sm_output_ensemble_x_train_df['RF']>=1].shape# level 2 x train RF filter"
      ],
      "execution_count": 45,
      "outputs": [
        {
          "output_type": "execute_result",
          "data": {
            "text/plain": [
              "(97, 2)"
            ]
          },
          "metadata": {
            "tags": []
          },
          "execution_count": 45
        }
      ]
    },
    {
      "cell_type": "code",
      "metadata": {
        "id": "N22mLr1CTzjB",
        "colab": {
          "base_uri": "https://localhost:8080/"
        },
        "outputId": "5a6a9907-717c-4925-cf5f-3f8bff3b1c6e"
      },
      "source": [
        "NN_103_sm_output_ensemble_x_test_df.shape # level 2 x test "
      ],
      "execution_count": 46,
      "outputs": [
        {
          "output_type": "execute_result",
          "data": {
            "text/plain": [
              "(59582, 2)"
            ]
          },
          "metadata": {
            "tags": []
          },
          "execution_count": 46
        }
      ]
    },
    {
      "cell_type": "code",
      "metadata": {
        "id": "zjl3ADPTs1G4",
        "colab": {
          "base_uri": "https://localhost:8080/"
        },
        "outputId": "7a7339e0-12b7-4de7-b4bc-7dbd5f7cef7f"
      },
      "source": [
        "NN_103_sm_output_ensemble_x_test_df[NN_103_sm_output_ensemble_x_test_df['ANN']>=1].shape # level 2 x test ANN filter"
      ],
      "execution_count": 47,
      "outputs": [
        {
          "output_type": "execute_result",
          "data": {
            "text/plain": [
              "(166, 2)"
            ]
          },
          "metadata": {
            "tags": []
          },
          "execution_count": 47
        }
      ]
    },
    {
      "cell_type": "code",
      "metadata": {
        "id": "-c1OTHies1HH",
        "colab": {
          "base_uri": "https://localhost:8080/"
        },
        "outputId": "1ab631b8-c26d-4321-cf4e-c2f8831214a3"
      },
      "source": [
        "NN_103_sm_output_ensemble_x_test_df[NN_103_sm_output_ensemble_x_test_df['RF']>=1].shape# level 2 x test RF filter"
      ],
      "execution_count": 48,
      "outputs": [
        {
          "output_type": "execute_result",
          "data": {
            "text/plain": [
              "(54, 2)"
            ]
          },
          "metadata": {
            "tags": []
          },
          "execution_count": 48
        }
      ]
    },
    {
      "cell_type": "code",
      "metadata": {
        "id": "Uj-NOzgfMK8T",
        "colab": {
          "base_uri": "https://localhost:8080/"
        },
        "outputId": "816a3e73-96a5-4be1-b2c8-8cf5f3b53bad"
      },
      "source": [
        "NN_103_sm_output_final_pred.shape # level 2 predictions"
      ],
      "execution_count": 49,
      "outputs": [
        {
          "output_type": "execute_result",
          "data": {
            "text/plain": [
              "(59582,)"
            ]
          },
          "metadata": {
            "tags": []
          },
          "execution_count": 49
        }
      ]
    },
    {
      "cell_type": "code",
      "metadata": {
        "id": "2plv7wH4MnmW",
        "colab": {
          "base_uri": "https://localhost:8080/"
        },
        "outputId": "77a74fbc-3a39-4a07-a772-95be68928aac"
      },
      "source": [
        "NN_103_sm_output_final_pred[NN_103_sm_output_final_pred>=1].shape # level 2 predictions filter"
      ],
      "execution_count": 50,
      "outputs": [
        {
          "output_type": "execute_result",
          "data": {
            "text/plain": [
              "(59410,)"
            ]
          },
          "metadata": {
            "tags": []
          },
          "execution_count": 50
        }
      ]
    },
    {
      "cell_type": "markdown",
      "metadata": {
        "id": "C4H6GeJvEq4j"
      },
      "source": [
        "#### MT103"
      ]
    },
    {
      "cell_type": "code",
      "metadata": {
        "id": "8q5TF-K5XAMd",
        "colab": {
          "base_uri": "https://localhost:8080/"
        },
        "outputId": "8745b762-7642-48ca-eb16-bdb7956d9dbe"
      },
      "source": [
        "print(confusion_matrix(NN_103_sm_output_df_y_test,NN_103_sm_output_final_pred))\n",
        "print(classification_report(NN_103_sm_output_df_y_test,NN_103_sm_output_final_pred))"
      ],
      "execution_count": 51,
      "outputs": [
        {
          "output_type": "stream",
          "text": [
            "[[  172 29619]\n",
            " [    0 29791]]\n",
            "              precision    recall  f1-score   support\n",
            "\n",
            "           0       1.00      0.01      0.01     29791\n",
            "           1       0.50      1.00      0.67     29791\n",
            "\n",
            "    accuracy                           0.50     59582\n",
            "   macro avg       0.75      0.50      0.34     59582\n",
            "weighted avg       0.75      0.50      0.34     59582\n",
            "\n"
          ],
          "name": "stdout"
        }
      ]
    },
    {
      "cell_type": "markdown",
      "metadata": {
        "id": "6kKbMPWyFJud"
      },
      "source": [
        "#### MT202"
      ]
    },
    {
      "cell_type": "code",
      "metadata": {
        "id": "1aw30Qc3FJud",
        "colab": {
          "base_uri": "https://localhost:8080/"
        },
        "outputId": "0d806298-2000-4150-8a5a-aac13ec99d06"
      },
      "source": [
        "print(confusion_matrix(NN_202_sm_output_df_y_test,NN_202_sm_output_final_pred))\n",
        "print(classification_report(NN_202_sm_output_df_y_test,NN_202_sm_output_final_pred))"
      ],
      "execution_count": 52,
      "outputs": [
        {
          "output_type": "stream",
          "text": [
            "[[  216 29583]\n",
            " [    0 29799]]\n",
            "              precision    recall  f1-score   support\n",
            "\n",
            "           0       1.00      0.01      0.01     29799\n",
            "           1       0.50      1.00      0.67     29799\n",
            "\n",
            "    accuracy                           0.50     59598\n",
            "   macro avg       0.75      0.50      0.34     59598\n",
            "weighted avg       0.75      0.50      0.34     59598\n",
            "\n"
          ],
          "name": "stdout"
        }
      ]
    },
    {
      "cell_type": "markdown",
      "metadata": {
        "id": "ReeJ35ruWUgg"
      },
      "source": [
        "#### ***Europe***"
      ]
    },
    {
      "cell_type": "markdown",
      "metadata": {
        "id": "-iVjtupxFoxM"
      },
      "source": [
        "#### MT103"
      ]
    },
    {
      "cell_type": "code",
      "metadata": {
        "id": "ylIcN4bWFoxU",
        "colab": {
          "base_uri": "https://localhost:8080/"
        },
        "outputId": "e6ae3e5c-0be3-4ea0-cdfa-d3bd88455418"
      },
      "source": [
        "print(confusion_matrix(EU_103_sm_output_df_y_test,EU_103_sm_output_final_pred))\n",
        "print(classification_report(EU_103_sm_output_df_y_test,EU_103_sm_output_final_pred))"
      ],
      "execution_count": 53,
      "outputs": [
        {
          "output_type": "stream",
          "text": [
            "[[27430  2426]\n",
            " [27521  2335]]\n",
            "              precision    recall  f1-score   support\n",
            "\n",
            "           0       0.50      0.92      0.65     29856\n",
            "           1       0.49      0.08      0.13     29856\n",
            "\n",
            "    accuracy                           0.50     59712\n",
            "   macro avg       0.49      0.50      0.39     59712\n",
            "weighted avg       0.49      0.50      0.39     59712\n",
            "\n"
          ],
          "name": "stdout"
        }
      ]
    },
    {
      "cell_type": "markdown",
      "metadata": {
        "id": "fYu83cKcFoxU"
      },
      "source": [
        "#### MT202"
      ]
    },
    {
      "cell_type": "code",
      "metadata": {
        "id": "vBOZXsiPFoxV",
        "colab": {
          "base_uri": "https://localhost:8080/"
        },
        "outputId": "e11f6ac7-d26e-4810-c547-45a88a3a850a"
      },
      "source": [
        "print(confusion_matrix(EU_202_sm_output_df_y_test,EU_202_sm_output_final_pred))\n",
        "print(classification_report(EU_202_sm_output_df_y_test,EU_202_sm_output_final_pred))"
      ],
      "execution_count": 54,
      "outputs": [
        {
          "output_type": "stream",
          "text": [
            "[[27476  2402]\n",
            " [26962  2916]]\n",
            "              precision    recall  f1-score   support\n",
            "\n",
            "           0       0.50      0.92      0.65     29878\n",
            "           1       0.55      0.10      0.17     29878\n",
            "\n",
            "    accuracy                           0.51     59756\n",
            "   macro avg       0.53      0.51      0.41     59756\n",
            "weighted avg       0.53      0.51      0.41     59756\n",
            "\n"
          ],
          "name": "stdout"
        }
      ]
    },
    {
      "cell_type": "markdown",
      "metadata": {
        "id": "BdJA2f7gWUxf"
      },
      "source": [
        "#### ***Asia***"
      ]
    },
    {
      "cell_type": "markdown",
      "metadata": {
        "id": "-kcddJwRF9K9"
      },
      "source": [
        "#### MT103"
      ]
    },
    {
      "cell_type": "code",
      "metadata": {
        "id": "fUfE_u-oF9LF",
        "colab": {
          "base_uri": "https://localhost:8080/"
        },
        "outputId": "26466cb9-cf73-4ead-b961-9407d4282c60"
      },
      "source": [
        "print(confusion_matrix(AS_103_sm_output_df_y_test,AS_103_sm_output_final_pred))\n",
        "print(classification_report(AS_103_sm_output_df_y_test,AS_103_sm_output_final_pred))"
      ],
      "execution_count": 55,
      "outputs": [
        {
          "output_type": "stream",
          "text": [
            "[[27430  2426]\n",
            " [27521  2335]]\n",
            "              precision    recall  f1-score   support\n",
            "\n",
            "           0       0.50      0.92      0.65     29856\n",
            "           1       0.49      0.08      0.13     29856\n",
            "\n",
            "    accuracy                           0.50     59712\n",
            "   macro avg       0.49      0.50      0.39     59712\n",
            "weighted avg       0.49      0.50      0.39     59712\n",
            "\n"
          ],
          "name": "stdout"
        }
      ]
    },
    {
      "cell_type": "markdown",
      "metadata": {
        "id": "bC78w7-uF9LF"
      },
      "source": [
        "#### MT202"
      ]
    },
    {
      "cell_type": "code",
      "metadata": {
        "id": "EOMEbtZeF9LG",
        "colab": {
          "base_uri": "https://localhost:8080/"
        },
        "outputId": "81845498-6a10-4425-be79-06429aad08cb"
      },
      "source": [
        "print(confusion_matrix(AS_202_sm_output_df_y_test,AS_202_sm_output_final_pred))\n",
        "print(classification_report(AS_202_sm_output_df_y_test,AS_202_sm_output_final_pred))"
      ],
      "execution_count": 56,
      "outputs": [
        {
          "output_type": "stream",
          "text": [
            "[[27476  2402]\n",
            " [26962  2916]]\n",
            "              precision    recall  f1-score   support\n",
            "\n",
            "           0       0.50      0.92      0.65     29878\n",
            "           1       0.55      0.10      0.17     29878\n",
            "\n",
            "    accuracy                           0.51     59756\n",
            "   macro avg       0.53      0.51      0.41     59756\n",
            "weighted avg       0.53      0.51      0.41     59756\n",
            "\n"
          ],
          "name": "stdout"
        }
      ]
    },
    {
      "cell_type": "markdown",
      "metadata": {
        "id": "EuTWuYNpZxRa"
      },
      "source": [
        "## **Backup Final Results for Rule Tuning**"
      ]
    },
    {
      "cell_type": "code",
      "metadata": {
        "id": "koXciS14Z6GX"
      },
      "source": [
        "np.savetxt('/content/gdrive/MyDrive/DSC-380/NN_103_sm_output_df_y_test.csv', NN_103_sm_output_df_y_test, delimiter=',')\n",
        "np.savetxt('/content/gdrive/MyDrive/DSC-380/NN_103_sm_output_final_pred.csv', NN_103_sm_output_final_pred, delimiter=',')\n",
        "np.savetxt('/content/gdrive/MyDrive/DSC-380/NN_202_sm_output_df_y_test.csv', NN_202_sm_output_df_y_test, delimiter=',')\n",
        "np.savetxt('/content/gdrive/MyDrive/DSC-380/NN_202_sm_output_final_pred.csv', NN_202_sm_output_final_pred, delimiter=',')\n",
        "np.savetxt('/content/gdrive/MyDrive/DSC-380/EU_103_sm_output_df_y_test.csv', EU_103_sm_output_df_y_test, delimiter=',')\n",
        "np.savetxt('/content/gdrive/MyDrive/DSC-380/EU_103_sm_output_final_pred.csv', EU_103_sm_output_final_pred, delimiter=',')\n",
        "np.savetxt('/content/gdrive/MyDrive/DSC-380/EU_202_sm_output_df_y_test.csv', EU_202_sm_output_df_y_test, delimiter=',')\n",
        "np.savetxt('/content/gdrive/MyDrive/DSC-380/EU_202_sm_output_final_pred.csv', EU_202_sm_output_final_pred, delimiter=',')\n",
        "np.savetxt('/content/gdrive/MyDrive/DSC-380/AS_103_sm_output_df_y_test.csv', AS_103_sm_output_df_y_test, delimiter=',')\n",
        "np.savetxt('/content/gdrive/MyDrive/DSC-380/AS_103_sm_output_final_pred.csv', AS_103_sm_output_final_pred, delimiter=',')\n",
        "np.savetxt('/content/gdrive/MyDrive/DSC-380/AS_202_sm_output_df_y_test.csv', AS_202_sm_output_df_y_test, delimiter=',')\n",
        "np.savetxt('/content/gdrive/MyDrive/DSC-380/AS_202_sm_output_final_pred.csv', AS_202_sm_output_final_pred, delimiter=',')"
      ],
      "execution_count": 57,
      "outputs": []
    },
    {
      "cell_type": "code",
      "metadata": {
        "id": "ymjp5JbOQEzc"
      },
      "source": [
        ""
      ],
      "execution_count": 57,
      "outputs": []
    }
  ]
}